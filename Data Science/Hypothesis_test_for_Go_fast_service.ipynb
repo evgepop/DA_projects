{
 "cells": [
  {
   "cell_type": "markdown",
   "id": "57f829e5",
   "metadata": {},
   "source": [
    "# Исследование сервиса аренды самокатов GoFast. Проверка гипотез о поведении пользователей."
   ]
  },
  {
   "cell_type": "markdown",
   "id": "bc963bb0",
   "metadata": {},
   "source": [
    "Исследуем данные сервиса аренды самокатов GoFast о пользователях из нескольких городов, а также об их поездках. Проанализируем данные, проведем тесты, проверим некоторые гипотезы, которые могут помочь бизнесу вырасти.\n",
    "\n",
    "Чтобы совершать поездки по городу, пользователи сервиса GoFast пользуются мобильным приложением. Сервисом можно пользоваться:\n",
    "\n",
    "-\t**без подписки** \n",
    "\n",
    "\tабонентская плата отсутствует;\n",
    "\n",
    "\tстоимость одной минуты поездки — 88 рублей;\n",
    "\n",
    "\tстоимость старта (начала поездки) — 50 рублей;\n",
    "    \n",
    "\n",
    "-\t**с подпиской Ultra** \n",
    "\n",
    "\tабонентская плата — 199 рублей в месяц;\n",
    "\n",
    "\tстоимость одной минуты поездки — 66 рублей;\n",
    "\n",
    "\tстоимость старта — бесплатно.\n",
    "\n",
    "**Описание данных:**\n",
    "\n",
    "В основных данных есть информация о пользователях, их поездках и подписках.\n",
    "\n",
    "Пользователи — users_go.csv\n",
    "\n",
    "\t\n",
    "- user_id\tуникальный идентификатор пользователя\n",
    "\n",
    "- name\tимя пользователя\n",
    "\n",
    "- age\tвозраст\n",
    "\n",
    "- city\tгород\n",
    "\n",
    "- subscription_type\tтип подписки (free, ultra)\n",
    "\n",
    "\n",
    "Поездки — rides_go.csv\n",
    "\n",
    "\t\n",
    "- user_id\tуникальный идентификатор пользователя\n",
    "\n",
    "- distance\tрасстояние, которое пользователь проехал в текущей сессии (в метрах)\n",
    "\n",
    "- duration\tпродолжительность сессии (в минутах) — время с того момента, как пользователь нажал кнопку «Начать поездку» до момента, как он нажал кнопку «Завершить поездку»\n",
    "\n",
    "- date\tдата совершения поездки\n",
    "\n",
    "\n",
    "Подписки — subscriptions_go.csv\n",
    "\n",
    "\t\n",
    "- subscription_type\tтип подписки\n",
    "\n",
    "- minute_price\tстоимость одной минуты поездки по данной подписке\n",
    "\n",
    "- start_ride_price\tстоимость начала поездки\n",
    "\n",
    "- subscription_fee\tстоимость ежемесячного платежа\n",
    "\n"
   ]
  },
  {
   "cell_type": "markdown",
   "id": "095085dc",
   "metadata": {},
   "source": [
    "**Цели проекта:** Провести исследовательский и статистический анализ данных о пользователях и поездках, выявив ключевые характеристики, такие как частота встречаемости городов и соотношение пользователей с подпиской и без подписки. Анализ выручки и проверки гипотез, связанных с поведением пользователей и их влиянием на бизнес-модель сервиса."
   ]
  },
  {
   "cell_type": "markdown",
   "id": "d1bca686",
   "metadata": {},
   "source": [
    "**План работы:** \n",
    "\n",
    "1. Загрузка и изучение данных:\n",
    "\n",
    "   - Считать CSV-файлы с данными с помощью библиотеки pandas и сохраните их в датафреймы. Пути к файлам:\n",
    "\t     /datasets/users_go.csv\n",
    "\t     /datasets/rides_go.csv\n",
    "\t     /datasets/subscriptions_go.csv\n",
    "   - Вывести первые строки каждого набора данных. Изучить общую информацию о каждом датафрейме.\n",
    "\n",
    "\n",
    "2. Предобработка данных\n",
    "\n",
    "   - Привести столбец date к типу даты pandas.\n",
    "   - Создать новый столбец с номером месяца на основе столбца date.\n",
    "   - Проверить наличие пропущенных значений и дубликатов в датафреймах. Обработать их, если такие значения присутствуют.\n",
    "   \n",
    "\n",
    "3. Исследовательский анализ данных:\n",
    "\n",
    "   - Частота встречаемости городов.\n",
    "   - Соотношение пользователей с подпиской и без подписки.\n",
    "   - Возраст пользователей.\n",
    "   - Расстояние, преодолеваемое за одну поездку.\n",
    "   - Продолжительность поездок.\n",
    "   \n",
    "\n",
    "4. Объединение данных:\n",
    "\n",
    "   - Использование метода merge() для объединения данных о пользователях, поездках и подписках.\n",
    "   - Создание отдельных датафреймов для пользователей с подпиской и без нее.\n",
    "   - Визуализация расстояния и времени поездок для обеих категорий.\n",
    "   \n",
    "\n",
    "5. Подсчёт выручки:\n",
    "\n",
    "   - Создание агрегированного датафрейма с суммарным расстоянием, количеством поездок и временем за месяц.\n",
    "   - Добавление столбца с помесячной выручкой на основе условий оплаты.\n",
    "   \n",
    "\n",
    "6. Проверка гипотез:\n",
    "\n",
    "   - Анализ времени поездок пользователей с подпиской по сравнению с пользователями без подписки.\n",
    "   - Проверка, превышает ли среднее расстояние поездки пользователей с подпиской 3130 метров.\n",
    "   - Сравнение помесячной выручки от пользователей с подпиской и без подписки.\n",
    "   - Определение теста для проверки гипотезы о снижении обращений в техподдержку после обновления серверов.\n",
    "   \n",
    "   \n",
    "7. Дополнительные задания."
   ]
  },
  {
   "cell_type": "markdown",
   "id": "c42cbe00",
   "metadata": {},
   "source": [
    "## Загрузка и изучение данных"
   ]
  },
  {
   "cell_type": "code",
   "execution_count": 1,
   "id": "eff9f206",
   "metadata": {},
   "outputs": [],
   "source": [
    "import pandas as pd\n",
    "import matplotlib.pyplot as plt \n",
    "import seaborn as sns\n",
    "import numpy as np\n",
    "from scipy.stats import binom, norm\n",
    "from scipy import stats as st"
   ]
  },
  {
   "cell_type": "code",
   "execution_count": 2,
   "id": "cd268f14",
   "metadata": {},
   "outputs": [
    {
     "data": {
      "text/html": [
       "<div>\n",
       "<style scoped>\n",
       "    .dataframe tbody tr th:only-of-type {\n",
       "        vertical-align: middle;\n",
       "    }\n",
       "\n",
       "    .dataframe tbody tr th {\n",
       "        vertical-align: top;\n",
       "    }\n",
       "\n",
       "    .dataframe thead th {\n",
       "        text-align: right;\n",
       "    }\n",
       "</style>\n",
       "<table border=\"1\" class=\"dataframe\">\n",
       "  <thead>\n",
       "    <tr style=\"text-align: right;\">\n",
       "      <th></th>\n",
       "      <th>user_id</th>\n",
       "      <th>name</th>\n",
       "      <th>age</th>\n",
       "      <th>city</th>\n",
       "      <th>subscription_type</th>\n",
       "    </tr>\n",
       "  </thead>\n",
       "  <tbody>\n",
       "    <tr>\n",
       "      <th>0</th>\n",
       "      <td>1</td>\n",
       "      <td>Кира</td>\n",
       "      <td>22</td>\n",
       "      <td>Тюмень</td>\n",
       "      <td>ultra</td>\n",
       "    </tr>\n",
       "    <tr>\n",
       "      <th>1</th>\n",
       "      <td>2</td>\n",
       "      <td>Станислав</td>\n",
       "      <td>31</td>\n",
       "      <td>Омск</td>\n",
       "      <td>ultra</td>\n",
       "    </tr>\n",
       "    <tr>\n",
       "      <th>2</th>\n",
       "      <td>3</td>\n",
       "      <td>Алексей</td>\n",
       "      <td>20</td>\n",
       "      <td>Москва</td>\n",
       "      <td>ultra</td>\n",
       "    </tr>\n",
       "    <tr>\n",
       "      <th>3</th>\n",
       "      <td>4</td>\n",
       "      <td>Константин</td>\n",
       "      <td>26</td>\n",
       "      <td>Ростов-на-Дону</td>\n",
       "      <td>ultra</td>\n",
       "    </tr>\n",
       "    <tr>\n",
       "      <th>4</th>\n",
       "      <td>5</td>\n",
       "      <td>Адель</td>\n",
       "      <td>28</td>\n",
       "      <td>Омск</td>\n",
       "      <td>ultra</td>\n",
       "    </tr>\n",
       "    <tr>\n",
       "      <th>5</th>\n",
       "      <td>6</td>\n",
       "      <td>Регина</td>\n",
       "      <td>25</td>\n",
       "      <td>Краснодар</td>\n",
       "      <td>ultra</td>\n",
       "    </tr>\n",
       "    <tr>\n",
       "      <th>6</th>\n",
       "      <td>7</td>\n",
       "      <td>Игорь</td>\n",
       "      <td>23</td>\n",
       "      <td>Омск</td>\n",
       "      <td>ultra</td>\n",
       "    </tr>\n",
       "    <tr>\n",
       "      <th>7</th>\n",
       "      <td>8</td>\n",
       "      <td>Юрий</td>\n",
       "      <td>23</td>\n",
       "      <td>Краснодар</td>\n",
       "      <td>ultra</td>\n",
       "    </tr>\n",
       "    <tr>\n",
       "      <th>8</th>\n",
       "      <td>9</td>\n",
       "      <td>Ян</td>\n",
       "      <td>21</td>\n",
       "      <td>Пятигорск</td>\n",
       "      <td>ultra</td>\n",
       "    </tr>\n",
       "    <tr>\n",
       "      <th>9</th>\n",
       "      <td>10</td>\n",
       "      <td>Валерий</td>\n",
       "      <td>18</td>\n",
       "      <td>Екатеринбург</td>\n",
       "      <td>ultra</td>\n",
       "    </tr>\n",
       "  </tbody>\n",
       "</table>\n",
       "</div>"
      ],
      "text/plain": [
       "   user_id        name  age            city subscription_type\n",
       "0        1        Кира   22          Тюмень             ultra\n",
       "1        2   Станислав   31            Омск             ultra\n",
       "2        3     Алексей   20          Москва             ultra\n",
       "3        4  Константин   26  Ростов-на-Дону             ultra\n",
       "4        5       Адель   28            Омск             ultra\n",
       "5        6      Регина   25       Краснодар             ultra\n",
       "6        7       Игорь   23            Омск             ultra\n",
       "7        8        Юрий   23       Краснодар             ultra\n",
       "8        9          Ян   21       Пятигорск             ultra\n",
       "9       10     Валерий   18    Екатеринбург             ultra"
      ]
     },
     "execution_count": 2,
     "metadata": {},
     "output_type": "execute_result"
    }
   ],
   "source": [
    "users = pd.read_csv('users_go.csv')\n",
    "users.head(10)"
   ]
  },
  {
   "cell_type": "code",
   "execution_count": 3,
   "id": "2cc59040",
   "metadata": {},
   "outputs": [
    {
     "name": "stdout",
     "output_type": "stream",
     "text": [
      "<class 'pandas.core.frame.DataFrame'>\n",
      "RangeIndex: 1565 entries, 0 to 1564\n",
      "Data columns (total 5 columns):\n",
      " #   Column             Non-Null Count  Dtype \n",
      "---  ------             --------------  ----- \n",
      " 0   user_id            1565 non-null   int64 \n",
      " 1   name               1565 non-null   object\n",
      " 2   age                1565 non-null   int64 \n",
      " 3   city               1565 non-null   object\n",
      " 4   subscription_type  1565 non-null   object\n",
      "dtypes: int64(2), object(3)\n",
      "memory usage: 61.3+ KB\n"
     ]
    }
   ],
   "source": [
    "users.info()"
   ]
  },
  {
   "cell_type": "code",
   "execution_count": 4,
   "id": "4887dbd7",
   "metadata": {},
   "outputs": [
    {
     "data": {
      "text/html": [
       "<div>\n",
       "<style scoped>\n",
       "    .dataframe tbody tr th:only-of-type {\n",
       "        vertical-align: middle;\n",
       "    }\n",
       "\n",
       "    .dataframe tbody tr th {\n",
       "        vertical-align: top;\n",
       "    }\n",
       "\n",
       "    .dataframe thead th {\n",
       "        text-align: right;\n",
       "    }\n",
       "</style>\n",
       "<table border=\"1\" class=\"dataframe\">\n",
       "  <thead>\n",
       "    <tr style=\"text-align: right;\">\n",
       "      <th></th>\n",
       "      <th>user_id</th>\n",
       "      <th>distance</th>\n",
       "      <th>duration</th>\n",
       "      <th>date</th>\n",
       "    </tr>\n",
       "  </thead>\n",
       "  <tbody>\n",
       "    <tr>\n",
       "      <th>0</th>\n",
       "      <td>1</td>\n",
       "      <td>4409.919140</td>\n",
       "      <td>25.599769</td>\n",
       "      <td>2021-01-01</td>\n",
       "    </tr>\n",
       "    <tr>\n",
       "      <th>1</th>\n",
       "      <td>1</td>\n",
       "      <td>2617.592153</td>\n",
       "      <td>15.816871</td>\n",
       "      <td>2021-01-18</td>\n",
       "    </tr>\n",
       "    <tr>\n",
       "      <th>2</th>\n",
       "      <td>1</td>\n",
       "      <td>754.159807</td>\n",
       "      <td>6.232113</td>\n",
       "      <td>2021-04-20</td>\n",
       "    </tr>\n",
       "    <tr>\n",
       "      <th>3</th>\n",
       "      <td>1</td>\n",
       "      <td>2694.783254</td>\n",
       "      <td>18.511000</td>\n",
       "      <td>2021-08-11</td>\n",
       "    </tr>\n",
       "    <tr>\n",
       "      <th>4</th>\n",
       "      <td>1</td>\n",
       "      <td>4028.687306</td>\n",
       "      <td>26.265803</td>\n",
       "      <td>2021-08-28</td>\n",
       "    </tr>\n",
       "    <tr>\n",
       "      <th>5</th>\n",
       "      <td>1</td>\n",
       "      <td>2770.890808</td>\n",
       "      <td>16.650138</td>\n",
       "      <td>2021-10-09</td>\n",
       "    </tr>\n",
       "    <tr>\n",
       "      <th>6</th>\n",
       "      <td>1</td>\n",
       "      <td>3039.020292</td>\n",
       "      <td>14.927879</td>\n",
       "      <td>2021-10-19</td>\n",
       "    </tr>\n",
       "    <tr>\n",
       "      <th>7</th>\n",
       "      <td>1</td>\n",
       "      <td>2842.118050</td>\n",
       "      <td>23.117468</td>\n",
       "      <td>2021-11-06</td>\n",
       "    </tr>\n",
       "    <tr>\n",
       "      <th>8</th>\n",
       "      <td>1</td>\n",
       "      <td>3412.690668</td>\n",
       "      <td>15.238072</td>\n",
       "      <td>2021-11-14</td>\n",
       "    </tr>\n",
       "    <tr>\n",
       "      <th>9</th>\n",
       "      <td>1</td>\n",
       "      <td>748.690645</td>\n",
       "      <td>15.041884</td>\n",
       "      <td>2021-11-22</td>\n",
       "    </tr>\n",
       "  </tbody>\n",
       "</table>\n",
       "</div>"
      ],
      "text/plain": [
       "   user_id     distance   duration        date\n",
       "0        1  4409.919140  25.599769  2021-01-01\n",
       "1        1  2617.592153  15.816871  2021-01-18\n",
       "2        1   754.159807   6.232113  2021-04-20\n",
       "3        1  2694.783254  18.511000  2021-08-11\n",
       "4        1  4028.687306  26.265803  2021-08-28\n",
       "5        1  2770.890808  16.650138  2021-10-09\n",
       "6        1  3039.020292  14.927879  2021-10-19\n",
       "7        1  2842.118050  23.117468  2021-11-06\n",
       "8        1  3412.690668  15.238072  2021-11-14\n",
       "9        1   748.690645  15.041884  2021-11-22"
      ]
     },
     "execution_count": 4,
     "metadata": {},
     "output_type": "execute_result"
    }
   ],
   "source": [
    "rides = pd.read_csv('rides_go.csv')\n",
    "rides.head(10)"
   ]
  },
  {
   "cell_type": "code",
   "execution_count": 5,
   "id": "1260a408",
   "metadata": {},
   "outputs": [
    {
     "name": "stdout",
     "output_type": "stream",
     "text": [
      "<class 'pandas.core.frame.DataFrame'>\n",
      "RangeIndex: 18068 entries, 0 to 18067\n",
      "Data columns (total 4 columns):\n",
      " #   Column    Non-Null Count  Dtype  \n",
      "---  ------    --------------  -----  \n",
      " 0   user_id   18068 non-null  int64  \n",
      " 1   distance  18068 non-null  float64\n",
      " 2   duration  18068 non-null  float64\n",
      " 3   date      18068 non-null  object \n",
      "dtypes: float64(2), int64(1), object(1)\n",
      "memory usage: 564.8+ KB\n"
     ]
    }
   ],
   "source": [
    "rides.info()"
   ]
  },
  {
   "cell_type": "code",
   "execution_count": 6,
   "id": "9cacbe96",
   "metadata": {},
   "outputs": [
    {
     "data": {
      "text/html": [
       "<div>\n",
       "<style scoped>\n",
       "    .dataframe tbody tr th:only-of-type {\n",
       "        vertical-align: middle;\n",
       "    }\n",
       "\n",
       "    .dataframe tbody tr th {\n",
       "        vertical-align: top;\n",
       "    }\n",
       "\n",
       "    .dataframe thead th {\n",
       "        text-align: right;\n",
       "    }\n",
       "</style>\n",
       "<table border=\"1\" class=\"dataframe\">\n",
       "  <thead>\n",
       "    <tr style=\"text-align: right;\">\n",
       "      <th></th>\n",
       "      <th>subscription_type</th>\n",
       "      <th>minute_price</th>\n",
       "      <th>start_ride_price</th>\n",
       "      <th>subscription_fee</th>\n",
       "    </tr>\n",
       "  </thead>\n",
       "  <tbody>\n",
       "    <tr>\n",
       "      <th>0</th>\n",
       "      <td>free</td>\n",
       "      <td>8</td>\n",
       "      <td>50</td>\n",
       "      <td>0</td>\n",
       "    </tr>\n",
       "    <tr>\n",
       "      <th>1</th>\n",
       "      <td>ultra</td>\n",
       "      <td>6</td>\n",
       "      <td>0</td>\n",
       "      <td>199</td>\n",
       "    </tr>\n",
       "  </tbody>\n",
       "</table>\n",
       "</div>"
      ],
      "text/plain": [
       "  subscription_type  minute_price  start_ride_price  subscription_fee\n",
       "0              free             8                50                 0\n",
       "1             ultra             6                 0               199"
      ]
     },
     "execution_count": 6,
     "metadata": {},
     "output_type": "execute_result"
    }
   ],
   "source": [
    "subscriptions = pd.read_csv('subscriptions_go.csv')\n",
    "subscriptions.head()"
   ]
  },
  {
   "cell_type": "code",
   "execution_count": 7,
   "id": "8ea79a6b",
   "metadata": {},
   "outputs": [
    {
     "name": "stdout",
     "output_type": "stream",
     "text": [
      "<class 'pandas.core.frame.DataFrame'>\n",
      "RangeIndex: 2 entries, 0 to 1\n",
      "Data columns (total 4 columns):\n",
      " #   Column             Non-Null Count  Dtype \n",
      "---  ------             --------------  ----- \n",
      " 0   subscription_type  2 non-null      object\n",
      " 1   minute_price       2 non-null      int64 \n",
      " 2   start_ride_price   2 non-null      int64 \n",
      " 3   subscription_fee   2 non-null      int64 \n",
      "dtypes: int64(3), object(1)\n",
      "memory usage: 196.0+ bytes\n"
     ]
    }
   ],
   "source": [
    "subscriptions.info()"
   ]
  },
  {
   "cell_type": "markdown",
   "id": "429427e0",
   "metadata": {},
   "source": [
    "**Вывод: Подключены необходимые библиотеки для работы с данными и визуализации (Pandas, Matplotlib, Seaborn, NumPy, SciPy).\n",
    "Созданы три датафрейма. Данные включают информацию о 1565 пользователях, 18068 поездках и двух типах подписок.**"
   ]
  },
  {
   "cell_type": "markdown",
   "id": "e95ebca7",
   "metadata": {},
   "source": [
    "## Предобработка данных"
   ]
  },
  {
   "cell_type": "markdown",
   "id": "ae9cf655",
   "metadata": {},
   "source": [
    "### преобразуем столбец date к типу datetime с помощью pd.to_datetime"
   ]
  },
  {
   "cell_type": "code",
   "execution_count": 8,
   "id": "af6d202c",
   "metadata": {},
   "outputs": [
    {
     "data": {
      "text/plain": [
       "user_id              int64\n",
       "distance           float64\n",
       "duration           float64\n",
       "date        datetime64[ns]\n",
       "dtype: object"
      ]
     },
     "execution_count": 8,
     "metadata": {},
     "output_type": "execute_result"
    }
   ],
   "source": [
    "rides['date'] = pd.to_datetime(rides['date'])\n",
    "rides.dtypes"
   ]
  },
  {
   "cell_type": "markdown",
   "id": "92e4488f",
   "metadata": {},
   "source": [
    "### Создадим новый столбец с номером месяца"
   ]
  },
  {
   "cell_type": "code",
   "execution_count": 9,
   "id": "add8a01f",
   "metadata": {},
   "outputs": [],
   "source": [
    "rides['month'] = rides['date'].dt.month"
   ]
  },
  {
   "cell_type": "markdown",
   "id": "d071376c",
   "metadata": {},
   "source": [
    "### Проверим и обработаем пропущенные значений и дубликаты в датафреймах. "
   ]
  },
  {
   "cell_type": "code",
   "execution_count": 10,
   "id": "b52eb165",
   "metadata": {},
   "outputs": [
    {
     "data": {
      "text/plain": [
       "user_id              0\n",
       "name                 0\n",
       "age                  0\n",
       "city                 0\n",
       "subscription_type    0\n",
       "dtype: int64"
      ]
     },
     "execution_count": 10,
     "metadata": {},
     "output_type": "execute_result"
    }
   ],
   "source": [
    "users.isna().sum()"
   ]
  },
  {
   "cell_type": "code",
   "execution_count": 11,
   "id": "6b360683",
   "metadata": {},
   "outputs": [
    {
     "data": {
      "text/plain": [
       "user_id     0\n",
       "distance    0\n",
       "duration    0\n",
       "date        0\n",
       "month       0\n",
       "dtype: int64"
      ]
     },
     "execution_count": 11,
     "metadata": {},
     "output_type": "execute_result"
    }
   ],
   "source": [
    "rides.isna().sum()"
   ]
  },
  {
   "cell_type": "code",
   "execution_count": 12,
   "id": "34004149",
   "metadata": {},
   "outputs": [
    {
     "data": {
      "text/plain": [
       "subscription_type    0\n",
       "minute_price         0\n",
       "start_ride_price     0\n",
       "subscription_fee     0\n",
       "dtype: int64"
      ]
     },
     "execution_count": 12,
     "metadata": {},
     "output_type": "execute_result"
    }
   ],
   "source": [
    "subscriptions.isna().sum()"
   ]
  },
  {
   "cell_type": "markdown",
   "id": "2610c93f",
   "metadata": {},
   "source": [
    "**Нет пропущенных значений ни в одном из трех датафреймах. Их отсутствие говорит о том, что данные были собраны и записаны корректно.**"
   ]
  },
  {
   "cell_type": "markdown",
   "id": "76483b82",
   "metadata": {},
   "source": [
    "**Посмотрим, есть ли дубликаты.**"
   ]
  },
  {
   "cell_type": "code",
   "execution_count": 13,
   "id": "4d1f6cb0",
   "metadata": {},
   "outputs": [
    {
     "data": {
      "text/plain": [
       "31"
      ]
     },
     "execution_count": 13,
     "metadata": {},
     "output_type": "execute_result"
    }
   ],
   "source": [
    "users.duplicated().sum()"
   ]
  },
  {
   "cell_type": "markdown",
   "id": "65c88b7f",
   "metadata": {},
   "source": [
    "Небольшое количество дубликатов присутствует, что может свидетельствовать о том, что данные в целом собраны качественно, но все же есть небольшие проблемы в процессе сбора данных, возможно, ошибки ввода или неправильное объединение источников данных. Дубликаты могут искажать результаты анализа, привести к неверным выводам или перекосу в моделировании. Поэтому удаляем дубликаты."
   ]
  },
  {
   "cell_type": "code",
   "execution_count": 14,
   "id": "1b287dc5",
   "metadata": {},
   "outputs": [
    {
     "data": {
      "text/plain": [
       "1534"
      ]
     },
     "execution_count": 14,
     "metadata": {},
     "output_type": "execute_result"
    }
   ],
   "source": [
    "users = users.drop_duplicates().reset_index(drop='True')\n",
    "len(users) #проверяем, сколько строк осталось"
   ]
  },
  {
   "cell_type": "code",
   "execution_count": 15,
   "id": "7af8c5e7",
   "metadata": {},
   "outputs": [
    {
     "data": {
      "text/plain": [
       "0"
      ]
     },
     "execution_count": 15,
     "metadata": {},
     "output_type": "execute_result"
    }
   ],
   "source": [
    "rides.duplicated().sum()"
   ]
  },
  {
   "cell_type": "code",
   "execution_count": 16,
   "id": "b718d5e0",
   "metadata": {},
   "outputs": [
    {
     "data": {
      "text/plain": [
       "0"
      ]
     },
     "execution_count": 16,
     "metadata": {},
     "output_type": "execute_result"
    }
   ],
   "source": [
    "subscriptions.duplicated().sum()"
   ]
  },
  {
   "cell_type": "markdown",
   "id": "6ccc1d20",
   "metadata": {},
   "source": [
    "В  датафреймах rides и subscriptions дубликаты не найдены, данные были собраны и записаны корректно."
   ]
  },
  {
   "cell_type": "markdown",
   "id": "8f7f4be2",
   "metadata": {},
   "source": [
    "**Вывод: в процессе предобработки данных было сделано:**\n",
    "\n",
    "**- Преобразование столбца date к типу datetime.**\n",
    "\n",
    "\n",
    "**- Создан новый столбец с номером месяца month, что понадобится в дальнейшем для аггрегации данных по пользователю и месяцу.**\n",
    "\n",
    "\n",
    "**- Проверка на наличие пропущенных значений в каждом из датафреймов. Нет пропущенных значений ни в одном из трех датафреймах.**\n",
    "\n",
    "\n",
    "**- Проверка и обработка дубликатов: обнаружен 31 дубликат в датафрейме users, дубликаты обработаны.**"
   ]
  },
  {
   "cell_type": "markdown",
   "id": "212593c7",
   "metadata": {},
   "source": [
    "## Исследовательский анализ данных"
   ]
  },
  {
   "cell_type": "markdown",
   "id": "903dbcdc",
   "metadata": {},
   "source": [
    "**Опишем и визуализируем общую информацию о пользователях и поездках.**"
   ]
  },
  {
   "cell_type": "markdown",
   "id": "dc4c56da",
   "metadata": {},
   "source": [
    "### Частота встречаемости городов"
   ]
  },
  {
   "cell_type": "code",
   "execution_count": 17,
   "id": "a22020d7-dd26-4d1f-950f-91fb76383dc8",
   "metadata": {},
   "outputs": [],
   "source": [
    "def bar_plot(df, column, w):\n",
    "    plt.figure(figsize=(w, 6))\n",
    "    ax = sns.countplot(x=column, data=df, color='skyblue')\n",
    "\n",
    "    total = len(df) \n",
    "    for p in ax.patches:\n",
    "        height = p.get_height()  # Высота столбца\n",
    "        percentage = (height / total) * 100  # Вычисление процента\n",
    "        ax.annotate(f'{percentage:.1f}%', \n",
    "                    (p.get_x() + p.get_width() / 2., height), \n",
    "                    ha='center', va='bottom')\n",
    "\n",
    "    plt.title(f'Частота встречаемости для {column}')\n",
    "    plt.xlabel(f'Значения {column}')\n",
    "    plt.ylabel('Количество наблюдений')\n",
    "    plt.grid(True)\n",
    "    plt.show()"
   ]
  },
  {
   "cell_type": "code",
   "execution_count": 18,
   "id": "6b7d55eb-3643-4a28-87aa-32c24d5c5137",
   "metadata": {},
   "outputs": [
    {
     "data": {
      "image/png": "[encoded data removed]",
      "text/plain": [
       "<Figure size 1200x600 with 1 Axes>"
      ]
     },
     "metadata": {},
     "output_type": "display_data"
    }
   ],
   "source": [
    "bar_plot(users, 'city', 12)"
   ]
  },
  {
   "cell_type": "markdown",
   "id": "84f0b992",
   "metadata": {},
   "source": [
    "На основе гистограммы можно сделать следующие выводы:\n",
    "\n",
    "1. Лидеры по количеству пользователей: Пятигорск занимает первое место с 226 пользователями, что свидетельствует о высокой популярности сервиса в этом городе. Екатеринбург и Ростов-на-Дону следуют за ним с 206 и 202 пользователями соответственно.\n",
    "\n",
    "\n",
    "2. Городам Краснодар (196) и Сочи (192) также удается привлечь значительное количество пользователей, что может указывать на активное использование сервиса в южных регионах.\n",
    "\n",
    "\n",
    "3. Низкий показатель в Москве. Несмотря на свой статус крупного города, имеет только 172 пользователя, что может указывать на высокую конкуренцию или недостаток маркетинга в этом регионе.\n"
   ]
  },
  {
   "cell_type": "markdown",
   "id": "56a70eb8",
   "metadata": {},
   "source": [
    "### Cоотношение пользователей с подпиской и без подписки"
   ]
  },
  {
   "cell_type": "markdown",
   "id": "381ac7af",
   "metadata": {},
   "source": [
    "Подсчитаем количество пользователей с подпиской и без подписки."
   ]
  },
  {
   "cell_type": "code",
   "execution_count": 19,
   "id": "bb6ceaea",
   "metadata": {},
   "outputs": [
    {
     "data": {
      "image/png": "[encoded data removed]",
      "text/plain": [
       "<Figure size 600x600 with 1 Axes>"
      ]
     },
     "metadata": {},
     "output_type": "display_data"
    }
   ],
   "source": [
    "bar_plot(users, 'subscription_type', 6)"
   ]
  },
  {
   "cell_type": "markdown",
   "id": "5d4cf015",
   "metadata": {},
   "source": [
    "Большинство пользователей предпочитают пользоваться сервисом без подписки."
   ]
  },
  {
   "cell_type": "markdown",
   "id": "3d26bff5",
   "metadata": {},
   "source": [
    "### Расстояние, которое пользователь преодолел за одну поездку"
   ]
  },
  {
   "cell_type": "markdown",
   "id": "ce8c83d6",
   "metadata": {},
   "source": [
    "Построим гистограмму расстояния, которое пользователь преодолел за одну поездку."
   ]
  },
  {
   "cell_type": "code",
   "execution_count": 20,
   "id": "5196291a",
   "metadata": {},
   "outputs": [
    {
     "data": {
      "image/png": "[encoded data removed]",
      "text/plain": [
       "<Figure size 1000x600 with 1 Axes>"
      ]
     },
     "metadata": {},
     "output_type": "display_data"
    }
   ],
   "source": [
    "plt.figure(figsize=(10, 6))\n",
    "\n",
    "rides['distance'].plot(kind='hist', bins=50)\n",
    "\n",
    "plt.grid(axis='y')  \n",
    "plt.grid(axis='x')  \n",
    "plt.title('Расстояние за поездку, в метрах')\n",
    "plt.xlabel('метров')\n",
    "plt.ylabel('Частота')\n",
    "\n",
    "plt.show()"
   ]
  },
  {
   "cell_type": "markdown",
   "id": "f407f419",
   "metadata": {},
   "source": [
    "На графике видно два пика 600 и 3100 метров. Можно предположить, что пользователи часто арендуют самокат для того, чтобы доехать до какого-то близкого транспортного объекта, остановки или станции метро (первый пик), либо для длительной прогулки в свободное время (второй пик). Самыми частыми оказались поездки протяженностью примерно 3100 м."
   ]
  },
  {
   "cell_type": "code",
   "execution_count": 21,
   "id": "04558756",
   "metadata": {},
   "outputs": [
    {
     "data": {
      "image/png": "[encoded data removed]",
      "text/plain": [
       "<Figure size 800x600 with 1 Axes>"
      ]
     },
     "metadata": {},
     "output_type": "display_data"
    }
   ],
   "source": [
    "rides.boxplot(column='distance', figsize=(8, 6))\n",
    "plt.title('Размах расстояния за поездку')\n",
    "plt.ylim(0, 10000)\n",
    "plt.ylabel('м')\n",
    "plt.show()"
   ]
  },
  {
   "cell_type": "code",
   "execution_count": 22,
   "id": "869bb148",
   "metadata": {},
   "outputs": [
    {
     "name": "stdout",
     "output_type": "stream",
     "text": [
      "562\n",
      "81\n"
     ]
    }
   ],
   "source": [
    "count = (rides['distance'] < 500).sum()\n",
    "print(count)\n",
    "count = (rides['distance'] >5800).sum()\n",
    "print(count)"
   ]
  },
  {
   "cell_type": "markdown",
   "id": "35d37a84",
   "metadata": {},
   "source": [
    "В целом данные по расстоянию за поездку выглядят корректными."
   ]
  },
  {
   "cell_type": "markdown",
   "id": "2c8aad9c",
   "metadata": {},
   "source": [
    "### Продолжительность поездок"
   ]
  },
  {
   "cell_type": "markdown",
   "id": "52a883f2",
   "metadata": {},
   "source": [
    "Построим гистограмму расстояния, которое пользователь преодолел за одну поездку."
   ]
  },
  {
   "cell_type": "code",
   "execution_count": 23,
   "id": "37921fd1",
   "metadata": {},
   "outputs": [
    {
     "data": {
      "image/png": "[encoded data removed]",
      "text/plain": [
       "<Figure size 1000x600 with 1 Axes>"
      ]
     },
     "metadata": {},
     "output_type": "display_data"
    }
   ],
   "source": [
    "plt.figure(figsize=(10, 6))\n",
    "\n",
    "rides['duration'].plot(kind='hist', bins=50)\n",
    "\n",
    "plt.grid(axis='y')  \n",
    "plt.grid(axis='x')  \n",
    "plt.title('Продолжительность поездок, мин')\n",
    "plt.xlabel('мин')\n",
    "plt.ylabel('Частота')\n",
    "\n",
    "plt.show()"
   ]
  },
  {
   "cell_type": "markdown",
   "id": "96dbe17f",
   "metadata": {},
   "source": [
    "Пик около значения в 2 минуты может указывать на пользователей, которые могли тестировать самокат или сталкиваться с проблемами, из-за которых предпочитали короткие поездки. Наиболее частыми по длительности оказались поездки длительностью около 18 минут."
   ]
  },
  {
   "cell_type": "code",
   "execution_count": 24,
   "id": "455adef2",
   "metadata": {},
   "outputs": [
    {
     "data": {
      "image/png": "[encoded data removed]",
      "text/plain": [
       "<Figure size 800x600 with 1 Axes>"
      ]
     },
     "metadata": {},
     "output_type": "display_data"
    }
   ],
   "source": [
    "rides.boxplot(column='duration', figsize=(8, 6))\n",
    "plt.title('Размах продолжительности поездок')\n",
    "plt.ylim(0, 60)\n",
    "plt.ylabel('мин')\n",
    "plt.show()"
   ]
  },
  {
   "cell_type": "code",
   "execution_count": 25,
   "id": "da7b248b",
   "metadata": {},
   "outputs": [
    {
     "name": "stdout",
     "output_type": "stream",
     "text": [
      "95\n",
      "146\n"
     ]
    }
   ],
   "source": [
    "count = (rides['duration'] < 2).sum()\n",
    "print(count)\n",
    "count = (rides['duration'] > 33).sum()\n",
    "print(count)"
   ]
  },
  {
   "cell_type": "markdown",
   "id": "6dd556f8",
   "metadata": {},
   "source": [
    "Расстояния за поездку выглядят корректными."
   ]
  },
  {
   "cell_type": "markdown",
   "id": "c859bd42",
   "metadata": {},
   "source": [
    "**Вывод:** \n",
    "\n",
    "**Проанализировав частоту встречаемости городов, получили, что больше всего пользователей в Пятигорске, меньше всего в Москве.**\n",
    "\n",
    "**Соотношение пользователей с подпиской и без подписки 45.6%/54.4%.**\n",
    "\n",
    "**Данные по длительности поездок и пройденному расстоянию выглядят корректными.**\n",
    "\n",
    "**Наиболее частыми оказались поездки протяженностью примерно 3100 метров.**\n",
    "\n",
    "**Наиболее частыми по длительности оказались поездки длительностью около 18 минут.**"
   ]
  },
  {
   "cell_type": "markdown",
   "id": "4ef51331",
   "metadata": {},
   "source": [
    "## Объединение данных"
   ]
  },
  {
   "cell_type": "markdown",
   "id": "322119c7",
   "metadata": {},
   "source": [
    "### Объединим данные о пользователях, поездках и подписках в один датафрейм методом merge()"
   ]
  },
  {
   "cell_type": "code",
   "execution_count": 26,
   "id": "33af2400",
   "metadata": {},
   "outputs": [
    {
     "name": "stdout",
     "output_type": "stream",
     "text": [
      "18068\n"
     ]
    },
    {
     "data": {
      "text/html": [
       "<div>\n",
       "<style scoped>\n",
       "    .dataframe tbody tr th:only-of-type {\n",
       "        vertical-align: middle;\n",
       "    }\n",
       "\n",
       "    .dataframe tbody tr th {\n",
       "        vertical-align: top;\n",
       "    }\n",
       "\n",
       "    .dataframe thead th {\n",
       "        text-align: right;\n",
       "    }\n",
       "</style>\n",
       "<table border=\"1\" class=\"dataframe\">\n",
       "  <thead>\n",
       "    <tr style=\"text-align: right;\">\n",
       "      <th></th>\n",
       "      <th>user_id</th>\n",
       "      <th>name</th>\n",
       "      <th>age</th>\n",
       "      <th>city</th>\n",
       "      <th>subscription_type</th>\n",
       "      <th>distance</th>\n",
       "      <th>duration</th>\n",
       "      <th>date</th>\n",
       "      <th>month</th>\n",
       "      <th>minute_price</th>\n",
       "      <th>start_ride_price</th>\n",
       "      <th>subscription_fee</th>\n",
       "    </tr>\n",
       "  </thead>\n",
       "  <tbody>\n",
       "    <tr>\n",
       "      <th>0</th>\n",
       "      <td>1</td>\n",
       "      <td>Кира</td>\n",
       "      <td>22</td>\n",
       "      <td>Тюмень</td>\n",
       "      <td>ultra</td>\n",
       "      <td>4409.919140</td>\n",
       "      <td>25.599769</td>\n",
       "      <td>2021-01-01</td>\n",
       "      <td>1</td>\n",
       "      <td>6</td>\n",
       "      <td>0</td>\n",
       "      <td>199</td>\n",
       "    </tr>\n",
       "    <tr>\n",
       "      <th>1</th>\n",
       "      <td>1</td>\n",
       "      <td>Кира</td>\n",
       "      <td>22</td>\n",
       "      <td>Тюмень</td>\n",
       "      <td>ultra</td>\n",
       "      <td>2617.592153</td>\n",
       "      <td>15.816871</td>\n",
       "      <td>2021-01-18</td>\n",
       "      <td>1</td>\n",
       "      <td>6</td>\n",
       "      <td>0</td>\n",
       "      <td>199</td>\n",
       "    </tr>\n",
       "    <tr>\n",
       "      <th>2</th>\n",
       "      <td>1</td>\n",
       "      <td>Кира</td>\n",
       "      <td>22</td>\n",
       "      <td>Тюмень</td>\n",
       "      <td>ultra</td>\n",
       "      <td>754.159807</td>\n",
       "      <td>6.232113</td>\n",
       "      <td>2021-04-20</td>\n",
       "      <td>4</td>\n",
       "      <td>6</td>\n",
       "      <td>0</td>\n",
       "      <td>199</td>\n",
       "    </tr>\n",
       "    <tr>\n",
       "      <th>3</th>\n",
       "      <td>1</td>\n",
       "      <td>Кира</td>\n",
       "      <td>22</td>\n",
       "      <td>Тюмень</td>\n",
       "      <td>ultra</td>\n",
       "      <td>2694.783254</td>\n",
       "      <td>18.511000</td>\n",
       "      <td>2021-08-11</td>\n",
       "      <td>8</td>\n",
       "      <td>6</td>\n",
       "      <td>0</td>\n",
       "      <td>199</td>\n",
       "    </tr>\n",
       "    <tr>\n",
       "      <th>4</th>\n",
       "      <td>1</td>\n",
       "      <td>Кира</td>\n",
       "      <td>22</td>\n",
       "      <td>Тюмень</td>\n",
       "      <td>ultra</td>\n",
       "      <td>4028.687306</td>\n",
       "      <td>26.265803</td>\n",
       "      <td>2021-08-28</td>\n",
       "      <td>8</td>\n",
       "      <td>6</td>\n",
       "      <td>0</td>\n",
       "      <td>199</td>\n",
       "    </tr>\n",
       "    <tr>\n",
       "      <th>5</th>\n",
       "      <td>1</td>\n",
       "      <td>Кира</td>\n",
       "      <td>22</td>\n",
       "      <td>Тюмень</td>\n",
       "      <td>ultra</td>\n",
       "      <td>2770.890808</td>\n",
       "      <td>16.650138</td>\n",
       "      <td>2021-10-09</td>\n",
       "      <td>10</td>\n",
       "      <td>6</td>\n",
       "      <td>0</td>\n",
       "      <td>199</td>\n",
       "    </tr>\n",
       "    <tr>\n",
       "      <th>6</th>\n",
       "      <td>1</td>\n",
       "      <td>Кира</td>\n",
       "      <td>22</td>\n",
       "      <td>Тюмень</td>\n",
       "      <td>ultra</td>\n",
       "      <td>3039.020292</td>\n",
       "      <td>14.927879</td>\n",
       "      <td>2021-10-19</td>\n",
       "      <td>10</td>\n",
       "      <td>6</td>\n",
       "      <td>0</td>\n",
       "      <td>199</td>\n",
       "    </tr>\n",
       "    <tr>\n",
       "      <th>7</th>\n",
       "      <td>1</td>\n",
       "      <td>Кира</td>\n",
       "      <td>22</td>\n",
       "      <td>Тюмень</td>\n",
       "      <td>ultra</td>\n",
       "      <td>2842.118050</td>\n",
       "      <td>23.117468</td>\n",
       "      <td>2021-11-06</td>\n",
       "      <td>11</td>\n",
       "      <td>6</td>\n",
       "      <td>0</td>\n",
       "      <td>199</td>\n",
       "    </tr>\n",
       "    <tr>\n",
       "      <th>8</th>\n",
       "      <td>1</td>\n",
       "      <td>Кира</td>\n",
       "      <td>22</td>\n",
       "      <td>Тюмень</td>\n",
       "      <td>ultra</td>\n",
       "      <td>3412.690668</td>\n",
       "      <td>15.238072</td>\n",
       "      <td>2021-11-14</td>\n",
       "      <td>11</td>\n",
       "      <td>6</td>\n",
       "      <td>0</td>\n",
       "      <td>199</td>\n",
       "    </tr>\n",
       "    <tr>\n",
       "      <th>9</th>\n",
       "      <td>1</td>\n",
       "      <td>Кира</td>\n",
       "      <td>22</td>\n",
       "      <td>Тюмень</td>\n",
       "      <td>ultra</td>\n",
       "      <td>748.690645</td>\n",
       "      <td>15.041884</td>\n",
       "      <td>2021-11-22</td>\n",
       "      <td>11</td>\n",
       "      <td>6</td>\n",
       "      <td>0</td>\n",
       "      <td>199</td>\n",
       "    </tr>\n",
       "    <tr>\n",
       "      <th>10</th>\n",
       "      <td>1</td>\n",
       "      <td>Кира</td>\n",
       "      <td>22</td>\n",
       "      <td>Тюмень</td>\n",
       "      <td>ultra</td>\n",
       "      <td>4031.020195</td>\n",
       "      <td>17.674448</td>\n",
       "      <td>2021-12-14</td>\n",
       "      <td>12</td>\n",
       "      <td>6</td>\n",
       "      <td>0</td>\n",
       "      <td>199</td>\n",
       "    </tr>\n",
       "    <tr>\n",
       "      <th>11</th>\n",
       "      <td>1</td>\n",
       "      <td>Кира</td>\n",
       "      <td>22</td>\n",
       "      <td>Тюмень</td>\n",
       "      <td>ultra</td>\n",
       "      <td>2720.609748</td>\n",
       "      <td>9.529463</td>\n",
       "      <td>2021-12-22</td>\n",
       "      <td>12</td>\n",
       "      <td>6</td>\n",
       "      <td>0</td>\n",
       "      <td>199</td>\n",
       "    </tr>\n",
       "    <tr>\n",
       "      <th>12</th>\n",
       "      <td>2</td>\n",
       "      <td>Станислав</td>\n",
       "      <td>31</td>\n",
       "      <td>Омск</td>\n",
       "      <td>ultra</td>\n",
       "      <td>3105.086678</td>\n",
       "      <td>24.307514</td>\n",
       "      <td>2021-03-15</td>\n",
       "      <td>3</td>\n",
       "      <td>6</td>\n",
       "      <td>0</td>\n",
       "      <td>199</td>\n",
       "    </tr>\n",
       "    <tr>\n",
       "      <th>13</th>\n",
       "      <td>2</td>\n",
       "      <td>Станислав</td>\n",
       "      <td>31</td>\n",
       "      <td>Омск</td>\n",
       "      <td>ultra</td>\n",
       "      <td>3053.519401</td>\n",
       "      <td>11.543256</td>\n",
       "      <td>2021-03-18</td>\n",
       "      <td>3</td>\n",
       "      <td>6</td>\n",
       "      <td>0</td>\n",
       "      <td>199</td>\n",
       "    </tr>\n",
       "    <tr>\n",
       "      <th>14</th>\n",
       "      <td>2</td>\n",
       "      <td>Станислав</td>\n",
       "      <td>31</td>\n",
       "      <td>Омск</td>\n",
       "      <td>ultra</td>\n",
       "      <td>4029.116927</td>\n",
       "      <td>25.109188</td>\n",
       "      <td>2021-03-23</td>\n",
       "      <td>3</td>\n",
       "      <td>6</td>\n",
       "      <td>0</td>\n",
       "      <td>199</td>\n",
       "    </tr>\n",
       "    <tr>\n",
       "      <th>15</th>\n",
       "      <td>2</td>\n",
       "      <td>Станислав</td>\n",
       "      <td>31</td>\n",
       "      <td>Омск</td>\n",
       "      <td>ultra</td>\n",
       "      <td>2805.786329</td>\n",
       "      <td>20.652145</td>\n",
       "      <td>2021-04-08</td>\n",
       "      <td>4</td>\n",
       "      <td>6</td>\n",
       "      <td>0</td>\n",
       "      <td>199</td>\n",
       "    </tr>\n",
       "    <tr>\n",
       "      <th>16</th>\n",
       "      <td>2</td>\n",
       "      <td>Станислав</td>\n",
       "      <td>31</td>\n",
       "      <td>Омск</td>\n",
       "      <td>ultra</td>\n",
       "      <td>3358.595495</td>\n",
       "      <td>18.396489</td>\n",
       "      <td>2021-04-13</td>\n",
       "      <td>4</td>\n",
       "      <td>6</td>\n",
       "      <td>0</td>\n",
       "      <td>199</td>\n",
       "    </tr>\n",
       "    <tr>\n",
       "      <th>17</th>\n",
       "      <td>2</td>\n",
       "      <td>Станислав</td>\n",
       "      <td>31</td>\n",
       "      <td>Омск</td>\n",
       "      <td>ultra</td>\n",
       "      <td>3255.338202</td>\n",
       "      <td>13.851127</td>\n",
       "      <td>2021-06-20</td>\n",
       "      <td>6</td>\n",
       "      <td>6</td>\n",
       "      <td>0</td>\n",
       "      <td>199</td>\n",
       "    </tr>\n",
       "    <tr>\n",
       "      <th>18</th>\n",
       "      <td>2</td>\n",
       "      <td>Станислав</td>\n",
       "      <td>31</td>\n",
       "      <td>Омск</td>\n",
       "      <td>ultra</td>\n",
       "      <td>3942.817648</td>\n",
       "      <td>20.142725</td>\n",
       "      <td>2021-07-02</td>\n",
       "      <td>7</td>\n",
       "      <td>6</td>\n",
       "      <td>0</td>\n",
       "      <td>199</td>\n",
       "    </tr>\n",
       "    <tr>\n",
       "      <th>19</th>\n",
       "      <td>2</td>\n",
       "      <td>Станислав</td>\n",
       "      <td>31</td>\n",
       "      <td>Омск</td>\n",
       "      <td>ultra</td>\n",
       "      <td>2837.905316</td>\n",
       "      <td>26.027432</td>\n",
       "      <td>2021-07-18</td>\n",
       "      <td>7</td>\n",
       "      <td>6</td>\n",
       "      <td>0</td>\n",
       "      <td>199</td>\n",
       "    </tr>\n",
       "  </tbody>\n",
       "</table>\n",
       "</div>"
      ],
      "text/plain": [
       "    user_id       name  age    city subscription_type     distance   duration  \\\n",
       "0         1       Кира   22  Тюмень             ultra  4409.919140  25.599769   \n",
       "1         1       Кира   22  Тюмень             ultra  2617.592153  15.816871   \n",
       "2         1       Кира   22  Тюмень             ultra   754.159807   6.232113   \n",
       "3         1       Кира   22  Тюмень             ultra  2694.783254  18.511000   \n",
       "4         1       Кира   22  Тюмень             ultra  4028.687306  26.265803   \n",
       "5         1       Кира   22  Тюмень             ultra  2770.890808  16.650138   \n",
       "6         1       Кира   22  Тюмень             ultra  3039.020292  14.927879   \n",
       "7         1       Кира   22  Тюмень             ultra  2842.118050  23.117468   \n",
       "8         1       Кира   22  Тюмень             ultra  3412.690668  15.238072   \n",
       "9         1       Кира   22  Тюмень             ultra   748.690645  15.041884   \n",
       "10        1       Кира   22  Тюмень             ultra  4031.020195  17.674448   \n",
       "11        1       Кира   22  Тюмень             ultra  2720.609748   9.529463   \n",
       "12        2  Станислав   31    Омск             ultra  3105.086678  24.307514   \n",
       "13        2  Станислав   31    Омск             ultra  3053.519401  11.543256   \n",
       "14        2  Станислав   31    Омск             ultra  4029.116927  25.109188   \n",
       "15        2  Станислав   31    Омск             ultra  2805.786329  20.652145   \n",
       "16        2  Станислав   31    Омск             ultra  3358.595495  18.396489   \n",
       "17        2  Станислав   31    Омск             ultra  3255.338202  13.851127   \n",
       "18        2  Станислав   31    Омск             ultra  3942.817648  20.142725   \n",
       "19        2  Станислав   31    Омск             ultra  2837.905316  26.027432   \n",
       "\n",
       "         date  month  minute_price  start_ride_price  subscription_fee  \n",
       "0  2021-01-01      1             6                 0               199  \n",
       "1  2021-01-18      1             6                 0               199  \n",
       "2  2021-04-20      4             6                 0               199  \n",
       "3  2021-08-11      8             6                 0               199  \n",
       "4  2021-08-28      8             6                 0               199  \n",
       "5  2021-10-09     10             6                 0               199  \n",
       "6  2021-10-19     10             6                 0               199  \n",
       "7  2021-11-06     11             6                 0               199  \n",
       "8  2021-11-14     11             6                 0               199  \n",
       "9  2021-11-22     11             6                 0               199  \n",
       "10 2021-12-14     12             6                 0               199  \n",
       "11 2021-12-22     12             6                 0               199  \n",
       "12 2021-03-15      3             6                 0               199  \n",
       "13 2021-03-18      3             6                 0               199  \n",
       "14 2021-03-23      3             6                 0               199  \n",
       "15 2021-04-08      4             6                 0               199  \n",
       "16 2021-04-13      4             6                 0               199  \n",
       "17 2021-06-20      6             6                 0               199  \n",
       "18 2021-07-02      7             6                 0               199  \n",
       "19 2021-07-18      7             6                 0               199  "
      ]
     },
     "execution_count": 26,
     "metadata": {},
     "output_type": "execute_result"
    }
   ],
   "source": [
    "#объединим пользователей и поездки по user_id\n",
    "merged_df = pd.merge(users, rides, on='user_id', how='left')\n",
    "\n",
    "#объединим полученный DataFrame с подписками по subscription_type\n",
    "final_df = pd.merge(merged_df, subscriptions, on='subscription_type', how='left')\n",
    "\n",
    "print(len(final_df)) #проверяем размер полученного датафрейма\n",
    "final_df.head(20)"
   ]
  },
  {
   "cell_type": "markdown",
   "id": "905e1a9b",
   "metadata": {},
   "source": [
    "### Создадим ещё два датафрейма из полученного датафрейма:\n",
    "\n",
    "•\tc данными о пользователях без подписки;\n",
    "\n",
    "•\tс данными о пользователях с подпиской."
   ]
  },
  {
   "cell_type": "code",
   "execution_count": 27,
   "id": "6bf288b5",
   "metadata": {},
   "outputs": [
    {
     "data": {
      "text/html": [
       "<div>\n",
       "<style scoped>\n",
       "    .dataframe tbody tr th:only-of-type {\n",
       "        vertical-align: middle;\n",
       "    }\n",
       "\n",
       "    .dataframe tbody tr th {\n",
       "        vertical-align: top;\n",
       "    }\n",
       "\n",
       "    .dataframe thead th {\n",
       "        text-align: right;\n",
       "    }\n",
       "</style>\n",
       "<table border=\"1\" class=\"dataframe\">\n",
       "  <thead>\n",
       "    <tr style=\"text-align: right;\">\n",
       "      <th></th>\n",
       "      <th>user_id</th>\n",
       "      <th>name</th>\n",
       "      <th>age</th>\n",
       "      <th>city</th>\n",
       "      <th>subscription_type</th>\n",
       "      <th>distance</th>\n",
       "      <th>duration</th>\n",
       "      <th>date</th>\n",
       "      <th>month</th>\n",
       "      <th>minute_price</th>\n",
       "      <th>start_ride_price</th>\n",
       "      <th>subscription_fee</th>\n",
       "    </tr>\n",
       "  </thead>\n",
       "  <tbody>\n",
       "    <tr>\n",
       "      <th>6500</th>\n",
       "      <td>700</td>\n",
       "      <td>Айдар</td>\n",
       "      <td>22</td>\n",
       "      <td>Омск</td>\n",
       "      <td>free</td>\n",
       "      <td>2515.690719</td>\n",
       "      <td>14.944286</td>\n",
       "      <td>2021-01-02</td>\n",
       "      <td>1</td>\n",
       "      <td>8</td>\n",
       "      <td>50</td>\n",
       "      <td>0</td>\n",
       "    </tr>\n",
       "    <tr>\n",
       "      <th>6501</th>\n",
       "      <td>700</td>\n",
       "      <td>Айдар</td>\n",
       "      <td>22</td>\n",
       "      <td>Омск</td>\n",
       "      <td>free</td>\n",
       "      <td>846.932642</td>\n",
       "      <td>16.234663</td>\n",
       "      <td>2021-02-01</td>\n",
       "      <td>2</td>\n",
       "      <td>8</td>\n",
       "      <td>50</td>\n",
       "      <td>0</td>\n",
       "    </tr>\n",
       "    <tr>\n",
       "      <th>6502</th>\n",
       "      <td>700</td>\n",
       "      <td>Айдар</td>\n",
       "      <td>22</td>\n",
       "      <td>Омск</td>\n",
       "      <td>free</td>\n",
       "      <td>4004.434142</td>\n",
       "      <td>20.016628</td>\n",
       "      <td>2021-02-04</td>\n",
       "      <td>2</td>\n",
       "      <td>8</td>\n",
       "      <td>50</td>\n",
       "      <td>0</td>\n",
       "    </tr>\n",
       "    <tr>\n",
       "      <th>6503</th>\n",
       "      <td>700</td>\n",
       "      <td>Айдар</td>\n",
       "      <td>22</td>\n",
       "      <td>Омск</td>\n",
       "      <td>free</td>\n",
       "      <td>1205.911290</td>\n",
       "      <td>9.782872</td>\n",
       "      <td>2021-02-10</td>\n",
       "      <td>2</td>\n",
       "      <td>8</td>\n",
       "      <td>50</td>\n",
       "      <td>0</td>\n",
       "    </tr>\n",
       "    <tr>\n",
       "      <th>6504</th>\n",
       "      <td>700</td>\n",
       "      <td>Айдар</td>\n",
       "      <td>22</td>\n",
       "      <td>Омск</td>\n",
       "      <td>free</td>\n",
       "      <td>3047.379435</td>\n",
       "      <td>17.427673</td>\n",
       "      <td>2021-02-14</td>\n",
       "      <td>2</td>\n",
       "      <td>8</td>\n",
       "      <td>50</td>\n",
       "      <td>0</td>\n",
       "    </tr>\n",
       "  </tbody>\n",
       "</table>\n",
       "</div>"
      ],
      "text/plain": [
       "      user_id   name  age  city subscription_type     distance   duration  \\\n",
       "6500      700  Айдар   22  Омск              free  2515.690719  14.944286   \n",
       "6501      700  Айдар   22  Омск              free   846.932642  16.234663   \n",
       "6502      700  Айдар   22  Омск              free  4004.434142  20.016628   \n",
       "6503      700  Айдар   22  Омск              free  1205.911290   9.782872   \n",
       "6504      700  Айдар   22  Омск              free  3047.379435  17.427673   \n",
       "\n",
       "           date  month  minute_price  start_ride_price  subscription_fee  \n",
       "6500 2021-01-02      1             8                50                 0  \n",
       "6501 2021-02-01      2             8                50                 0  \n",
       "6502 2021-02-04      2             8                50                 0  \n",
       "6503 2021-02-10      2             8                50                 0  \n",
       "6504 2021-02-14      2             8                50                 0  "
      ]
     },
     "execution_count": 27,
     "metadata": {},
     "output_type": "execute_result"
    }
   ],
   "source": [
    "users_free = final_df[final_df['subscription_type']=='free']\n",
    "users_free.head()"
   ]
  },
  {
   "cell_type": "code",
   "execution_count": 28,
   "id": "2b6a3576",
   "metadata": {
    "scrolled": true
   },
   "outputs": [
    {
     "data": {
      "text/html": [
       "<div>\n",
       "<style scoped>\n",
       "    .dataframe tbody tr th:only-of-type {\n",
       "        vertical-align: middle;\n",
       "    }\n",
       "\n",
       "    .dataframe tbody tr th {\n",
       "        vertical-align: top;\n",
       "    }\n",
       "\n",
       "    .dataframe thead th {\n",
       "        text-align: right;\n",
       "    }\n",
       "</style>\n",
       "<table border=\"1\" class=\"dataframe\">\n",
       "  <thead>\n",
       "    <tr style=\"text-align: right;\">\n",
       "      <th></th>\n",
       "      <th>user_id</th>\n",
       "      <th>name</th>\n",
       "      <th>age</th>\n",
       "      <th>city</th>\n",
       "      <th>subscription_type</th>\n",
       "      <th>distance</th>\n",
       "      <th>duration</th>\n",
       "      <th>date</th>\n",
       "      <th>month</th>\n",
       "      <th>minute_price</th>\n",
       "      <th>start_ride_price</th>\n",
       "      <th>subscription_fee</th>\n",
       "    </tr>\n",
       "  </thead>\n",
       "  <tbody>\n",
       "    <tr>\n",
       "      <th>0</th>\n",
       "      <td>1</td>\n",
       "      <td>Кира</td>\n",
       "      <td>22</td>\n",
       "      <td>Тюмень</td>\n",
       "      <td>ultra</td>\n",
       "      <td>4409.919140</td>\n",
       "      <td>25.599769</td>\n",
       "      <td>2021-01-01</td>\n",
       "      <td>1</td>\n",
       "      <td>6</td>\n",
       "      <td>0</td>\n",
       "      <td>199</td>\n",
       "    </tr>\n",
       "    <tr>\n",
       "      <th>1</th>\n",
       "      <td>1</td>\n",
       "      <td>Кира</td>\n",
       "      <td>22</td>\n",
       "      <td>Тюмень</td>\n",
       "      <td>ultra</td>\n",
       "      <td>2617.592153</td>\n",
       "      <td>15.816871</td>\n",
       "      <td>2021-01-18</td>\n",
       "      <td>1</td>\n",
       "      <td>6</td>\n",
       "      <td>0</td>\n",
       "      <td>199</td>\n",
       "    </tr>\n",
       "    <tr>\n",
       "      <th>2</th>\n",
       "      <td>1</td>\n",
       "      <td>Кира</td>\n",
       "      <td>22</td>\n",
       "      <td>Тюмень</td>\n",
       "      <td>ultra</td>\n",
       "      <td>754.159807</td>\n",
       "      <td>6.232113</td>\n",
       "      <td>2021-04-20</td>\n",
       "      <td>4</td>\n",
       "      <td>6</td>\n",
       "      <td>0</td>\n",
       "      <td>199</td>\n",
       "    </tr>\n",
       "    <tr>\n",
       "      <th>3</th>\n",
       "      <td>1</td>\n",
       "      <td>Кира</td>\n",
       "      <td>22</td>\n",
       "      <td>Тюмень</td>\n",
       "      <td>ultra</td>\n",
       "      <td>2694.783254</td>\n",
       "      <td>18.511000</td>\n",
       "      <td>2021-08-11</td>\n",
       "      <td>8</td>\n",
       "      <td>6</td>\n",
       "      <td>0</td>\n",
       "      <td>199</td>\n",
       "    </tr>\n",
       "    <tr>\n",
       "      <th>4</th>\n",
       "      <td>1</td>\n",
       "      <td>Кира</td>\n",
       "      <td>22</td>\n",
       "      <td>Тюмень</td>\n",
       "      <td>ultra</td>\n",
       "      <td>4028.687306</td>\n",
       "      <td>26.265803</td>\n",
       "      <td>2021-08-28</td>\n",
       "      <td>8</td>\n",
       "      <td>6</td>\n",
       "      <td>0</td>\n",
       "      <td>199</td>\n",
       "    </tr>\n",
       "  </tbody>\n",
       "</table>\n",
       "</div>"
      ],
      "text/plain": [
       "   user_id  name  age    city subscription_type     distance   duration  \\\n",
       "0        1  Кира   22  Тюмень             ultra  4409.919140  25.599769   \n",
       "1        1  Кира   22  Тюмень             ultra  2617.592153  15.816871   \n",
       "2        1  Кира   22  Тюмень             ultra   754.159807   6.232113   \n",
       "3        1  Кира   22  Тюмень             ultra  2694.783254  18.511000   \n",
       "4        1  Кира   22  Тюмень             ultra  4028.687306  26.265803   \n",
       "\n",
       "        date  month  minute_price  start_ride_price  subscription_fee  \n",
       "0 2021-01-01      1             6                 0               199  \n",
       "1 2021-01-18      1             6                 0               199  \n",
       "2 2021-04-20      4             6                 0               199  \n",
       "3 2021-08-11      8             6                 0               199  \n",
       "4 2021-08-28      8             6                 0               199  "
      ]
     },
     "execution_count": 28,
     "metadata": {},
     "output_type": "execute_result"
    }
   ],
   "source": [
    "users_ultra = final_df[final_df['subscription_type']=='ultra']\n",
    "users_ultra.head()"
   ]
  },
  {
   "cell_type": "markdown",
   "id": "96da992c",
   "metadata": {},
   "source": [
    "### Визуализируем информацию о расстоянии и времени поездок для пользователей обеих категорий."
   ]
  },
  {
   "cell_type": "code",
   "execution_count": 29,
   "id": "f2e46f80",
   "metadata": {},
   "outputs": [
    {
     "data": {
      "image/png": "[encoded data removed]",
      "text/plain": [
       "<Figure size 1000x600 with 1 Axes>"
      ]
     },
     "metadata": {},
     "output_type": "display_data"
    }
   ],
   "source": [
    "plt.figure(figsize=(10, 6))\n",
    "\n",
    "users_free['distance'].plot(kind='hist', bins=50, label='Free', alpha=0.8)\n",
    "users_ultra['distance'].plot(kind='hist', bins=50, label='Ultra', alpha=0.6, color='lightblue')\n",
    "\n",
    "plt.grid(axis='y') \n",
    "plt.grid(axis='x') \n",
    "plt.title('Расстояние за поездку в метрах')\n",
    "plt.xlabel('расстояние, метры')\n",
    "plt.ylabel('Частота')\n",
    "plt.legend()\n",
    "plt.show()"
   ]
  },
  {
   "cell_type": "markdown",
   "id": "420961a5",
   "metadata": {},
   "source": [
    "**Вывод: Для обеих групп пользователей характерно наличие двух пиков, что вероятно, говорит о том, что в обеих группах пользователей самокат используется для двух разных целей, например, для того, чтобы доехать до относительно близкой цели, либо для долгих прогулок. \n",
    "\n",
    "**Гистограмма пользователей с подпиской более узкая, чем гистограмма пользоваталей без подписки. Вероятно, пользователям без подписки характерен больший разброс значений, чем пользоваталям с подпиской. Возможно, это связано с тем, что подписчики могут иметь более регулярные паттерны использования, например, каждый день или каждую неделю, на определенное расстояние, в то время как пользователи без подписки могут использовать сервис нерегулярно и более разнообразно.**"
   ]
  },
  {
   "cell_type": "code",
   "execution_count": 30,
   "id": "6e5a5860",
   "metadata": {
    "scrolled": true
   },
   "outputs": [
    {
     "name": "stdout",
     "output_type": "stream",
     "text": [
      "Медиана расстояния за поездку, free: 3114.648464847295\n",
      "Медиана расстояния за поездку, ultra: 3148.6372291760854\n"
     ]
    }
   ],
   "source": [
    "distance_free_median = users_free['distance'].median()\n",
    "distance_ultra_median = users_ultra['distance'].median()\n",
    "\n",
    "print(f'Медиана расстояния за поездку, free: {distance_free_median}')\n",
    "print(f'Медиана расстояния за поездку, ultra: {distance_ultra_median}')\n"
   ]
  },
  {
   "cell_type": "code",
   "execution_count": 31,
   "id": "46b34eae",
   "metadata": {},
   "outputs": [
    {
     "data": {
      "image/png": "[encoded data removed]",
      "text/plain": [
       "<Figure size 1000x600 with 1 Axes>"
      ]
     },
     "metadata": {},
     "output_type": "display_data"
    }
   ],
   "source": [
    "plt.figure(figsize=(10, 6))\n",
    "users_free['duration'].plot(kind='hist', bins=50, label='Free', alpha=0.8 )\n",
    "users_ultra['duration'].plot(kind='hist', bins=50, label='Ultra', alpha =0.6, color='lightblue')\n",
    "\n",
    "plt.grid(axis='y') \n",
    "plt.grid(axis='x')  \n",
    "plt.title('Продолжительность поездки, мин')\n",
    "plt.xlabel('мин')\n",
    "plt.ylabel('Частота')\n",
    "plt.legend()\n",
    "plt.show()"
   ]
  },
  {
   "cell_type": "code",
   "execution_count": 32,
   "id": "ddd9def4",
   "metadata": {},
   "outputs": [
    {
     "name": "stdout",
     "output_type": "stream",
     "text": [
      "Медиана длительности поездки, free: 17.326890226082043\n",
      "Медиана длительности поездки, ultra: 18.17815320055055\n"
     ]
    }
   ],
   "source": [
    "duration_free_median = users_free['duration'].median()\n",
    "duration_ultra_median = users_ultra['duration'].median()\n",
    "\n",
    "print(f'Медиана длительности поездки, free: {duration_free_median}')\n",
    "print(f'Медиана длительности поездки, ultra: {duration_ultra_median}')\n"
   ]
  },
  {
   "cell_type": "markdown",
   "id": "b2c5978e",
   "metadata": {},
   "source": [
    "**Вывод: Поездки категории ultra незначительно более длительные по времени, чем поездки категории free. При этом в категории Ultra пратически нет поездок длительностью менее 5 минут, тогда как в категории free таких поездок достаточно.**"
   ]
  },
  {
   "cell_type": "markdown",
   "id": "fb7bff75",
   "metadata": {},
   "source": [
    "Посмотрим, как протяженность поездок распределяется в процентах в обеих группах пользователей."
   ]
  },
  {
   "cell_type": "code",
   "execution_count": 33,
   "id": "fb004e1a-ec4f-4cdc-aa08-ce78b070c9d8",
   "metadata": {},
   "outputs": [
    {
     "data": {
      "image/png": "[encoded data removed]",
      "text/plain": [
       "<Figure size 1000x600 with 1 Axes>"
      ]
     },
     "metadata": {},
     "output_type": "display_data"
    }
   ],
   "source": [
    "bins = [0, 1000, 2000, 3000, 4000, 5000]\n",
    "labels = ['0-1', '1-2', '2-3', '3-4', '4-5']\n",
    "\n",
    "df_free = pd.DataFrame(users_free, columns=['distance'])\n",
    "df_free['Intervals'] = pd.cut(df_free['distance'], bins=bins, labels=labels, right=False)\n",
    "frequency_table_free = 100 * df_free['Intervals'].value_counts().sort_index() / len(users_free)\n",
    "\n",
    "df_ultra = pd.DataFrame(users_ultra, columns=['distance'])\n",
    "df_ultra['Intervals'] = pd.cut(df_ultra['distance'], bins=bins, labels=labels, right=False)\n",
    "frequency_table_ultra = 100 * df_ultra['Intervals'].value_counts().sort_index() / len(users_ultra)\n",
    "\n",
    "\n",
    "combined_frequency = pd.DataFrame({\n",
    "    'Free': frequency_table_free,\n",
    "    'Ultra': frequency_table_ultra\n",
    "}).fillna(0) \n",
    "\n",
    "colors = ['#1f77b4', 'lightblue']\n",
    "ax = combined_frequency.plot(kind='bar', figsize=(10, 6), color = colors)\n",
    "\n",
    "for p in ax.patches:\n",
    "    height = p.get_height()\n",
    "    ax.annotate(f'{height:.1f}%', \n",
    "                (p.get_x() + p.get_width() / 2., height), \n",
    "                ha='center', va='bottom')\n",
    "\n",
    "plt.title('Расстояние за поездку')\n",
    "plt.xlabel('Интервалы расстояний (км)')\n",
    "plt.ylabel('Процент пользователей (%)')\n",
    "plt.xticks(rotation=0) \n",
    "plt.legend(title='Тип пользователей')\n",
    "plt.grid(axis='y')\n",
    "\n",
    "plt.tight_layout()\n",
    "plt.show()"
   ]
  },
  {
   "cell_type": "markdown",
   "id": "054064b3",
   "metadata": {},
   "source": [
    "**Вывод: Пользователи Free совершают значительно больше поездок на короткие расстояния до 2000 метров (16,7% и 7,9%). Пользователи обеих групп совершают примерно одинаковую долю поездок протяженностью 2000-3000 метров. Пользователи с подпиской Ultra имеют значительно большую долю поездок протяженностью от 3000 до 4000 метров, но меньшую долю поездок протяженностью от 4000 метров, чем  пользователи категории Free.**"
   ]
  },
  {
   "cell_type": "markdown",
   "id": "3db0f5c6",
   "metadata": {},
   "source": [
    "Посмотрим, как длительность поездок распределяется в процентах в обеих группах пользователей."
   ]
  },
  {
   "cell_type": "code",
   "execution_count": 34,
   "id": "83352e26-4aa3-4aa5-b0c2-70f6fb560fb8",
   "metadata": {},
   "outputs": [
    {
     "data": {
      "image/png": "[encoded data removed]",
      "text/plain": [
       "<Figure size 1000x600 with 1 Axes>"
      ]
     },
     "metadata": {},
     "output_type": "display_data"
    }
   ],
   "source": [
    "bins = [0, 5, 15, 25, 35]\n",
    "labels = ['0-5', '5-15', '15-25', '25-35']\n",
    "\n",
    "df_free = pd.DataFrame(users_free, columns=['duration'])\n",
    "\n",
    "df_free = pd.DataFrame(users_free, columns=['duration'])\n",
    "df_free['Intervals'] = pd.cut(df_free['duration'], bins=bins, labels=labels, right=False)\n",
    "frequency_table_free = 100 * df_free['Intervals'].value_counts().sort_index() / len(users_free)\n",
    "\n",
    "df_ultra = pd.DataFrame(users_ultra, columns=['duration'])\n",
    "df_ultra['Intervals'] = pd.cut(df_ultra['duration'], bins=bins, labels=labels, right=False)\n",
    "frequency_table_ultra = 100 * df_ultra['Intervals'].value_counts().sort_index() / len(users_ultra)\n",
    "\n",
    "\n",
    "combined_frequency = pd.DataFrame({\n",
    "    'Free': frequency_table_free,\n",
    "    'Ultra': frequency_table_ultra\n",
    "}).fillna(0) \n",
    "\n",
    "colors = ['#1f77b4', 'lightblue']\n",
    "ax = combined_frequency.plot(kind='bar', figsize=(10, 6), color = colors)\n",
    "\n",
    "for p in ax.patches:\n",
    "    height = p.get_height()\n",
    "    ax.annotate(f'{height:.1f}%', \n",
    "                (p.get_x() + p.get_width() / 2., height), \n",
    "                ha='center', va='bottom')\n",
    "\n",
    "plt.title('Длительность поездок')\n",
    "plt.xlabel('Интервалы длительности (минуты)')\n",
    "plt.ylabel('Процент пользователей (%)')\n",
    "plt.xticks(rotation=0) \n",
    "plt.legend(title='Тип пользователей')\n",
    "plt.grid(axis='y')\n",
    "\n",
    "plt.tight_layout()\n",
    "plt.show()"
   ]
  },
  {
   "cell_type": "markdown",
   "id": "4f2041f7",
   "metadata": {},
   "source": [
    "**Вывод: Анализ времени поездкок показывает, что поездки категории Ultra в среднем имеют несколько большую продолжительность по времени по сравнению с поездками категории Free. Доля поездок в диапазоне 5-15 минут составляют 27.9% для Ultra и 34% для Free. Это говорит о том, что пользователи Free совершают более короткие поездки, хотя обе категории имеют значительную часть таких поездок. В остальном пользователи демонстрируют схожие тенденции в отношении коротких и средних поездок. Ни одна из категорий не склонна к очень длительным поездкам.**\n"
   ]
  },
  {
   "cell_type": "markdown",
   "id": "be33c866",
   "metadata": {},
   "source": [
    "Сделаем теперь общий вывод по шагу 4."
   ]
  },
  {
   "cell_type": "markdown",
   "id": "14b4fa54",
   "metadata": {},
   "source": [
    "**Вывод: Мы объединили данные из трех датафреймов и создали два новых датафрейма: c данными о пользователях без подписки и c данными о пользователях с подпиской.**\n",
    "\n",
    "**Обе группы пользователей показывают наличие двух основных пиков в протяженности поездок на самокатах, что указывает на разные цели использования: короткие поездки к близким местам и долгие прогулки. У пользователей с подпиской наблюдается более узкий диапазон расстояний, что говорит о том, что они используют самокаты более регулярно и целенаправленно. В то же время пользователи без подписки имеют более широкий разброс в протяженности своих поездок, что говорит о разнообразии их целей и маршрутов.**\n",
    "\n",
    "**Пользователи Free совершают больше поездок на короткие расстояния до 2000 метров (16,7% против 7,9% у Ultra). Доли поездок на расстоянии 2000-3000 метров схожи для обеих групп. Пользователи с подпиской Ultra имеют большую долю поездок от 3000 до 4000 метров.**\n",
    "\n",
    "**Анализ времени поездок показывает, что у пользователей Ultra средняя продолжительность поездок выше, чем у Free. Доля поездок длительностью 5-15 минут составляет 27,9% для Ultra и 34% для Free, что подтверждает, что пользователи Free чаще совершают короткие поездки. В остальном обе группы показывают схожие тенденции в отношении коротких и средних поездок, не проявляя склонности к очень длительным поездкам.**"
   ]
  },
  {
   "cell_type": "markdown",
   "id": "402d620f",
   "metadata": {},
   "source": [
    "## Подсчёт выручки"
   ]
  },
  {
   "cell_type": "markdown",
   "id": "155b96d6",
   "metadata": {},
   "source": [
    "### Создадим датафрейм с агрегированными данными о поездках на основе датафрейма с объединёнными данными из шага 4: найдем суммарное расстояние, количество поездок и суммарное время для каждого пользователя за каждый месяц. Продолжительность каждой поездки в каждой строке исходного датафрейма для подсчёта стоимости округляется до следующего целого числа."
   ]
  },
  {
   "cell_type": "code",
   "execution_count": 35,
   "id": "53049e0a",
   "metadata": {},
   "outputs": [],
   "source": [
    "final_df['duration']=np.ceil(final_df['duration']).astype(int)"
   ]
  },
  {
   "cell_type": "code",
   "execution_count": 36,
   "id": "8a62f8e9",
   "metadata": {},
   "outputs": [
    {
     "data": {
      "text/html": [
       "<div>\n",
       "<style scoped>\n",
       "    .dataframe tbody tr th:only-of-type {\n",
       "        vertical-align: middle;\n",
       "    }\n",
       "\n",
       "    .dataframe tbody tr th {\n",
       "        vertical-align: top;\n",
       "    }\n",
       "\n",
       "    .dataframe thead th {\n",
       "        text-align: right;\n",
       "    }\n",
       "</style>\n",
       "<table border=\"1\" class=\"dataframe\">\n",
       "  <thead>\n",
       "    <tr style=\"text-align: right;\">\n",
       "      <th></th>\n",
       "      <th>user_id</th>\n",
       "      <th>month</th>\n",
       "      <th>total_distance</th>\n",
       "      <th>total_trips</th>\n",
       "      <th>total_duration</th>\n",
       "      <th>subscription_type</th>\n",
       "      <th>minute_price</th>\n",
       "      <th>start_ride_price</th>\n",
       "      <th>subscription_fee</th>\n",
       "    </tr>\n",
       "  </thead>\n",
       "  <tbody>\n",
       "    <tr>\n",
       "      <th>0</th>\n",
       "      <td>1</td>\n",
       "      <td>1</td>\n",
       "      <td>7027.511294</td>\n",
       "      <td>2</td>\n",
       "      <td>42</td>\n",
       "      <td>ultra</td>\n",
       "      <td>6</td>\n",
       "      <td>0</td>\n",
       "      <td>199</td>\n",
       "    </tr>\n",
       "    <tr>\n",
       "      <th>1</th>\n",
       "      <td>1</td>\n",
       "      <td>4</td>\n",
       "      <td>754.159807</td>\n",
       "      <td>1</td>\n",
       "      <td>7</td>\n",
       "      <td>ultra</td>\n",
       "      <td>6</td>\n",
       "      <td>0</td>\n",
       "      <td>199</td>\n",
       "    </tr>\n",
       "    <tr>\n",
       "      <th>2</th>\n",
       "      <td>1</td>\n",
       "      <td>8</td>\n",
       "      <td>6723.470560</td>\n",
       "      <td>2</td>\n",
       "      <td>46</td>\n",
       "      <td>ultra</td>\n",
       "      <td>6</td>\n",
       "      <td>0</td>\n",
       "      <td>199</td>\n",
       "    </tr>\n",
       "    <tr>\n",
       "      <th>3</th>\n",
       "      <td>1</td>\n",
       "      <td>10</td>\n",
       "      <td>5809.911100</td>\n",
       "      <td>2</td>\n",
       "      <td>32</td>\n",
       "      <td>ultra</td>\n",
       "      <td>6</td>\n",
       "      <td>0</td>\n",
       "      <td>199</td>\n",
       "    </tr>\n",
       "    <tr>\n",
       "      <th>4</th>\n",
       "      <td>1</td>\n",
       "      <td>11</td>\n",
       "      <td>7003.499363</td>\n",
       "      <td>3</td>\n",
       "      <td>56</td>\n",
       "      <td>ultra</td>\n",
       "      <td>6</td>\n",
       "      <td>0</td>\n",
       "      <td>199</td>\n",
       "    </tr>\n",
       "  </tbody>\n",
       "</table>\n",
       "</div>"
      ],
      "text/plain": [
       "   user_id  month  total_distance  total_trips  total_duration  \\\n",
       "0        1      1     7027.511294            2              42   \n",
       "1        1      4      754.159807            1               7   \n",
       "2        1      8     6723.470560            2              46   \n",
       "3        1     10     5809.911100            2              32   \n",
       "4        1     11     7003.499363            3              56   \n",
       "\n",
       "  subscription_type  minute_price  start_ride_price  subscription_fee  \n",
       "0             ultra             6                 0               199  \n",
       "1             ultra             6                 0               199  \n",
       "2             ultra             6                 0               199  \n",
       "3             ultra             6                 0               199  \n",
       "4             ultra             6                 0               199  "
      ]
     },
     "execution_count": 36,
     "metadata": {},
     "output_type": "execute_result"
    }
   ],
   "source": [
    "aggregated_df = final_df.groupby(['user_id', 'month']).agg(\n",
    "    total_distance=('distance', 'sum'),\n",
    "    total_trips=('distance', 'count'),\n",
    "    total_duration=('duration', 'sum'),\n",
    "    subscription_type=('subscription_type', 'first'),\n",
    "    minute_price=('minute_price', 'first'),\n",
    "    start_ride_price=('start_ride_price', 'first'),\n",
    "    subscription_fee=('subscription_fee','first')\n",
    "    \n",
    ").reset_index()\n",
    "\n",
    "aggregated_df.head()"
   ]
  },
  {
   "cell_type": "markdown",
   "id": "588a8d71",
   "metadata": {},
   "source": [
    "### В этот же датафрейм добавим столбец с помесячной выручкой, которую принёс каждый пользователь. Для этого обратимся к информации об условиях оплаты для подписчиков и тех, у кого нет подписки. "
   ]
  },
  {
   "cell_type": "code",
   "execution_count": 37,
   "id": "cae07d0e",
   "metadata": {
    "scrolled": true
   },
   "outputs": [
    {
     "data": {
      "text/html": [
       "<div>\n",
       "<style scoped>\n",
       "    .dataframe tbody tr th:only-of-type {\n",
       "        vertical-align: middle;\n",
       "    }\n",
       "\n",
       "    .dataframe tbody tr th {\n",
       "        vertical-align: top;\n",
       "    }\n",
       "\n",
       "    .dataframe thead th {\n",
       "        text-align: right;\n",
       "    }\n",
       "</style>\n",
       "<table border=\"1\" class=\"dataframe\">\n",
       "  <thead>\n",
       "    <tr style=\"text-align: right;\">\n",
       "      <th></th>\n",
       "      <th>user_id</th>\n",
       "      <th>month</th>\n",
       "      <th>total_distance</th>\n",
       "      <th>total_trips</th>\n",
       "      <th>total_duration</th>\n",
       "      <th>subscription_type</th>\n",
       "      <th>minute_price</th>\n",
       "      <th>start_ride_price</th>\n",
       "      <th>subscription_fee</th>\n",
       "      <th>total_revenue</th>\n",
       "    </tr>\n",
       "  </thead>\n",
       "  <tbody>\n",
       "    <tr>\n",
       "      <th>0</th>\n",
       "      <td>1</td>\n",
       "      <td>1</td>\n",
       "      <td>7027.511294</td>\n",
       "      <td>2</td>\n",
       "      <td>42</td>\n",
       "      <td>ultra</td>\n",
       "      <td>6</td>\n",
       "      <td>0</td>\n",
       "      <td>199</td>\n",
       "      <td>451</td>\n",
       "    </tr>\n",
       "    <tr>\n",
       "      <th>1</th>\n",
       "      <td>1</td>\n",
       "      <td>4</td>\n",
       "      <td>754.159807</td>\n",
       "      <td>1</td>\n",
       "      <td>7</td>\n",
       "      <td>ultra</td>\n",
       "      <td>6</td>\n",
       "      <td>0</td>\n",
       "      <td>199</td>\n",
       "      <td>241</td>\n",
       "    </tr>\n",
       "    <tr>\n",
       "      <th>2</th>\n",
       "      <td>1</td>\n",
       "      <td>8</td>\n",
       "      <td>6723.470560</td>\n",
       "      <td>2</td>\n",
       "      <td>46</td>\n",
       "      <td>ultra</td>\n",
       "      <td>6</td>\n",
       "      <td>0</td>\n",
       "      <td>199</td>\n",
       "      <td>475</td>\n",
       "    </tr>\n",
       "    <tr>\n",
       "      <th>3</th>\n",
       "      <td>1</td>\n",
       "      <td>10</td>\n",
       "      <td>5809.911100</td>\n",
       "      <td>2</td>\n",
       "      <td>32</td>\n",
       "      <td>ultra</td>\n",
       "      <td>6</td>\n",
       "      <td>0</td>\n",
       "      <td>199</td>\n",
       "      <td>391</td>\n",
       "    </tr>\n",
       "    <tr>\n",
       "      <th>4</th>\n",
       "      <td>1</td>\n",
       "      <td>11</td>\n",
       "      <td>7003.499363</td>\n",
       "      <td>3</td>\n",
       "      <td>56</td>\n",
       "      <td>ultra</td>\n",
       "      <td>6</td>\n",
       "      <td>0</td>\n",
       "      <td>199</td>\n",
       "      <td>535</td>\n",
       "    </tr>\n",
       "  </tbody>\n",
       "</table>\n",
       "</div>"
      ],
      "text/plain": [
       "   user_id  month  total_distance  total_trips  total_duration  \\\n",
       "0        1      1     7027.511294            2              42   \n",
       "1        1      4      754.159807            1               7   \n",
       "2        1      8     6723.470560            2              46   \n",
       "3        1     10     5809.911100            2              32   \n",
       "4        1     11     7003.499363            3              56   \n",
       "\n",
       "  subscription_type  minute_price  start_ride_price  subscription_fee  \\\n",
       "0             ultra             6                 0               199   \n",
       "1             ultra             6                 0               199   \n",
       "2             ultra             6                 0               199   \n",
       "3             ultra             6                 0               199   \n",
       "4             ultra             6                 0               199   \n",
       "\n",
       "   total_revenue  \n",
       "0            451  \n",
       "1            241  \n",
       "2            475  \n",
       "3            391  \n",
       "4            535  "
      ]
     },
     "execution_count": 37,
     "metadata": {},
     "output_type": "execute_result"
    }
   ],
   "source": [
    "aggregated_df['total_revenue'] = (\n",
    "    aggregated_df['start_ride_price'] * aggregated_df['total_trips'] +\n",
    "    aggregated_df['minute_price'] * aggregated_df['total_duration'] +\n",
    "    aggregated_df['subscription_fee']\n",
    ")\n",
    "aggregated_df.head()"
   ]
  },
  {
   "cell_type": "markdown",
   "id": "e94414b9",
   "metadata": {},
   "source": [
    "**Вывод: Мы подготовили данные для дальнейшей проверки гипотез в шаге 6.**"
   ]
  },
  {
   "cell_type": "markdown",
   "id": "41545ac0",
   "metadata": {},
   "source": [
    "## Проверка гипотез"
   ]
  },
  {
   "cell_type": "markdown",
   "id": "e360811c",
   "metadata": {},
   "source": [
    "Продакт-менеджеры сервиса хотят увеличить количество пользователей с подпиской. Для этого они будут проводить различные акции, но сначала нужно выяснить несколько важных моментов."
   ]
  },
  {
   "cell_type": "markdown",
   "id": "2aafd8ee",
   "metadata": {},
   "source": [
    "### Проверим, тратят ли пользователи с подпиской больше времени на поездки? Если да, то пользователи с подпиской могут быть «выгоднее» для компании. Проверим гипотезу. Используем исходные данные о продолжительности каждой сессии — отдельно для подписчиков и тех, у кого нет подписки."
   ]
  },
  {
   "cell_type": "markdown",
   "id": "f729a483",
   "metadata": {},
   "source": [
    "Нулевая гипотеза (H0): Средние значения времени, затраченного на поездку, у пользователей с подпиской и без подписки равны.\n",
    "\n",
    "Альтернативная гипотеза (H1): Среднее время, затраченное на поездку пользователями с подпиской, превышает среднее время, затраченное пользователями без подписки."
   ]
  },
  {
   "cell_type": "code",
   "execution_count": 38,
   "id": "71e8c81d",
   "metadata": {},
   "outputs": [
    {
     "name": "stdout",
     "output_type": "stream",
     "text": [
      "p-value: 1.2804098316645613e-34\n",
      "Отвергаем нулевую гипотезу\n"
     ]
    }
   ],
   "source": [
    "users_free_sample = users_free['duration']\n",
    "users_ultra_sample = users_ultra['duration']\n",
    "\n",
    "alpha = 0.05 # уровень статистической значимости\n",
    "# если p-value окажется меньше него, отвергнем гипотезу\n",
    "\n",
    "results = st.ttest_ind(users_ultra_sample, users_free_sample, alternative='greater')\n",
    "\n",
    "print(f'p-value: {results.pvalue}')\n",
    "\n",
    "# проверяем p-value\n",
    "if results.pvalue < alpha:\n",
    "    print('Отвергаем нулевую гипотезу')\n",
    "else:\n",
    "    print('Нет оснований отвергнуть нулевую гипотезу')\n"
   ]
  },
  {
   "cell_type": "markdown",
   "id": "304853e6",
   "metadata": {},
   "source": [
    "**Вывод: Полученное значение p-value меньше заданного уровня значимости, поэтому можно отвергнуть нулевую гипотезу. Есть основания говорить, что пользователи с подпиской тратят больше времени на поездку.**"
   ]
  },
  {
   "cell_type": "markdown",
   "id": "bb783d70",
   "metadata": {},
   "source": [
    "### Расстояние одной поездки в 3130 метров — оптимальное с точки зрения износа самоката. Можно ли сказать, что среднее расстояние, которое проезжают пользователи с подпиской, за одну поездку, не превышает (меньше или равно) оптимального расстояния 3130 метров? Проверьте гипотезу и сделайте выводы.\n"
   ]
  },
  {
   "cell_type": "markdown",
   "id": "98fe2e4d",
   "metadata": {},
   "source": [
    "Нулевая гипотеза (H0): среднее расстояние, которое проезжают пользователи с подпиской за одну поездку, равно 3130 метров.\n",
    "\n",
    "Альтернативная гипотеза (H1): среднее расстояние, которое проезжают пользователи с подпиской за одну поездку, больше оптимального расстояния 3130 метров."
   ]
  },
  {
   "cell_type": "code",
   "execution_count": 39,
   "id": "88e6b43d",
   "metadata": {},
   "outputs": [
    {
     "name": "stdout",
     "output_type": "stream",
     "text": [
      "p-значение: 0.9195368847849785\n",
      "Не получилось отвергнуть нулевую гипотезу\n"
     ]
    }
   ],
   "source": [
    "users_ultra_distance = users_ultra['distance']\n",
    "\n",
    "optimal_value = 3130\n",
    "alpha = 0.05 \n",
    "\n",
    "results = st.ttest_1samp(\n",
    "    users_ultra_distance, \n",
    "    optimal_value,  alternative='greater') \n",
    "\n",
    "print('p-значение:', results.pvalue)\n",
    "\n",
    "if results.pvalue < alpha:\n",
    "    print('Отвергаем нулевую гипотезу')\n",
    "else:\n",
    "    print('Не получилось отвергнуть нулевую гипотезу')"
   ]
  },
  {
   "cell_type": "markdown",
   "id": "92bcd061",
   "metadata": {},
   "source": [
    "Мы получили p_value = 0.92, оно достаточно высокое, чтобы указывать на то, что нет достаточных оснований для отклонения нулевой гипотезы, и мы не можем утверждать, что среднее растояние больше параметра optimal_value, равного 3130 метров. Таким образом, у нас нет оснований отклонить нулевую гипотезу в пользу альтернативной гипотезы, что среднее значение больше."
   ]
  },
  {
   "cell_type": "markdown",
   "id": "690afad2",
   "metadata": {},
   "source": [
    "**Вывод: Полученные данные позволяют считать, что среднее расстояние, которое проезжают пользователи с подпиской за одну поездку, не превышает (меньше или равно) оптимального расстояния 3130 метров.**"
   ]
  },
  {
   "cell_type": "markdown",
   "id": "78feec4a",
   "metadata": {},
   "source": [
    "### Проверьте гипотезу о том, будет ли помесячная выручка от пользователей с подпиской по месяцам выше, чем выручка от пользователей без подписки. Сделайте вывод."
   ]
  },
  {
   "cell_type": "markdown",
   "id": "251ee9a7",
   "metadata": {},
   "source": [
    "Нулевая гипотеза (H0): Помесячная выручка от пользователей с подпиской равно выручке от пользователей без подписки\n",
    "\n",
    "Альтернативная гипотеза (H1): Помесячная выручка от пользователей с подпиской выше выручки от пользователей без подписки"
   ]
  },
  {
   "cell_type": "code",
   "execution_count": 40,
   "id": "cd3898f3",
   "metadata": {},
   "outputs": [
    {
     "name": "stdout",
     "output_type": "stream",
     "text": [
      "p-value: 1.8850394384715216e-31\n",
      "Отвергаем нулевую гипотезу\n"
     ]
    }
   ],
   "source": [
    "revenue_free_sample = aggregated_df.loc[aggregated_df['subscription_type']=='free','total_revenue']\n",
    "revenue_ultra_sample = aggregated_df.loc[aggregated_df['subscription_type']=='ultra','total_revenue']\n",
    "\n",
    "alpha = 0.05 # уровень статистической значимости, если p-value окажется меньше него, отвергнем гипотезу\n",
    "\n",
    "results = st.ttest_ind(revenue_ultra_sample, revenue_free_sample, alternative='greater')\n",
    "\n",
    "print(f'p-value: {results.pvalue}')\n",
    "\n",
    "# проверяем p-value\n",
    "if results.pvalue < alpha:\n",
    "    print('Отвергаем нулевую гипотезу')\n",
    "else:\n",
    "    print('Нет оснований отвергнуть нулевую гипотезу')\n",
    "    \n",
    "#print('Средняя выручка от пользователей с подпиской:', revenue_ultra_sample.mean())\n",
    "#print('Средняя выручка от пользователей без подписки:', revenue_free_sample.mean())"
   ]
  },
  {
   "cell_type": "markdown",
   "id": "515e0c12",
   "metadata": {},
   "source": [
    "**Вывод: Низкое значения p-value позволяет нам отвергнуть нулевую гипотезу в пользу альтернативной, а именно - помесячная выручка от пользователей с подпиской выше выручки от пользователей без подписки.**"
   ]
  },
  {
   "cell_type": "markdown",
   "id": "aaac299f",
   "metadata": {},
   "source": [
    "### Представьте такую ситуацию: техническая команда сервиса обновила сервера, с которыми взаимодействует мобильное приложение. Она надеется, что из-за этого количество обращений в техподдержку значимо снизилось. Некоторый файл содержит для каждого пользователя данные о количестве обращений до обновления и после него. Какой тест вам понадобился бы для проверки этой гипотезы?"
   ]
  },
  {
   "cell_type": "markdown",
   "id": "3e89ad7f",
   "metadata": {},
   "source": [
    "Выборки в этом случае будут зависимыми, то есть парными. Парная выборка означает, что некоторая переменная измеряется дважды для одних и тех же объектов. В нашем примере это пара измерений для каждого пользователя — до и после изменения расчёта.\n",
    "Чтобы проверить гипотезу о равенстве среднего генеральной совокупности для зависимых (парных) выборок в Python, применяется метод **scipy.stats.ttest_rel()**.\n",
    "\n",
    "Ему достаточно передать всего два параметра: наборы данных до и после. Оба набора должны быть одинаковыми по размеру: каждое измерение должно быть проведено до и после изменения.\n",
    "\n",
    "Подразумевается, что порядок объектов, для которых сделаны измерения, в обоих массивах тоже одинаковый: k-е по порядку число в первом наборе и k-е число во втором наборе — это измерения для одного и того же объекта до и после изменения.\n",
    "\n",
    "Пример:"
   ]
  },
  {
   "cell_type": "code",
   "execution_count": 41,
   "id": "69121fab",
   "metadata": {},
   "outputs": [
    {
     "name": "stdout",
     "output_type": "stream",
     "text": [
      "p-значение: 0.0001304289905511372\n",
      "Отвергаем нулевую гипотезу о равенстве обращений до и после\n"
     ]
    }
   ],
   "source": [
    "np.random.seed(42) \n",
    "before = np.random.normal(loc=3.0, scale=0.1, size=30)\n",
    "after = np.random.normal(loc=2.9, scale=0.1, size=30)  \n",
    "\n",
    "alpha = 0.05\n",
    "results = st.ttest_rel(before, after, alternative='greater')\n",
    "\n",
    "print('p-значение:', results.pvalue)\n",
    "\n",
    "if results.pvalue < alpha:\n",
    "    print('Отвергаем нулевую гипотезу о равенстве обращений до и после')\n",
    "\n",
    "else:\n",
    "    print('Не получилось отвергнуть нулевую гипотезу о равенстве среднего веса посылок')\n"
   ]
  },
  {
   "cell_type": "markdown",
   "id": "42c5dd80",
   "metadata": {},
   "source": [
    "**Вывод:** \n",
    "\n",
    "**1. Выручка от подписчиков: Есть основания считать, что помесячная выручка от пользователей с подпиской превышает выручку от пользователей без подписки.**\n",
    "\n",
    "\n",
    "**2. Расстояние поездок: Есть основания считать, что среднее расстояние, которое проезжают пользователи с подпиской за одну поездку, не превышает оптимального значения в 3130 метров.**\n",
    "\n",
    "\n",
    "**3. Время поездки: Есть основания считать, что пользователи с подпиской тратят больше времени на поездки по сравнению с другими категориями пользователей.**\n",
    "\n",
    "**4. Чтобы проверить гипотезу о равенстве среднего генеральной совокупности для зависимых (парных) выборок в Python, применяется метод scipy.stats.ttest_rel().**"
   ]
  },
  {
   "cell_type": "markdown",
   "id": "61213c5e",
   "metadata": {},
   "source": [
    "## Распределения"
   ]
  },
  {
   "cell_type": "markdown",
   "id": "4d73bea5",
   "metadata": {},
   "source": [
    "### Задача:\n",
    "Отделу маркетинга GoFast поставили задачу: нужно провести акцию с раздачей промокодов на один бесплатный месяц подписки, в рамках которой как минимум 100 существующих клиентов должны продлить эту подписку. То есть по завершении периода действия подписки пользователь может либо отказаться от неё, либо продлить, совершив соответствующий платёж. Эта акция уже проводилась ранее и по итогу выяснилось, что после бесплатного пробного периода подписку продлевают 10% пользователей. Выясните, какое минимальное количество промокодов нужно разослать, чтобы вероятность не выполнить план была примерно 5 %. Подберите параметры распределения, описывающего эту ситуацию, постройте график распределения и сформулируйте ответ на вопрос о количестве промокодов.\n"
   ]
  },
  {
   "cell_type": "code",
   "execution_count": 42,
   "id": "4114f275",
   "metadata": {},
   "outputs": [
    {
     "name": "stdout",
     "output_type": "stream",
     "text": [
      "Минимальное количество промокодов, которые нужно разослать: 1161\n"
     ]
    },
    {
     "data": {
      "image/png": "[encoded data removed]",
      "text/plain": [
       "<Figure size 640x480 with 1 Axes>"
      ]
     },
     "metadata": {},
     "output_type": "display_data"
    }
   ],
   "source": [
    "p = 0.1  # вероятность продления подписки\n",
    "k = 100  # минимальное количество продлений\n",
    "alpha = 0.05  # уровень значимости\n",
    "\n",
    "# поиск минимального n\n",
    "n = k  # начнем с k и будем увеличивать\n",
    "while True:\n",
    "    # вероятность того, что продлений меньше k\n",
    "    prob = binom.cdf(k - 1, n, p)\n",
    "    if prob < alpha:  # если вероятность меньше 5%\n",
    "        break\n",
    "    n += 1\n",
    "\n",
    "\n",
    "print(f\"Минимальное количество промокодов, которые нужно разослать: {n}\")\n",
    "\n",
    "# построение графика биномиального распределения\n",
    "x = np.arange(0, n + 1)\n",
    "pmf = binom.pmf(x, n, p)\n",
    "\n",
    "plt.bar(x, pmf, label='Биномиальное распределение', color='blue')\n",
    "plt.axvline(k - 1, color='red', linestyle='--', label='k = 100')\n",
    "plt.title('Биномиальное распределение продлений подписки')\n",
    "plt.xlabel('Количество продлений')\n",
    "plt.ylabel('Вероятность')\n",
    "plt.xlim(50,175)\n",
    "plt.ylim(0,0.05)\n",
    "plt.legend()\n",
    "plt.grid()\n",
    "plt.show()\n"
   ]
  },
  {
   "cell_type": "code",
   "execution_count": 43,
   "id": "8537b4ae",
   "metadata": {},
   "outputs": [
    {
     "data": {
      "image/png": "[encoded data removed]",
      "text/plain": [
       "<Figure size 1200x600 with 1 Axes>"
      ]
     },
     "metadata": {},
     "output_type": "display_data"
    }
   ],
   "source": [
    "cdf = binom.cdf(x, n, p)\n",
    "# построение графика CDF\n",
    "plt.figure(figsize=(12, 6))\n",
    "plt.subplot(1, 2, 2)  # Правый график для CDF\n",
    "plt.plot(x, cdf, label='CDF', color='green')\n",
    "plt.axvline(k, color='red', linestyle='--', label='k = 100')\n",
    "plt.title('Кумулятивная функция распределения (CDF)')\n",
    "plt.xlabel('Количество продлений')\n",
    "plt.ylabel('Вероятность')\n",
    "plt.xlim(50, 175)\n",
    "plt.ylim(0, 1)\n",
    "plt.legend()\n",
    "plt.grid()\n",
    "\n",
    "plt.tight_layout()\n",
    "plt.show()"
   ]
  },
  {
   "cell_type": "markdown",
   "id": "4c0817b6",
   "metadata": {},
   "source": [
    "**Вывод: Мы использовали биномиальное распределение для моделирования количества продлений подписки при заданной вероятности успеха, а также кумулятивную функцию распределения для оценки необходимого количества промокодов, чтобы вероятность недостаточного количества продлений была ниже 5%. Циклический перебор помог определить минимально необходимое количество промокодов для достижения этой цели.\n",
    "После выполнения кода мы получили минимальное количество промокодов 1161, которые нужно разослать для достижения цели с вероятностью не выполнения плана примерно в 5%.**"
   ]
  },
  {
   "cell_type": "markdown",
   "id": "2bb41165",
   "metadata": {},
   "source": [
    "\n",
    "### Задача:\n",
    "Отдел маркетинга рассылает клиентам push-уведомления в мобильном приложении. Клиенты могут открыть его или не открывать. Известно, что уведомления открывают около 40 % получивших клиентов. Отдел планирует разослать 1 млн уведомлений. С помощью аппроксимации постройте примерный график распределения и оцените вероятность того, что уведомление откроют не более 399,5 тыс. пользователей.\n",
    "\n"
   ]
  },
  {
   "cell_type": "code",
   "execution_count": 44,
   "id": "fb5c426e",
   "metadata": {},
   "outputs": [
    {
     "name": "stdout",
     "output_type": "stream",
     "text": [
      "Вероятность того, что уведомление откроют не более 399,5 тыс. пользователей 0.15371708296369768\n"
     ]
    },
    {
     "data": {
      "image/png": "[encoded data removed]",
      "text/plain": [
       "<Figure size 1200x600 with 1 Axes>"
      ]
     },
     "metadata": {},
     "output_type": "display_data"
    }
   ],
   "source": [
    "p = 0.4 # вероятность, что уведомление откроют\n",
    "n = 1_000_000\n",
    "\n",
    "mu = n * p\n",
    "sigma = np.sqrt(n * p * (1 - p))\n",
    "distr = st.norm(mu, sigma) \n",
    "\n",
    "# значение, для которого хотим найти вероятность\n",
    "x = 399_500\n",
    "\n",
    "# считаем вероятность получить значение, равное x или меньше \n",
    "result = distr.cdf(x)\n",
    "\n",
    "print('Вероятность того, что уведомление откроют не более 399,5 тыс. пользователей', result)\n",
    "\n",
    "#  массив значений для нормального распределения\n",
    "x = np.linspace(mu - 4*sigma, mu + 4*sigma, 1000)\n",
    "norm_probs = norm.pdf(x, mu, sigma)\n",
    "\n",
    "plt.figure(figsize=(12, 6))\n",
    "plt.plot(x, norm_probs, label='Нормальное распределение', color='red')\n",
    "plt.title('Нормальное распределение')\n",
    "plt.xlabel('Значение (x)')\n",
    "plt.ylabel('Плотность вероятности')\n",
    "plt.xlim(mu - 4*sigma, mu + 4*sigma)\n",
    "plt.ylim(0, max(norm_probs) * 1.1)\n",
    "plt.grid()\n",
    "plt.legend()\n",
    "plt.show()"
   ]
  },
  {
   "cell_type": "markdown",
   "id": "baa7bcb9",
   "metadata": {},
   "source": [
    "**Вывод: Вероятность того, что уведомление откроют не более 399,5 тыс. пользователей 0.1537.**"
   ]
  },
  {
   "cell_type": "markdown",
   "id": "ecd43b51",
   "metadata": {},
   "source": [
    "Теперь рассмотрим графически, насколько хорошо работает аппроксимация."
   ]
  },
  {
   "cell_type": "code",
   "execution_count": 45,
   "id": "1d7ca5af",
   "metadata": {},
   "outputs": [
    {
     "data": {
      "image/png": "[encoded data removed]",
      "text/plain": [
       "<Figure size 1200x600 with 1 Axes>"
      ]
     },
     "metadata": {},
     "output_type": "display_data"
    }
   ],
   "source": [
    "import numpy as np\n",
    "import matplotlib.pyplot as plt\n",
    "from scipy.stats import binom, norm\n",
    "\n",
    "n = 1_000_000 \n",
    "p = 0.4 # вероятность, что уведомление откроют\n",
    "\n",
    "# параметры нормального распределения\n",
    "mu = n * p\n",
    "sigma = np.sqrt(n * p * (1 - p))\n",
    "\n",
    "# значения k для биномиального распределения\n",
    "k_values = np.arange(0, n + 1, 250)\n",
    "\n",
    "# биномиальное распределение\n",
    "binom_probs = binom.pmf(k_values, n, p)\n",
    "\n",
    "# нормальное распределение\n",
    "norm_probs = norm.pdf(k_values, mu, sigma)\n",
    "\n",
    "# построение графиков\n",
    "plt.figure(figsize=(12, 6))\n",
    "plt.plot(k_values, binom_probs, label='Биномиальное распределение',color='green')\n",
    "plt.plot(k_values, norm_probs, label='Нормальное распределение', alpha=0.5, linestyle='--',color='red')\n",
    "plt.xlabel('Количество открытий уведомлений')\n",
    "plt.ylabel('Вероятность')\n",
    "plt.title('Сравнение биномиального и нормального распределений')\n",
    "plt.xlim(398000,402000)\n",
    "plt.ylim(0, 0.0009)\n",
    "plt.grid()\n",
    "plt.legend()\n",
    "plt.show()"
   ]
  },
  {
   "cell_type": "markdown",
   "id": "84cf5418",
   "metadata": {},
   "source": [
    "Аппрокимация выглядит корректной."
   ]
  },
  {
   "cell_type": "markdown",
   "id": "6599b084",
   "metadata": {},
   "source": [
    "**Вывод: Вероятность того, что уведомление откроют не более 399,5 тыс. пользователей составляет примерно 15%. Значение, для которого мы искали вероятность очень близко к математическому ожиданию 400 тысяч, то есть наиболее часто наблюдаемому значению. Но тем не менее даже для большого числа экспериментов, у нас остается все еще довольно значимая вероятность получить менее 399,5 тысяч открытых уведомлений, и эта вероятность равна 15%. Отделу маркетинга стоит дать рекомендацию уточнить, насколько их устраивает такая вероятность не достичь целевого показателя 399500 открытий, и в случае, если она их не устроит, задать необходимый уровень значимости. Это может быть, например, 5% или 1%.** "
   ]
  },
  {
   "cell_type": "markdown",
   "id": "e715b796",
   "metadata": {},
   "source": [
    "## Выводы:"
   ]
  },
  {
   "cell_type": "markdown",
   "id": "fee5463d",
   "metadata": {},
   "source": [
    "1. Были подключены необходимые библиотеки для работы с данными и визуализации, такие как Pandas, Matplotlib, Seaborn, NumPy и SciPy. Созданы три датафрейма с данными о 1565 пользователях, 18068 поездках и двух типах подписок.\n",
    "\n",
    "\n",
    "2. Предобработка данных:\n",
    "   - Преобразован столбец date к типу datetime.\n",
    "   - Создан новый столбец month для дальнейшей агрегации данных.\n",
    "   - Проведена проверка на наличие пропущенных значений — все датафреймы оказались полными.\n",
    "   - Обнаружены и обработаны 31 дубликат в датафрейме пользователей.\n",
    "   \n",
    "\n",
    "3. Анализ данных:\n",
    "   - Определена частота пользователей по городам: большинство в Пятигорске(226), наименьшее количество в Москве(172).\n",
    "   - Выявлено соотношение пользователей с подпиской и без подписки (45.6% на 54.4%).\n",
    "   - Анализ длительности поездок показал, что наиболее частыми являются поездки длиной около 3100 метров и длительностью около 18 минут.\n",
    "\n",
    "\n",
    "4. Объединение данных: \n",
    "   - Созданы два новых датафрейма: один для пользователей без подписки, другой — для подписчиков.\n",
    "   - Обе группы показывают наличие двух пиков в протяженности поездок, что указывает на разные цели использования самокатов.\n",
    "   - Пользователи с подпиской имеют более узкий диапазон расстояний, что свидетельствует о наличии паттерна использования самокатов.\n",
    "   - Пользователи Free совершают больше коротких поездок (до 2000 метров), тогда как Ultra — больше поездок на расстоянии от 3000 до 4000 метров.\n",
    "   - Средняя продолжительность поездок у пользователей Ultra выше, чем у Free.\n",
    "   \n",
    "   \n",
    "\n",
    "5. Подготовка данных для анализа: Данные были подготовлены для дальнейшего анализа выручки и проверки гипотез.\n",
    "\n",
    "\n",
    "6. Проверка гипотез:\n",
    "   - Помесячная выручка от пользователей с подпиской превышает выручку от пользователей без подписки.\n",
    "   - Среднее расстояние поездок у подписчиков не превышает оптимального значения в 3130 метров.\n",
    "   - Подписчики тратят больше времени на поездки по сравнению с другими пользователями.\n",
    "   - Для проверки гипотезы о равенстве среднего генеральной совокупности используется метод scipy.stats.ttest_rel().\n",
    "\n",
    "\n",
    "**В ходе анализа данных о пользователях и их поездках были проведены шаги по предобработке и анализу. Результаты показывают различия в поведении пользователей с подпиской и без. Помесячная выручка от пользователей с подпиской превышает выручку от пользователей без подписки. Подписчики проявляют более целенаправленное использование сервиса. В то же время пользователи без подписки демонстрируют разнообразие в целях использования, что следует учитывать при разработке новых акций или услуг.**\n",
    "\n",
    "Вот несколько стратегий для дальнейшего развития бизнеса на основе проведенного анализа:\n",
    "\n",
    "▎1. Улучшение предложения\n",
    "   - Рассмотреть возможность введения дополнительных тарифных планов для подписчиков, предлагая различные уровни доступа и длительность подписки.\n",
    "\n",
    "▎2. Персонализированный маркетинг\n",
    "   - Использовать собранные данные для создания сегментов пользователей и разработки персонализированных предложений.\n",
    "   - Направлять рекламу на пользователей, которые не завершили процесс подписки, с предложениями о скидках или бонусах.\n",
    "\n",
    "▎3. Улучшение пользовательского опыта\n",
    "   - Изучить обратную связь пользователей о сервисе и вносить изменения на основе их пожеланий. Особенно обратить внимание на слишком короткие поездки по времени. Сделать понятной и доступной процедуру аренды. Вести учет сломанных, проблемных самокатов и своевременно устранять неисправности.\n",
    "\n",
    "▎4. Расширение географии и анализ конкурентного окружения\n",
    "   - Исследовать возможность выхода на новые рынки и города с высоким потенциалом для использования самокатов.\n",
    "   - Провесть анализ конкурентов для выявления их сильных и слабых сторон в Москве, чтобы привлечь больше пользоваталей.\n",
    "\n",
    "▎5. Анализ и оптимизация ценовой политики\n",
    "   - Провести тестирование различных ценовых моделей для определения оптимальной цены для подписчиков и пользователей без подписки.\n",
    "   - Оценить ценовые стратегии конкурентов и адаптировать свои предложения для повышения конкурентоспособности.\n",
    "\n",
    "**Для дальнейшего развития бизнеса стоит проанализировать отзывы клиентов и улучшить пользовательский опыт, тем самым увеличив длительность коротких поездок. Также рекомендуется провести анализ конкурентов и оптимизировать ценовую политику через тестирование и сравнительный анализ с конкурентами.** "
   ]
  },
  {
   "cell_type": "code",
   "execution_count": null,
   "id": "e03295b0",
   "metadata": {},
   "outputs": [],
   "source": []
  }
 ],
 "metadata": {
  "ExecuteTimeLog": [
   {
    "duration": 1418,
    "start_time": "2024-08-27T17:13:19.370Z"
   },
   {
    "duration": 179,
    "start_time": "2024-08-27T17:13:25.637Z"
   },
   {
    "duration": 45,
    "start_time": "2024-08-27T17:13:34.690Z"
   },
   {
    "duration": 56,
    "start_time": "2024-08-27T17:16:49.630Z"
   },
   {
    "duration": 179,
    "start_time": "2024-08-27T17:17:13.703Z"
   },
   {
    "duration": 59,
    "start_time": "2024-08-28T08:14:12.362Z"
   },
   {
    "duration": 1232,
    "start_time": "2024-08-28T08:14:35.326Z"
   },
   {
    "duration": 127,
    "start_time": "2024-08-28T08:14:36.560Z"
   },
   {
    "duration": 213,
    "start_time": "2024-08-28T08:14:36.925Z"
   },
   {
    "duration": 102,
    "start_time": "2024-08-28T08:14:38.596Z"
   },
   {
    "duration": 35,
    "start_time": "2024-08-28T08:15:01.185Z"
   },
   {
    "duration": 11,
    "start_time": "2024-08-28T08:16:10.613Z"
   },
   {
    "duration": 48,
    "start_time": "2024-08-28T08:16:29.115Z"
   },
   {
    "duration": 11,
    "start_time": "2024-08-28T08:16:48.285Z"
   },
   {
    "duration": 10,
    "start_time": "2024-08-28T08:17:20.646Z"
   },
   {
    "duration": 59,
    "start_time": "2024-08-28T08:28:19.943Z"
   },
   {
    "duration": 14,
    "start_time": "2024-08-28T08:28:33.027Z"
   },
   {
    "duration": 21,
    "start_time": "2024-08-28T08:30:25.940Z"
   },
   {
    "duration": 20,
    "start_time": "2024-08-28T08:30:39.667Z"
   },
   {
    "duration": 15,
    "start_time": "2024-08-28T08:30:50.958Z"
   },
   {
    "duration": 17,
    "start_time": "2024-08-28T08:31:11.698Z"
   },
   {
    "duration": 15,
    "start_time": "2024-08-28T08:31:26.982Z"
   },
   {
    "duration": 14,
    "start_time": "2024-08-28T08:33:31.167Z"
   },
   {
    "duration": 13,
    "start_time": "2024-08-28T08:33:57.747Z"
   },
   {
    "duration": 5,
    "start_time": "2024-08-28T08:35:19.147Z"
   },
   {
    "duration": 70,
    "start_time": "2024-08-28T08:35:31.807Z"
   },
   {
    "duration": 47,
    "start_time": "2024-08-28T12:10:19.413Z"
   },
   {
    "duration": 6,
    "start_time": "2024-08-28T12:12:34.782Z"
   },
   {
    "duration": 1247,
    "start_time": "2024-08-28T12:12:55.134Z"
   },
   {
    "duration": 129,
    "start_time": "2024-08-28T12:12:56.383Z"
   },
   {
    "duration": 12,
    "start_time": "2024-08-28T12:12:56.513Z"
   },
   {
    "duration": 210,
    "start_time": "2024-08-28T12:12:56.743Z"
   },
   {
    "duration": 13,
    "start_time": "2024-08-28T12:12:57.354Z"
   },
   {
    "duration": 102,
    "start_time": "2024-08-28T12:12:58.123Z"
   },
   {
    "duration": 10,
    "start_time": "2024-08-28T12:12:59.014Z"
   },
   {
    "duration": 9,
    "start_time": "2024-08-28T12:13:06.522Z"
   },
   {
    "duration": 5,
    "start_time": "2024-08-28T12:13:07.938Z"
   },
   {
    "duration": 6,
    "start_time": "2024-08-28T12:13:09.354Z"
   },
   {
    "duration": 5,
    "start_time": "2024-08-28T12:13:34.714Z"
   },
   {
    "duration": 7,
    "start_time": "2024-08-28T12:13:37.545Z"
   },
   {
    "duration": 57,
    "start_time": "2024-08-28T12:14:07.655Z"
   },
   {
    "duration": 5,
    "start_time": "2024-08-28T12:14:14.615Z"
   },
   {
    "duration": 9,
    "start_time": "2024-08-28T12:16:11.943Z"
   },
   {
    "duration": 6,
    "start_time": "2024-08-28T12:16:24.188Z"
   },
   {
    "duration": 10,
    "start_time": "2024-08-28T12:20:48.576Z"
   },
   {
    "duration": 66,
    "start_time": "2024-08-28T12:21:21.709Z"
   },
   {
    "duration": 76,
    "start_time": "2024-08-28T12:21:57.345Z"
   },
   {
    "duration": 13,
    "start_time": "2024-08-28T12:22:24.211Z"
   },
   {
    "duration": 11,
    "start_time": "2024-08-28T12:22:30.075Z"
   },
   {
    "duration": 14,
    "start_time": "2024-08-28T12:23:05.249Z"
   },
   {
    "duration": 6,
    "start_time": "2024-08-28T12:23:41.349Z"
   },
   {
    "duration": 6,
    "start_time": "2024-08-28T12:23:53.881Z"
   },
   {
    "duration": 9,
    "start_time": "2024-08-28T12:24:43.185Z"
   },
   {
    "duration": 8,
    "start_time": "2024-08-28T12:24:47.906Z"
   },
   {
    "duration": 5,
    "start_time": "2024-08-28T12:25:20.893Z"
   },
   {
    "duration": 244,
    "start_time": "2024-08-28T12:29:09.192Z"
   },
   {
    "duration": 209,
    "start_time": "2024-08-28T12:29:50.155Z"
   },
   {
    "duration": 119,
    "start_time": "2024-08-28T12:30:20.910Z"
   },
   {
    "duration": 10,
    "start_time": "2024-08-28T12:30:37.436Z"
   },
   {
    "duration": 13,
    "start_time": "2024-08-28T12:31:14.517Z"
   },
   {
    "duration": 13,
    "start_time": "2024-08-28T12:31:39.616Z"
   },
   {
    "duration": 115,
    "start_time": "2024-08-28T12:31:56.045Z"
   },
   {
    "duration": 151,
    "start_time": "2024-08-28T12:33:09.958Z"
   },
   {
    "duration": 146,
    "start_time": "2024-08-28T12:36:55.650Z"
   },
   {
    "duration": 159,
    "start_time": "2024-08-28T12:37:34.469Z"
   },
   {
    "duration": 135,
    "start_time": "2024-08-28T12:41:03.774Z"
   },
   {
    "duration": 221,
    "start_time": "2024-08-28T12:41:13.494Z"
   },
   {
    "duration": 118,
    "start_time": "2024-08-28T12:41:31.215Z"
   },
   {
    "duration": 99,
    "start_time": "2024-08-28T12:43:46.780Z"
   },
   {
    "duration": 100,
    "start_time": "2024-08-28T12:45:17.455Z"
   },
   {
    "duration": 93,
    "start_time": "2024-08-28T12:45:28.856Z"
   },
   {
    "duration": 86,
    "start_time": "2024-08-28T12:46:01.752Z"
   },
   {
    "duration": 91,
    "start_time": "2024-08-28T12:46:54.969Z"
   },
   {
    "duration": 83,
    "start_time": "2024-08-28T12:48:55.661Z"
   },
   {
    "duration": 1165,
    "start_time": "2024-08-28T12:51:22.815Z"
   },
   {
    "duration": 44,
    "start_time": "2024-08-28T12:51:23.982Z"
   },
   {
    "duration": 10,
    "start_time": "2024-08-28T12:51:24.028Z"
   },
   {
    "duration": 46,
    "start_time": "2024-08-28T12:51:24.040Z"
   },
   {
    "duration": 11,
    "start_time": "2024-08-28T12:51:24.088Z"
   },
   {
    "duration": 27,
    "start_time": "2024-08-28T12:51:24.100Z"
   },
   {
    "duration": 9,
    "start_time": "2024-08-28T12:51:24.129Z"
   },
   {
    "duration": 20,
    "start_time": "2024-08-28T12:51:24.140Z"
   },
   {
    "duration": 17,
    "start_time": "2024-08-28T12:51:24.162Z"
   },
   {
    "duration": 20,
    "start_time": "2024-08-28T12:51:24.181Z"
   },
   {
    "duration": 11,
    "start_time": "2024-08-28T12:51:24.203Z"
   },
   {
    "duration": 23,
    "start_time": "2024-08-28T12:51:24.216Z"
   },
   {
    "duration": 19,
    "start_time": "2024-08-28T12:51:24.240Z"
   },
   {
    "duration": 16,
    "start_time": "2024-08-28T12:51:24.262Z"
   },
   {
    "duration": 8,
    "start_time": "2024-08-28T12:51:24.280Z"
   },
   {
    "duration": 5,
    "start_time": "2024-08-28T12:51:24.289Z"
   },
   {
    "duration": 175,
    "start_time": "2024-08-28T12:51:24.295Z"
   },
   {
    "duration": 95,
    "start_time": "2024-08-28T12:51:24.471Z"
   },
   {
    "duration": 1058,
    "start_time": "2024-08-28T12:53:08.712Z"
   },
   {
    "duration": 43,
    "start_time": "2024-08-28T12:53:09.772Z"
   },
   {
    "duration": 11,
    "start_time": "2024-08-28T12:53:09.817Z"
   },
   {
    "duration": 49,
    "start_time": "2024-08-28T12:53:09.829Z"
   },
   {
    "duration": 10,
    "start_time": "2024-08-28T12:53:09.880Z"
   },
   {
    "duration": 22,
    "start_time": "2024-08-28T12:53:09.891Z"
   },
   {
    "duration": 9,
    "start_time": "2024-08-28T12:53:09.915Z"
   },
   {
    "duration": 10,
    "start_time": "2024-08-28T12:53:09.925Z"
   },
   {
    "duration": 5,
    "start_time": "2024-08-28T12:53:09.936Z"
   },
   {
    "duration": 6,
    "start_time": "2024-08-28T12:53:09.942Z"
   },
   {
    "duration": 6,
    "start_time": "2024-08-28T12:53:09.949Z"
   },
   {
    "duration": 15,
    "start_time": "2024-08-28T12:53:09.957Z"
   },
   {
    "duration": 6,
    "start_time": "2024-08-28T12:53:09.973Z"
   },
   {
    "duration": 5,
    "start_time": "2024-08-28T12:53:10.007Z"
   },
   {
    "duration": 11,
    "start_time": "2024-08-28T12:53:10.013Z"
   },
   {
    "duration": 4,
    "start_time": "2024-08-28T12:53:10.026Z"
   },
   {
    "duration": 187,
    "start_time": "2024-08-28T12:53:10.031Z"
   },
   {
    "duration": 89,
    "start_time": "2024-08-28T12:53:10.220Z"
   },
   {
    "duration": 1119,
    "start_time": "2024-08-28T12:56:31.857Z"
   },
   {
    "duration": 43,
    "start_time": "2024-08-28T12:56:32.978Z"
   },
   {
    "duration": 10,
    "start_time": "2024-08-28T12:56:33.023Z"
   },
   {
    "duration": 72,
    "start_time": "2024-08-28T12:56:33.034Z"
   },
   {
    "duration": 11,
    "start_time": "2024-08-28T12:56:33.108Z"
   },
   {
    "duration": 21,
    "start_time": "2024-08-28T12:56:33.121Z"
   },
   {
    "duration": 10,
    "start_time": "2024-08-28T12:56:33.143Z"
   },
   {
    "duration": 17,
    "start_time": "2024-08-28T12:56:33.154Z"
   },
   {
    "duration": 6,
    "start_time": "2024-08-28T12:56:33.173Z"
   },
   {
    "duration": 24,
    "start_time": "2024-08-28T12:56:33.181Z"
   },
   {
    "duration": 6,
    "start_time": "2024-08-28T12:56:33.206Z"
   },
   {
    "duration": 5,
    "start_time": "2024-08-28T12:56:33.213Z"
   },
   {
    "duration": 17,
    "start_time": "2024-08-28T12:56:33.219Z"
   },
   {
    "duration": 26,
    "start_time": "2024-08-28T12:56:33.238Z"
   },
   {
    "duration": 21,
    "start_time": "2024-08-28T12:56:33.265Z"
   },
   {
    "duration": 4,
    "start_time": "2024-08-28T12:56:33.287Z"
   },
   {
    "duration": 164,
    "start_time": "2024-08-28T12:56:33.292Z"
   },
   {
    "duration": 83,
    "start_time": "2024-08-28T12:56:33.457Z"
   },
   {
    "duration": 1095,
    "start_time": "2024-08-28T12:59:51.790Z"
   },
   {
    "duration": 48,
    "start_time": "2024-08-28T12:59:52.887Z"
   },
   {
    "duration": 10,
    "start_time": "2024-08-28T12:59:52.937Z"
   },
   {
    "duration": 86,
    "start_time": "2024-08-28T12:59:52.949Z"
   },
   {
    "duration": 10,
    "start_time": "2024-08-28T12:59:53.038Z"
   },
   {
    "duration": 48,
    "start_time": "2024-08-28T12:59:53.050Z"
   },
   {
    "duration": 10,
    "start_time": "2024-08-28T12:59:53.099Z"
   },
   {
    "duration": 21,
    "start_time": "2024-08-28T12:59:53.111Z"
   },
   {
    "duration": 7,
    "start_time": "2024-08-28T12:59:53.133Z"
   },
   {
    "duration": 6,
    "start_time": "2024-08-28T12:59:53.141Z"
   },
   {
    "duration": 30,
    "start_time": "2024-08-28T12:59:53.149Z"
   },
   {
    "duration": 16,
    "start_time": "2024-08-28T12:59:53.181Z"
   },
   {
    "duration": 20,
    "start_time": "2024-08-28T12:59:53.198Z"
   },
   {
    "duration": 6,
    "start_time": "2024-08-28T12:59:53.222Z"
   },
   {
    "duration": 20,
    "start_time": "2024-08-28T12:59:53.229Z"
   },
   {
    "duration": 30,
    "start_time": "2024-08-28T12:59:53.251Z"
   },
   {
    "duration": 185,
    "start_time": "2024-08-28T12:59:53.283Z"
   },
   {
    "duration": 98,
    "start_time": "2024-08-28T12:59:53.470Z"
   },
   {
    "duration": 3,
    "start_time": "2024-08-28T13:20:56.251Z"
   },
   {
    "duration": 40,
    "start_time": "2024-08-28T13:20:57.804Z"
   },
   {
    "duration": 11,
    "start_time": "2024-08-28T13:20:58.964Z"
   },
   {
    "duration": 50,
    "start_time": "2024-08-28T13:20:59.623Z"
   },
   {
    "duration": 39,
    "start_time": "2024-08-28T13:21:02.083Z"
   },
   {
    "duration": 13,
    "start_time": "2024-08-28T13:21:02.903Z"
   },
   {
    "duration": 49,
    "start_time": "2024-08-28T13:21:03.403Z"
   },
   {
    "duration": 12,
    "start_time": "2024-08-28T13:21:04.162Z"
   },
   {
    "duration": 36,
    "start_time": "2024-08-28T13:21:04.763Z"
   },
   {
    "duration": 9,
    "start_time": "2024-08-28T13:21:05.431Z"
   },
   {
    "duration": 13,
    "start_time": "2024-08-28T13:21:07.291Z"
   },
   {
    "duration": 5,
    "start_time": "2024-08-28T13:21:08.619Z"
   },
   {
    "duration": 7,
    "start_time": "2024-08-28T13:21:19.629Z"
   },
   {
    "duration": 6,
    "start_time": "2024-08-28T13:21:20.482Z"
   },
   {
    "duration": 6,
    "start_time": "2024-08-28T13:21:21.203Z"
   },
   {
    "duration": 7,
    "start_time": "2024-08-28T13:21:22.162Z"
   },
   {
    "duration": 6,
    "start_time": "2024-08-28T13:21:22.782Z"
   },
   {
    "duration": 9,
    "start_time": "2024-08-28T13:21:23.581Z"
   },
   {
    "duration": 5,
    "start_time": "2024-08-28T13:21:24.261Z"
   },
   {
    "duration": 152,
    "start_time": "2024-08-28T13:21:26.443Z"
   },
   {
    "duration": 84,
    "start_time": "2024-08-28T13:21:28.002Z"
   },
   {
    "duration": 135,
    "start_time": "2024-08-28T13:21:34.414Z"
   },
   {
    "duration": 42,
    "start_time": "2024-08-28T13:31:18.005Z"
   },
   {
    "duration": 39,
    "start_time": "2024-08-28T13:34:16.317Z"
   },
   {
    "duration": 10,
    "start_time": "2024-08-28T13:34:18.040Z"
   },
   {
    "duration": 47,
    "start_time": "2024-08-28T13:34:19.109Z"
   },
   {
    "duration": 11,
    "start_time": "2024-08-28T13:34:20.438Z"
   },
   {
    "duration": 37,
    "start_time": "2024-08-28T13:34:21.667Z"
   },
   {
    "duration": 10,
    "start_time": "2024-08-28T13:34:22.376Z"
   },
   {
    "duration": 9,
    "start_time": "2024-08-28T13:34:24.983Z"
   },
   {
    "duration": 5,
    "start_time": "2024-08-28T13:34:26.360Z"
   },
   {
    "duration": 7,
    "start_time": "2024-08-28T13:34:27.958Z"
   },
   {
    "duration": 6,
    "start_time": "2024-08-28T13:34:28.679Z"
   },
   {
    "duration": 6,
    "start_time": "2024-08-28T13:34:29.463Z"
   },
   {
    "duration": 7,
    "start_time": "2024-08-28T13:34:30.263Z"
   },
   {
    "duration": 6,
    "start_time": "2024-08-28T13:34:30.957Z"
   },
   {
    "duration": 9,
    "start_time": "2024-08-28T13:34:31.709Z"
   },
   {
    "duration": 6,
    "start_time": "2024-08-28T13:34:32.389Z"
   },
   {
    "duration": 166,
    "start_time": "2024-08-28T13:34:34.901Z"
   },
   {
    "duration": 85,
    "start_time": "2024-08-28T13:34:36.544Z"
   },
   {
    "duration": 154,
    "start_time": "2024-08-28T13:38:33.063Z"
   },
   {
    "duration": 180,
    "start_time": "2024-08-28T13:38:33.316Z"
   },
   {
    "duration": 89,
    "start_time": "2024-08-28T13:38:33.497Z"
   },
   {
    "duration": 152,
    "start_time": "2024-08-28T13:41:50.842Z"
   },
   {
    "duration": 164,
    "start_time": "2024-08-28T13:43:48.924Z"
   },
   {
    "duration": 160,
    "start_time": "2024-08-28T13:44:24.695Z"
   },
   {
    "duration": 155,
    "start_time": "2024-08-28T13:45:12.667Z"
   },
   {
    "duration": 164,
    "start_time": "2024-08-28T13:50:52.115Z"
   },
   {
    "duration": 855,
    "start_time": "2024-08-28T19:50:49.524Z"
   },
   {
    "duration": 94,
    "start_time": "2024-08-28T19:50:50.381Z"
   },
   {
    "duration": 11,
    "start_time": "2024-08-28T19:50:50.476Z"
   },
   {
    "duration": 173,
    "start_time": "2024-08-28T19:50:50.489Z"
   },
   {
    "duration": 10,
    "start_time": "2024-08-28T19:50:50.663Z"
   },
   {
    "duration": 71,
    "start_time": "2024-08-28T19:50:50.675Z"
   },
   {
    "duration": 10,
    "start_time": "2024-08-28T19:50:50.747Z"
   },
   {
    "duration": 9,
    "start_time": "2024-08-28T19:50:50.759Z"
   },
   {
    "duration": 6,
    "start_time": "2024-08-28T19:50:50.769Z"
   },
   {
    "duration": 6,
    "start_time": "2024-08-28T19:50:50.777Z"
   },
   {
    "duration": 9,
    "start_time": "2024-08-28T19:50:50.784Z"
   },
   {
    "duration": 11,
    "start_time": "2024-08-28T19:50:50.794Z"
   },
   {
    "duration": 6,
    "start_time": "2024-08-28T19:50:50.807Z"
   },
   {
    "duration": 7,
    "start_time": "2024-08-28T19:50:50.839Z"
   },
   {
    "duration": 11,
    "start_time": "2024-08-28T19:50:50.848Z"
   },
   {
    "duration": 7,
    "start_time": "2024-08-28T19:50:50.861Z"
   },
   {
    "duration": 186,
    "start_time": "2024-08-28T19:50:50.870Z"
   },
   {
    "duration": 85,
    "start_time": "2024-08-28T19:50:51.058Z"
   },
   {
    "duration": 157,
    "start_time": "2024-08-28T19:50:51.145Z"
   },
   {
    "duration": 155,
    "start_time": "2024-08-28T19:50:51.304Z"
   },
   {
    "duration": 194,
    "start_time": "2024-08-28T19:52:10.810Z"
   },
   {
    "duration": 149,
    "start_time": "2024-08-28T19:52:17.791Z"
   },
   {
    "duration": 156,
    "start_time": "2024-08-28T19:52:44.057Z"
   },
   {
    "duration": 142,
    "start_time": "2024-08-28T19:53:02.081Z"
   },
   {
    "duration": 155,
    "start_time": "2024-08-28T19:54:23.768Z"
   },
   {
    "duration": 148,
    "start_time": "2024-08-28T19:54:33.896Z"
   },
   {
    "duration": 161,
    "start_time": "2024-08-28T19:54:37.837Z"
   },
   {
    "duration": 111,
    "start_time": "2024-08-28T19:56:21.189Z"
   },
   {
    "duration": 108,
    "start_time": "2024-08-28T19:56:33.683Z"
   },
   {
    "duration": 108,
    "start_time": "2024-08-28T19:56:44.996Z"
   },
   {
    "duration": 131,
    "start_time": "2024-08-28T19:56:58.686Z"
   },
   {
    "duration": 67,
    "start_time": "2024-08-28T19:58:21.578Z"
   },
   {
    "duration": 4,
    "start_time": "2024-08-28T19:58:28.654Z"
   },
   {
    "duration": 4,
    "start_time": "2024-08-28T19:59:01.355Z"
   },
   {
    "duration": 194,
    "start_time": "2024-08-28T20:00:28.226Z"
   },
   {
    "duration": 121,
    "start_time": "2024-08-28T20:00:57.448Z"
   },
   {
    "duration": 119,
    "start_time": "2024-08-28T20:01:02.177Z"
   },
   {
    "duration": 115,
    "start_time": "2024-08-28T20:01:07.175Z"
   },
   {
    "duration": 4,
    "start_time": "2024-08-28T20:01:29.783Z"
   },
   {
    "duration": 6,
    "start_time": "2024-08-28T20:01:53.357Z"
   },
   {
    "duration": 4,
    "start_time": "2024-08-28T20:02:13.646Z"
   },
   {
    "duration": 6,
    "start_time": "2024-08-28T20:02:27.441Z"
   },
   {
    "duration": 5,
    "start_time": "2024-08-28T20:02:34.255Z"
   },
   {
    "duration": 116,
    "start_time": "2024-08-28T20:06:00.360Z"
   },
   {
    "duration": 5,
    "start_time": "2024-08-28T20:06:01.387Z"
   },
   {
    "duration": 855,
    "start_time": "2024-08-29T08:02:36.554Z"
   },
   {
    "duration": 128,
    "start_time": "2024-08-29T08:02:37.411Z"
   },
   {
    "duration": 13,
    "start_time": "2024-08-29T08:02:37.541Z"
   },
   {
    "duration": 208,
    "start_time": "2024-08-29T08:02:37.555Z"
   },
   {
    "duration": 11,
    "start_time": "2024-08-29T08:02:37.765Z"
   },
   {
    "duration": 96,
    "start_time": "2024-08-29T08:02:37.778Z"
   },
   {
    "duration": 10,
    "start_time": "2024-08-29T08:02:37.876Z"
   },
   {
    "duration": 23,
    "start_time": "2024-08-29T08:02:37.888Z"
   },
   {
    "duration": 11,
    "start_time": "2024-08-29T08:02:37.913Z"
   },
   {
    "duration": 6,
    "start_time": "2024-08-29T08:02:37.926Z"
   },
   {
    "duration": 8,
    "start_time": "2024-08-29T08:02:37.933Z"
   },
   {
    "duration": 9,
    "start_time": "2024-08-29T08:02:37.942Z"
   },
   {
    "duration": 6,
    "start_time": "2024-08-29T08:02:37.952Z"
   },
   {
    "duration": 6,
    "start_time": "2024-08-29T08:02:37.960Z"
   },
   {
    "duration": 9,
    "start_time": "2024-08-29T08:02:37.967Z"
   },
   {
    "duration": 5,
    "start_time": "2024-08-29T08:02:37.977Z"
   },
   {
    "duration": 250,
    "start_time": "2024-08-29T08:02:37.984Z"
   },
   {
    "duration": 95,
    "start_time": "2024-08-29T08:02:38.236Z"
   },
   {
    "duration": 189,
    "start_time": "2024-08-29T08:02:38.332Z"
   },
   {
    "duration": 135,
    "start_time": "2024-08-29T08:02:38.522Z"
   },
   {
    "duration": 5,
    "start_time": "2024-08-29T08:02:38.658Z"
   },
   {
    "duration": 242,
    "start_time": "2024-08-29T08:02:38.664Z"
   },
   {
    "duration": 138,
    "start_time": "2024-08-29T08:02:38.908Z"
   },
   {
    "duration": 7,
    "start_time": "2024-08-29T08:02:39.047Z"
   },
   {
    "duration": 47,
    "start_time": "2024-08-29T08:02:39.056Z"
   },
   {
    "duration": 0,
    "start_time": "2024-08-29T08:02:39.104Z"
   },
   {
    "duration": 20,
    "start_time": "2024-08-29T08:03:59.150Z"
   },
   {
    "duration": 17,
    "start_time": "2024-08-29T08:04:37.745Z"
   },
   {
    "duration": 19,
    "start_time": "2024-08-29T08:04:52.407Z"
   },
   {
    "duration": 28,
    "start_time": "2024-08-29T08:06:36.674Z"
   },
   {
    "duration": 7,
    "start_time": "2024-08-29T08:11:18.825Z"
   },
   {
    "duration": 21,
    "start_time": "2024-08-29T08:11:28.032Z"
   },
   {
    "duration": 21,
    "start_time": "2024-08-29T08:12:09.313Z"
   },
   {
    "duration": 865,
    "start_time": "2024-08-29T11:05:25.062Z"
   },
   {
    "duration": 119,
    "start_time": "2024-08-29T11:05:25.930Z"
   },
   {
    "duration": 12,
    "start_time": "2024-08-29T11:05:26.051Z"
   },
   {
    "duration": 211,
    "start_time": "2024-08-29T11:05:26.065Z"
   },
   {
    "duration": 12,
    "start_time": "2024-08-29T11:05:26.277Z"
   },
   {
    "duration": 111,
    "start_time": "2024-08-29T11:05:26.291Z"
   },
   {
    "duration": 10,
    "start_time": "2024-08-29T11:05:26.404Z"
   },
   {
    "duration": 32,
    "start_time": "2024-08-29T11:05:26.416Z"
   },
   {
    "duration": 57,
    "start_time": "2024-08-29T11:05:26.450Z"
   },
   {
    "duration": 18,
    "start_time": "2024-08-29T11:05:26.510Z"
   },
   {
    "duration": 8,
    "start_time": "2024-08-29T11:05:26.529Z"
   },
   {
    "duration": 8,
    "start_time": "2024-08-29T11:05:26.539Z"
   },
   {
    "duration": 10,
    "start_time": "2024-08-29T11:05:26.549Z"
   },
   {
    "duration": 54,
    "start_time": "2024-08-29T11:05:26.561Z"
   },
   {
    "duration": 25,
    "start_time": "2024-08-29T11:05:26.617Z"
   },
   {
    "duration": 6,
    "start_time": "2024-08-29T11:05:26.644Z"
   },
   {
    "duration": 208,
    "start_time": "2024-08-29T11:05:26.652Z"
   },
   {
    "duration": 104,
    "start_time": "2024-08-29T11:05:26.862Z"
   },
   {
    "duration": 181,
    "start_time": "2024-08-29T11:05:26.968Z"
   },
   {
    "duration": 149,
    "start_time": "2024-08-29T11:05:27.151Z"
   },
   {
    "duration": 6,
    "start_time": "2024-08-29T11:05:27.301Z"
   },
   {
    "duration": 241,
    "start_time": "2024-08-29T11:05:27.309Z"
   },
   {
    "duration": 167,
    "start_time": "2024-08-29T11:05:27.552Z"
   },
   {
    "duration": 6,
    "start_time": "2024-08-29T11:05:27.721Z"
   },
   {
    "duration": 34,
    "start_time": "2024-08-29T11:05:27.728Z"
   },
   {
    "duration": 52,
    "start_time": "2024-08-29T11:05:27.764Z"
   },
   {
    "duration": 21,
    "start_time": "2024-08-29T11:05:27.818Z"
   },
   {
    "duration": 84,
    "start_time": "2024-08-29T11:07:27.067Z"
   },
   {
    "duration": 1288,
    "start_time": "2024-08-29T11:08:07.636Z"
   },
   {
    "duration": 51,
    "start_time": "2024-08-29T11:08:08.927Z"
   },
   {
    "duration": 16,
    "start_time": "2024-08-29T11:08:08.980Z"
   },
   {
    "duration": 66,
    "start_time": "2024-08-29T11:08:09.000Z"
   },
   {
    "duration": 12,
    "start_time": "2024-08-29T11:08:09.068Z"
   },
   {
    "duration": 36,
    "start_time": "2024-08-29T11:08:09.082Z"
   },
   {
    "duration": 13,
    "start_time": "2024-08-29T11:08:09.121Z"
   },
   {
    "duration": 15,
    "start_time": "2024-08-29T11:08:09.136Z"
   },
   {
    "duration": 10,
    "start_time": "2024-08-29T11:08:09.153Z"
   },
   {
    "duration": 7,
    "start_time": "2024-08-29T11:08:09.167Z"
   },
   {
    "duration": 39,
    "start_time": "2024-08-29T11:08:09.176Z"
   },
   {
    "duration": 8,
    "start_time": "2024-08-29T11:08:09.217Z"
   },
   {
    "duration": 12,
    "start_time": "2024-08-29T11:08:09.227Z"
   },
   {
    "duration": 6,
    "start_time": "2024-08-29T11:08:09.241Z"
   },
   {
    "duration": 11,
    "start_time": "2024-08-29T11:08:09.250Z"
   },
   {
    "duration": 7,
    "start_time": "2024-08-29T11:08:09.263Z"
   },
   {
    "duration": 236,
    "start_time": "2024-08-29T11:08:09.272Z"
   },
   {
    "duration": 120,
    "start_time": "2024-08-29T11:08:09.511Z"
   },
   {
    "duration": 192,
    "start_time": "2024-08-29T11:08:09.636Z"
   },
   {
    "duration": 171,
    "start_time": "2024-08-29T11:08:09.829Z"
   },
   {
    "duration": 5,
    "start_time": "2024-08-29T11:08:10.002Z"
   },
   {
    "duration": 228,
    "start_time": "2024-08-29T11:08:10.008Z"
   },
   {
    "duration": 141,
    "start_time": "2024-08-29T11:08:10.238Z"
   },
   {
    "duration": 17,
    "start_time": "2024-08-29T11:08:10.381Z"
   },
   {
    "duration": 45,
    "start_time": "2024-08-29T11:08:10.400Z"
   },
   {
    "duration": 21,
    "start_time": "2024-08-29T11:08:10.447Z"
   },
   {
    "duration": 37,
    "start_time": "2024-08-29T11:08:10.470Z"
   },
   {
    "duration": 281,
    "start_time": "2024-08-29T11:08:10.509Z"
   },
   {
    "duration": 175,
    "start_time": "2024-08-29T11:11:44.198Z"
   },
   {
    "duration": 260,
    "start_time": "2024-08-29T11:12:20.809Z"
   },
   {
    "duration": 207,
    "start_time": "2024-08-29T11:14:17.737Z"
   },
   {
    "duration": 221,
    "start_time": "2024-08-29T11:22:06.765Z"
   },
   {
    "duration": 225,
    "start_time": "2024-08-29T11:23:03.321Z"
   },
   {
    "duration": 248,
    "start_time": "2024-08-29T11:23:29.174Z"
   },
   {
    "duration": 222,
    "start_time": "2024-08-29T11:24:22.796Z"
   },
   {
    "duration": 233,
    "start_time": "2024-08-29T11:24:32.326Z"
   },
   {
    "duration": 228,
    "start_time": "2024-08-29T11:25:41.321Z"
   },
   {
    "duration": 227,
    "start_time": "2024-08-29T11:26:02.988Z"
   },
   {
    "duration": 252,
    "start_time": "2024-08-29T11:27:19.423Z"
   },
   {
    "duration": 276,
    "start_time": "2024-08-29T11:27:31.885Z"
   },
   {
    "duration": 313,
    "start_time": "2024-08-29T11:31:03.531Z"
   },
   {
    "duration": 218,
    "start_time": "2024-08-29T11:31:28.933Z"
   },
   {
    "duration": 847,
    "start_time": "2024-08-29T12:18:04.829Z"
   },
   {
    "duration": 13,
    "start_time": "2024-08-29T12:18:55.452Z"
   },
   {
    "duration": 14,
    "start_time": "2024-08-29T12:19:14.130Z"
   },
   {
    "duration": 11,
    "start_time": "2024-08-29T12:21:29.918Z"
   },
   {
    "duration": 10,
    "start_time": "2024-08-29T12:29:06.663Z"
   },
   {
    "duration": 7,
    "start_time": "2024-08-29T12:29:48.364Z"
   },
   {
    "duration": 7,
    "start_time": "2024-08-29T12:29:57.271Z"
   },
   {
    "duration": 4,
    "start_time": "2024-08-29T12:30:30.325Z"
   },
   {
    "duration": 4,
    "start_time": "2024-08-29T12:30:41.471Z"
   },
   {
    "duration": 7,
    "start_time": "2024-08-29T12:34:25.075Z"
   },
   {
    "duration": 5,
    "start_time": "2024-08-29T12:35:39.116Z"
   },
   {
    "duration": 7,
    "start_time": "2024-08-29T12:36:38.895Z"
   },
   {
    "duration": 21,
    "start_time": "2024-08-29T12:40:11.283Z"
   },
   {
    "duration": 8,
    "start_time": "2024-08-29T12:48:28.925Z"
   },
   {
    "duration": 7,
    "start_time": "2024-08-29T12:48:50.039Z"
   },
   {
    "duration": 88,
    "start_time": "2024-08-29T12:59:07.726Z"
   },
   {
    "duration": 18,
    "start_time": "2024-08-29T13:01:06.040Z"
   },
   {
    "duration": 12,
    "start_time": "2024-08-29T13:02:37.006Z"
   },
   {
    "duration": 13,
    "start_time": "2024-08-29T13:02:48.366Z"
   },
   {
    "duration": 133,
    "start_time": "2024-08-29T13:03:44.931Z"
   },
   {
    "duration": 126,
    "start_time": "2024-08-29T13:04:35.936Z"
   },
   {
    "duration": 136,
    "start_time": "2024-08-29T13:06:04.200Z"
   },
   {
    "duration": 201,
    "start_time": "2024-08-29T13:06:51.566Z"
   },
   {
    "duration": 139,
    "start_time": "2024-08-29T13:08:31.093Z"
   },
   {
    "duration": 182,
    "start_time": "2024-08-29T13:08:59.608Z"
   },
   {
    "duration": 181,
    "start_time": "2024-08-29T13:09:37.362Z"
   },
   {
    "duration": 160,
    "start_time": "2024-08-29T13:09:52.727Z"
   },
   {
    "duration": 232,
    "start_time": "2024-08-29T13:10:14.641Z"
   },
   {
    "duration": 147,
    "start_time": "2024-08-29T13:11:03.443Z"
   },
   {
    "duration": 143,
    "start_time": "2024-08-29T13:12:41.705Z"
   },
   {
    "duration": 146,
    "start_time": "2024-08-29T13:12:59.977Z"
   },
   {
    "duration": 346,
    "start_time": "2024-08-29T13:16:19.169Z"
   },
   {
    "duration": 360,
    "start_time": "2024-08-29T13:17:08.627Z"
   },
   {
    "duration": 326,
    "start_time": "2024-08-29T13:19:19.653Z"
   },
   {
    "duration": 332,
    "start_time": "2024-08-29T13:20:06.377Z"
   },
   {
    "duration": 343,
    "start_time": "2024-08-29T13:20:30.068Z"
   },
   {
    "duration": 395,
    "start_time": "2024-08-29T13:21:08.497Z"
   },
   {
    "duration": 385,
    "start_time": "2024-08-29T13:21:27.387Z"
   },
   {
    "duration": 309,
    "start_time": "2024-08-29T13:25:05.684Z"
   },
   {
    "duration": 393,
    "start_time": "2024-08-29T14:16:31.772Z"
   },
   {
    "duration": 344,
    "start_time": "2024-08-29T14:16:53.675Z"
   },
   {
    "duration": 383,
    "start_time": "2024-08-29T14:17:25.828Z"
   },
   {
    "duration": 340,
    "start_time": "2024-08-29T14:18:08.491Z"
   },
   {
    "duration": 383,
    "start_time": "2024-08-29T14:19:01.635Z"
   },
   {
    "duration": 392,
    "start_time": "2024-08-29T14:19:59.838Z"
   },
   {
    "duration": 349,
    "start_time": "2024-08-29T14:20:20.768Z"
   },
   {
    "duration": 390,
    "start_time": "2024-08-29T14:32:45.238Z"
   },
   {
    "duration": 334,
    "start_time": "2024-08-29T14:33:52.004Z"
   },
   {
    "duration": 20,
    "start_time": "2024-08-29T14:59:25.929Z"
   },
   {
    "duration": 18,
    "start_time": "2024-08-29T15:08:20.588Z"
   },
   {
    "duration": 27,
    "start_time": "2024-08-29T15:08:33.239Z"
   },
   {
    "duration": 1374,
    "start_time": "2024-08-30T06:32:44.528Z"
   },
   {
    "duration": 103,
    "start_time": "2024-08-30T06:32:45.905Z"
   },
   {
    "duration": 11,
    "start_time": "2024-08-30T06:32:46.011Z"
   },
   {
    "duration": 160,
    "start_time": "2024-08-30T06:32:46.024Z"
   },
   {
    "duration": 13,
    "start_time": "2024-08-30T06:32:46.186Z"
   },
   {
    "duration": 136,
    "start_time": "2024-08-30T06:32:46.200Z"
   },
   {
    "duration": 10,
    "start_time": "2024-08-30T06:32:46.338Z"
   },
   {
    "duration": 11,
    "start_time": "2024-08-30T06:32:46.350Z"
   },
   {
    "duration": 16,
    "start_time": "2024-08-30T06:32:46.362Z"
   },
   {
    "duration": 10,
    "start_time": "2024-08-30T06:32:46.382Z"
   },
   {
    "duration": 7,
    "start_time": "2024-08-30T06:32:46.393Z"
   },
   {
    "duration": 7,
    "start_time": "2024-08-30T06:32:46.402Z"
   },
   {
    "duration": 13,
    "start_time": "2024-08-30T06:32:46.411Z"
   },
   {
    "duration": 6,
    "start_time": "2024-08-30T06:32:46.426Z"
   },
   {
    "duration": 29,
    "start_time": "2024-08-30T06:32:46.433Z"
   },
   {
    "duration": 6,
    "start_time": "2024-08-30T06:32:46.464Z"
   },
   {
    "duration": 187,
    "start_time": "2024-08-30T06:32:46.471Z"
   },
   {
    "duration": 82,
    "start_time": "2024-08-30T06:32:46.660Z"
   },
   {
    "duration": 176,
    "start_time": "2024-08-30T06:32:46.744Z"
   },
   {
    "duration": 140,
    "start_time": "2024-08-30T06:32:46.922Z"
   },
   {
    "duration": 5,
    "start_time": "2024-08-30T06:32:47.064Z"
   },
   {
    "duration": 185,
    "start_time": "2024-08-30T06:32:47.071Z"
   },
   {
    "duration": 128,
    "start_time": "2024-08-30T06:32:47.260Z"
   },
   {
    "duration": 5,
    "start_time": "2024-08-30T06:32:47.390Z"
   },
   {
    "duration": 37,
    "start_time": "2024-08-30T06:32:47.396Z"
   },
   {
    "duration": 34,
    "start_time": "2024-08-30T06:32:47.434Z"
   },
   {
    "duration": 20,
    "start_time": "2024-08-30T06:32:47.470Z"
   },
   {
    "duration": 217,
    "start_time": "2024-08-30T06:32:47.493Z"
   },
   {
    "duration": 8,
    "start_time": "2024-08-30T06:32:47.712Z"
   },
   {
    "duration": 231,
    "start_time": "2024-08-30T06:32:47.721Z"
   },
   {
    "duration": 11,
    "start_time": "2024-08-30T06:32:47.954Z"
   },
   {
    "duration": 360,
    "start_time": "2024-08-30T06:32:47.966Z"
   },
   {
    "duration": 204,
    "start_time": "2024-08-30T06:32:48.328Z"
   },
   {
    "duration": 388,
    "start_time": "2024-08-30T06:32:48.534Z"
   },
   {
    "duration": 356,
    "start_time": "2024-08-30T06:32:48.924Z"
   },
   {
    "duration": 101,
    "start_time": "2024-08-30T06:32:49.282Z"
   },
   {
    "duration": 0,
    "start_time": "2024-08-30T06:32:49.384Z"
   },
   {
    "duration": 28,
    "start_time": "2024-08-30T06:33:05.875Z"
   },
   {
    "duration": 29,
    "start_time": "2024-08-30T06:34:09.108Z"
   },
   {
    "duration": 25,
    "start_time": "2024-08-30T06:35:45.008Z"
   },
   {
    "duration": 25,
    "start_time": "2024-08-30T07:25:08.291Z"
   },
   {
    "duration": 32,
    "start_time": "2024-08-30T07:25:19.478Z"
   },
   {
    "duration": 40,
    "start_time": "2024-08-30T07:27:55.864Z"
   },
   {
    "duration": 12,
    "start_time": "2024-08-30T07:29:28.344Z"
   },
   {
    "duration": 9,
    "start_time": "2024-08-30T07:29:35.513Z"
   },
   {
    "duration": 1153,
    "start_time": "2024-08-30T07:30:07.639Z"
   },
   {
    "duration": 39,
    "start_time": "2024-08-30T07:30:08.794Z"
   },
   {
    "duration": 11,
    "start_time": "2024-08-30T07:30:08.834Z"
   },
   {
    "duration": 40,
    "start_time": "2024-08-30T07:30:08.847Z"
   },
   {
    "duration": 10,
    "start_time": "2024-08-30T07:30:08.889Z"
   },
   {
    "duration": 42,
    "start_time": "2024-08-30T07:30:08.900Z"
   },
   {
    "duration": 14,
    "start_time": "2024-08-30T07:30:08.943Z"
   },
   {
    "duration": 18,
    "start_time": "2024-08-30T07:30:08.958Z"
   },
   {
    "duration": 6,
    "start_time": "2024-08-30T07:30:08.978Z"
   },
   {
    "duration": 6,
    "start_time": "2024-08-30T07:30:08.986Z"
   },
   {
    "duration": 6,
    "start_time": "2024-08-30T07:30:08.994Z"
   },
   {
    "duration": 7,
    "start_time": "2024-08-30T07:30:09.001Z"
   },
   {
    "duration": 11,
    "start_time": "2024-08-30T07:30:09.009Z"
   },
   {
    "duration": 8,
    "start_time": "2024-08-30T07:30:09.022Z"
   },
   {
    "duration": 9,
    "start_time": "2024-08-30T07:30:09.031Z"
   },
   {
    "duration": 5,
    "start_time": "2024-08-30T07:30:09.061Z"
   },
   {
    "duration": 202,
    "start_time": "2024-08-30T07:30:09.068Z"
   },
   {
    "duration": 97,
    "start_time": "2024-08-30T07:30:09.271Z"
   },
   {
    "duration": 170,
    "start_time": "2024-08-30T07:30:09.370Z"
   },
   {
    "duration": 129,
    "start_time": "2024-08-30T07:30:09.542Z"
   },
   {
    "duration": 5,
    "start_time": "2024-08-30T07:30:09.672Z"
   },
   {
    "duration": 195,
    "start_time": "2024-08-30T07:30:09.679Z"
   },
   {
    "duration": 127,
    "start_time": "2024-08-30T07:30:09.876Z"
   },
   {
    "duration": 6,
    "start_time": "2024-08-30T07:30:10.004Z"
   },
   {
    "duration": 60,
    "start_time": "2024-08-30T07:30:10.011Z"
   },
   {
    "duration": 21,
    "start_time": "2024-08-30T07:30:10.073Z"
   },
   {
    "duration": 37,
    "start_time": "2024-08-30T07:30:10.096Z"
   },
   {
    "duration": 213,
    "start_time": "2024-08-30T07:30:10.137Z"
   },
   {
    "duration": 18,
    "start_time": "2024-08-30T07:30:10.353Z"
   },
   {
    "duration": 236,
    "start_time": "2024-08-30T07:30:10.373Z"
   },
   {
    "duration": 6,
    "start_time": "2024-08-30T07:30:10.611Z"
   },
   {
    "duration": 359,
    "start_time": "2024-08-30T07:30:10.619Z"
   },
   {
    "duration": 216,
    "start_time": "2024-08-30T07:30:10.980Z"
   },
   {
    "duration": 400,
    "start_time": "2024-08-30T07:30:11.198Z"
   },
   {
    "duration": 370,
    "start_time": "2024-08-30T07:30:11.600Z"
   },
   {
    "duration": 102,
    "start_time": "2024-08-30T07:30:11.971Z"
   },
   {
    "duration": 0,
    "start_time": "2024-08-30T07:30:12.074Z"
   },
   {
    "duration": 10,
    "start_time": "2024-08-30T07:31:03.124Z"
   },
   {
    "duration": 44,
    "start_time": "2024-08-30T07:31:22.796Z"
   },
   {
    "duration": 30,
    "start_time": "2024-08-30T07:34:57.537Z"
   },
   {
    "duration": 60,
    "start_time": "2024-08-30T07:35:22.991Z"
   },
   {
    "duration": 42,
    "start_time": "2024-08-30T07:37:32.277Z"
   },
   {
    "duration": 42,
    "start_time": "2024-08-30T07:39:05.339Z"
   },
   {
    "duration": 30,
    "start_time": "2024-08-30T07:57:20.119Z"
   },
   {
    "duration": 12,
    "start_time": "2024-08-30T07:58:16.382Z"
   },
   {
    "duration": 31,
    "start_time": "2024-08-30T07:58:34.989Z"
   },
   {
    "duration": 11,
    "start_time": "2024-08-30T07:58:35.597Z"
   },
   {
    "duration": 18,
    "start_time": "2024-08-30T07:58:57.027Z"
   },
   {
    "duration": 35,
    "start_time": "2024-08-30T08:00:27.855Z"
   },
   {
    "duration": 39,
    "start_time": "2024-08-30T08:01:18.783Z"
   },
   {
    "duration": 17,
    "start_time": "2024-08-30T08:01:20.777Z"
   },
   {
    "duration": 1470,
    "start_time": "2024-08-30T11:05:27.630Z"
   },
   {
    "duration": 86,
    "start_time": "2024-08-30T11:05:29.102Z"
   },
   {
    "duration": 11,
    "start_time": "2024-08-30T11:05:29.190Z"
   },
   {
    "duration": 230,
    "start_time": "2024-08-30T11:05:29.203Z"
   },
   {
    "duration": 11,
    "start_time": "2024-08-30T11:05:29.435Z"
   },
   {
    "duration": 124,
    "start_time": "2024-08-30T11:05:29.448Z"
   },
   {
    "duration": 11,
    "start_time": "2024-08-30T11:05:29.573Z"
   },
   {
    "duration": 74,
    "start_time": "2024-08-30T11:05:29.585Z"
   },
   {
    "duration": 28,
    "start_time": "2024-08-30T11:05:29.660Z"
   },
   {
    "duration": 63,
    "start_time": "2024-08-30T11:05:29.692Z"
   },
   {
    "duration": 42,
    "start_time": "2024-08-30T11:05:29.756Z"
   },
   {
    "duration": 65,
    "start_time": "2024-08-30T11:05:29.800Z"
   },
   {
    "duration": 72,
    "start_time": "2024-08-30T11:05:29.866Z"
   },
   {
    "duration": 41,
    "start_time": "2024-08-30T11:05:29.939Z"
   },
   {
    "duration": 66,
    "start_time": "2024-08-30T11:05:29.981Z"
   },
   {
    "duration": 111,
    "start_time": "2024-08-30T11:05:30.048Z"
   },
   {
    "duration": 255,
    "start_time": "2024-08-30T11:05:30.161Z"
   },
   {
    "duration": 97,
    "start_time": "2024-08-30T11:05:30.417Z"
   },
   {
    "duration": 203,
    "start_time": "2024-08-30T11:05:30.516Z"
   },
   {
    "duration": 138,
    "start_time": "2024-08-30T11:05:30.720Z"
   },
   {
    "duration": 5,
    "start_time": "2024-08-30T11:05:30.860Z"
   },
   {
    "duration": 187,
    "start_time": "2024-08-30T11:05:30.866Z"
   },
   {
    "duration": 129,
    "start_time": "2024-08-30T11:05:31.054Z"
   },
   {
    "duration": 5,
    "start_time": "2024-08-30T11:05:31.184Z"
   },
   {
    "duration": 77,
    "start_time": "2024-08-30T11:05:31.190Z"
   },
   {
    "duration": 50,
    "start_time": "2024-08-30T11:05:31.269Z"
   },
   {
    "duration": 35,
    "start_time": "2024-08-30T11:05:31.321Z"
   },
   {
    "duration": 239,
    "start_time": "2024-08-30T11:05:31.360Z"
   },
   {
    "duration": 8,
    "start_time": "2024-08-30T11:05:31.601Z"
   },
   {
    "duration": 258,
    "start_time": "2024-08-30T11:05:31.610Z"
   },
   {
    "duration": 8,
    "start_time": "2024-08-30T11:05:31.871Z"
   },
   {
    "duration": 372,
    "start_time": "2024-08-30T11:05:31.881Z"
   },
   {
    "duration": 252,
    "start_time": "2024-08-30T11:05:32.255Z"
   },
   {
    "duration": 430,
    "start_time": "2024-08-30T11:05:32.509Z"
   },
   {
    "duration": 348,
    "start_time": "2024-08-30T11:05:32.947Z"
   },
   {
    "duration": 49,
    "start_time": "2024-08-30T11:05:33.297Z"
   },
   {
    "duration": 150,
    "start_time": "2024-08-30T11:05:33.348Z"
   },
   {
    "duration": 1275,
    "start_time": "2024-08-30T12:29:17.519Z"
   },
   {
    "duration": 46,
    "start_time": "2024-08-30T12:29:18.796Z"
   },
   {
    "duration": 14,
    "start_time": "2024-08-30T12:29:18.843Z"
   },
   {
    "duration": 51,
    "start_time": "2024-08-30T12:29:18.859Z"
   },
   {
    "duration": 36,
    "start_time": "2024-08-30T12:29:18.911Z"
   },
   {
    "duration": 43,
    "start_time": "2024-08-30T12:29:18.949Z"
   },
   {
    "duration": 11,
    "start_time": "2024-08-30T12:29:18.993Z"
   },
   {
    "duration": 34,
    "start_time": "2024-08-30T12:29:19.005Z"
   },
   {
    "duration": 23,
    "start_time": "2024-08-30T12:29:19.041Z"
   },
   {
    "duration": 21,
    "start_time": "2024-08-30T12:29:19.067Z"
   },
   {
    "duration": 18,
    "start_time": "2024-08-30T12:29:19.089Z"
   },
   {
    "duration": 50,
    "start_time": "2024-08-30T12:29:19.109Z"
   },
   {
    "duration": 24,
    "start_time": "2024-08-30T12:29:19.161Z"
   },
   {
    "duration": 23,
    "start_time": "2024-08-30T12:29:19.187Z"
   },
   {
    "duration": 53,
    "start_time": "2024-08-30T12:29:19.211Z"
   },
   {
    "duration": 18,
    "start_time": "2024-08-30T12:29:19.266Z"
   },
   {
    "duration": 196,
    "start_time": "2024-08-30T12:29:19.286Z"
   },
   {
    "duration": 112,
    "start_time": "2024-08-30T12:29:19.484Z"
   },
   {
    "duration": 172,
    "start_time": "2024-08-30T12:29:19.598Z"
   },
   {
    "duration": 132,
    "start_time": "2024-08-30T12:29:19.772Z"
   },
   {
    "duration": 5,
    "start_time": "2024-08-30T12:29:19.906Z"
   },
   {
    "duration": 176,
    "start_time": "2024-08-30T12:29:19.912Z"
   },
   {
    "duration": 133,
    "start_time": "2024-08-30T12:29:20.090Z"
   },
   {
    "duration": 6,
    "start_time": "2024-08-30T12:29:20.224Z"
   },
   {
    "duration": 42,
    "start_time": "2024-08-30T12:29:20.231Z"
   },
   {
    "duration": 23,
    "start_time": "2024-08-30T12:29:20.274Z"
   },
   {
    "duration": 20,
    "start_time": "2024-08-30T12:29:20.299Z"
   },
   {
    "duration": 228,
    "start_time": "2024-08-30T12:29:20.348Z"
   },
   {
    "duration": 7,
    "start_time": "2024-08-30T12:29:20.578Z"
   },
   {
    "duration": 272,
    "start_time": "2024-08-30T12:29:20.587Z"
   },
   {
    "duration": 7,
    "start_time": "2024-08-30T12:29:20.860Z"
   },
   {
    "duration": 366,
    "start_time": "2024-08-30T12:29:20.868Z"
   },
   {
    "duration": 247,
    "start_time": "2024-08-30T12:29:21.235Z"
   },
   {
    "duration": 411,
    "start_time": "2024-08-30T12:29:21.484Z"
   },
   {
    "duration": 380,
    "start_time": "2024-08-30T12:29:21.897Z"
   },
   {
    "duration": 39,
    "start_time": "2024-08-30T12:29:22.279Z"
   },
   {
    "duration": 37,
    "start_time": "2024-08-30T12:29:22.320Z"
   },
   {
    "duration": 8,
    "start_time": "2024-08-30T12:59:58.539Z"
   },
   {
    "duration": 7,
    "start_time": "2024-08-30T13:20:10.517Z"
   },
   {
    "duration": 6,
    "start_time": "2024-08-30T13:21:54.965Z"
   },
   {
    "duration": 112,
    "start_time": "2024-08-30T13:25:40.604Z"
   },
   {
    "duration": 10,
    "start_time": "2024-08-30T13:27:46.365Z"
   },
   {
    "duration": 6,
    "start_time": "2024-08-30T13:28:06.059Z"
   },
   {
    "duration": 6,
    "start_time": "2024-08-30T13:28:50.610Z"
   },
   {
    "duration": 56,
    "start_time": "2024-08-30T13:49:21.134Z"
   },
   {
    "duration": 7,
    "start_time": "2024-08-30T13:51:21.458Z"
   },
   {
    "duration": 23,
    "start_time": "2024-08-30T13:52:38.650Z"
   },
   {
    "duration": 5,
    "start_time": "2024-08-30T13:53:08.220Z"
   },
   {
    "duration": 5,
    "start_time": "2024-08-30T13:53:17.921Z"
   },
   {
    "duration": 4,
    "start_time": "2024-08-30T13:55:59.448Z"
   },
   {
    "duration": 6,
    "start_time": "2024-08-30T13:56:11.122Z"
   },
   {
    "duration": 6,
    "start_time": "2024-08-30T14:11:17.218Z"
   },
   {
    "duration": 6,
    "start_time": "2024-08-30T14:12:30.306Z"
   },
   {
    "duration": 228,
    "start_time": "2024-08-30T15:12:42.205Z"
   },
   {
    "duration": 221,
    "start_time": "2024-08-30T15:15:02.009Z"
   },
   {
    "duration": 33,
    "start_time": "2024-08-30T15:19:00.418Z"
   },
   {
    "duration": 341,
    "start_time": "2024-08-30T15:21:45.485Z"
   },
   {
    "duration": 75,
    "start_time": "2024-08-30T15:22:07.989Z"
   },
   {
    "duration": 469,
    "start_time": "2024-08-30T15:22:25.543Z"
   },
   {
    "duration": 131,
    "start_time": "2024-08-30T15:23:21.162Z"
   },
   {
    "duration": 64,
    "start_time": "2024-08-30T15:31:44.894Z"
   },
   {
    "duration": 1238,
    "start_time": "2024-08-30T15:31:54.932Z"
   },
   {
    "duration": 39,
    "start_time": "2024-08-30T15:31:56.172Z"
   },
   {
    "duration": 12,
    "start_time": "2024-08-30T15:31:56.213Z"
   },
   {
    "duration": 35,
    "start_time": "2024-08-30T15:31:56.227Z"
   },
   {
    "duration": 10,
    "start_time": "2024-08-30T15:31:56.264Z"
   },
   {
    "duration": 33,
    "start_time": "2024-08-30T15:31:56.276Z"
   },
   {
    "duration": 16,
    "start_time": "2024-08-30T15:31:56.311Z"
   },
   {
    "duration": 12,
    "start_time": "2024-08-30T15:31:56.329Z"
   },
   {
    "duration": 15,
    "start_time": "2024-08-30T15:31:56.343Z"
   },
   {
    "duration": 7,
    "start_time": "2024-08-30T15:31:56.362Z"
   },
   {
    "duration": 13,
    "start_time": "2024-08-30T15:31:56.371Z"
   },
   {
    "duration": 6,
    "start_time": "2024-08-30T15:31:56.387Z"
   },
   {
    "duration": 44,
    "start_time": "2024-08-30T15:31:56.396Z"
   },
   {
    "duration": 7,
    "start_time": "2024-08-30T15:31:56.442Z"
   },
   {
    "duration": 10,
    "start_time": "2024-08-30T15:31:56.450Z"
   },
   {
    "duration": 5,
    "start_time": "2024-08-30T15:31:56.461Z"
   },
   {
    "duration": 218,
    "start_time": "2024-08-30T15:31:56.467Z"
   },
   {
    "duration": 106,
    "start_time": "2024-08-30T15:31:56.687Z"
   },
   {
    "duration": 221,
    "start_time": "2024-08-30T15:31:56.794Z"
   },
   {
    "duration": 163,
    "start_time": "2024-08-30T15:31:57.017Z"
   },
   {
    "duration": 6,
    "start_time": "2024-08-30T15:31:57.181Z"
   },
   {
    "duration": 226,
    "start_time": "2024-08-30T15:31:57.188Z"
   },
   {
    "duration": 137,
    "start_time": "2024-08-30T15:31:57.415Z"
   },
   {
    "duration": 5,
    "start_time": "2024-08-30T15:31:57.553Z"
   },
   {
    "duration": 59,
    "start_time": "2024-08-30T15:31:57.560Z"
   },
   {
    "duration": 100,
    "start_time": "2024-08-30T15:31:57.620Z"
   },
   {
    "duration": 19,
    "start_time": "2024-08-30T15:31:57.722Z"
   },
   {
    "duration": 341,
    "start_time": "2024-08-30T15:31:57.746Z"
   },
   {
    "duration": 7,
    "start_time": "2024-08-30T15:31:58.088Z"
   },
   {
    "duration": 367,
    "start_time": "2024-08-30T15:31:58.096Z"
   },
   {
    "duration": 7,
    "start_time": "2024-08-30T15:31:58.464Z"
   },
   {
    "duration": 341,
    "start_time": "2024-08-30T15:31:58.472Z"
   },
   {
    "duration": 225,
    "start_time": "2024-08-30T15:31:58.815Z"
   },
   {
    "duration": 376,
    "start_time": "2024-08-30T15:31:59.042Z"
   },
   {
    "duration": 359,
    "start_time": "2024-08-30T15:31:59.420Z"
   },
   {
    "duration": 42,
    "start_time": "2024-08-30T15:31:59.781Z"
   },
   {
    "duration": 32,
    "start_time": "2024-08-30T15:31:59.825Z"
   },
   {
    "duration": 77,
    "start_time": "2024-08-30T15:31:59.858Z"
   },
   {
    "duration": 0,
    "start_time": "2024-08-30T15:31:59.937Z"
   },
   {
    "duration": 7,
    "start_time": "2024-08-30T15:33:48.565Z"
   },
   {
    "duration": 108,
    "start_time": "2024-08-30T15:34:32.553Z"
   },
   {
    "duration": 8,
    "start_time": "2024-08-30T15:34:53.905Z"
   },
   {
    "duration": 20,
    "start_time": "2024-08-30T15:45:48.066Z"
   },
   {
    "duration": 1287,
    "start_time": "2024-08-30T19:35:41.901Z"
   },
   {
    "duration": 86,
    "start_time": "2024-08-30T19:35:43.190Z"
   },
   {
    "duration": 12,
    "start_time": "2024-08-30T19:35:43.278Z"
   },
   {
    "duration": 190,
    "start_time": "2024-08-30T19:35:43.292Z"
   },
   {
    "duration": 10,
    "start_time": "2024-08-30T19:35:43.484Z"
   },
   {
    "duration": 84,
    "start_time": "2024-08-30T19:35:43.496Z"
   },
   {
    "duration": 9,
    "start_time": "2024-08-30T19:35:43.581Z"
   },
   {
    "duration": 12,
    "start_time": "2024-08-30T19:35:43.591Z"
   },
   {
    "duration": 5,
    "start_time": "2024-08-30T19:35:43.604Z"
   },
   {
    "duration": 6,
    "start_time": "2024-08-30T19:35:43.611Z"
   },
   {
    "duration": 15,
    "start_time": "2024-08-30T19:35:43.618Z"
   },
   {
    "duration": 5,
    "start_time": "2024-08-30T19:35:43.635Z"
   },
   {
    "duration": 8,
    "start_time": "2024-08-30T19:35:43.642Z"
   },
   {
    "duration": 5,
    "start_time": "2024-08-30T19:35:43.652Z"
   },
   {
    "duration": 10,
    "start_time": "2024-08-30T19:35:43.659Z"
   },
   {
    "duration": 6,
    "start_time": "2024-08-30T19:35:43.671Z"
   },
   {
    "duration": 230,
    "start_time": "2024-08-30T19:35:43.678Z"
   },
   {
    "duration": 91,
    "start_time": "2024-08-30T19:35:43.910Z"
   },
   {
    "duration": 222,
    "start_time": "2024-08-30T19:35:44.003Z"
   },
   {
    "duration": 128,
    "start_time": "2024-08-30T19:35:44.227Z"
   },
   {
    "duration": 5,
    "start_time": "2024-08-30T19:35:44.356Z"
   },
   {
    "duration": 247,
    "start_time": "2024-08-30T19:35:44.363Z"
   },
   {
    "duration": 134,
    "start_time": "2024-08-30T19:35:44.612Z"
   },
   {
    "duration": 6,
    "start_time": "2024-08-30T19:35:44.747Z"
   },
   {
    "duration": 62,
    "start_time": "2024-08-30T19:35:44.754Z"
   },
   {
    "duration": 93,
    "start_time": "2024-08-30T19:35:44.818Z"
   },
   {
    "duration": 19,
    "start_time": "2024-08-30T19:35:44.913Z"
   },
   {
    "duration": 349,
    "start_time": "2024-08-30T19:35:44.935Z"
   },
   {
    "duration": 8,
    "start_time": "2024-08-30T19:35:45.286Z"
   },
   {
    "duration": 396,
    "start_time": "2024-08-30T19:35:45.296Z"
   },
   {
    "duration": 7,
    "start_time": "2024-08-30T19:35:45.694Z"
   },
   {
    "duration": 399,
    "start_time": "2024-08-30T19:35:45.702Z"
   },
   {
    "duration": 211,
    "start_time": "2024-08-30T19:35:46.102Z"
   },
   {
    "duration": 397,
    "start_time": "2024-08-30T19:35:46.315Z"
   },
   {
    "duration": 352,
    "start_time": "2024-08-30T19:35:46.714Z"
   },
   {
    "duration": 39,
    "start_time": "2024-08-30T19:35:47.068Z"
   },
   {
    "duration": 40,
    "start_time": "2024-08-30T19:35:47.109Z"
   },
   {
    "duration": 9,
    "start_time": "2024-08-30T19:35:47.152Z"
   },
   {
    "duration": 7,
    "start_time": "2024-08-30T19:35:47.163Z"
   },
   {
    "duration": 5,
    "start_time": "2024-08-30T19:37:56.603Z"
   },
   {
    "duration": 7,
    "start_time": "2024-08-30T19:44:11.108Z"
   },
   {
    "duration": 8,
    "start_time": "2024-08-30T19:53:20.969Z"
   },
   {
    "duration": 117,
    "start_time": "2024-08-30T20:00:50.122Z"
   },
   {
    "duration": 8,
    "start_time": "2024-08-30T20:01:14.447Z"
   },
   {
    "duration": 583,
    "start_time": "2024-08-30T20:01:40.098Z"
   },
   {
    "duration": 4,
    "start_time": "2024-08-30T20:03:24.065Z"
   },
   {
    "duration": 7,
    "start_time": "2024-08-30T20:03:32.634Z"
   },
   {
    "duration": 10,
    "start_time": "2024-08-30T20:04:12.729Z"
   },
   {
    "duration": 14,
    "start_time": "2024-08-30T20:06:08.553Z"
   },
   {
    "duration": 5,
    "start_time": "2024-08-30T20:07:57.758Z"
   },
   {
    "duration": 10,
    "start_time": "2024-08-30T20:26:29.962Z"
   },
   {
    "duration": 9,
    "start_time": "2024-08-30T20:28:20.600Z"
   },
   {
    "duration": 10,
    "start_time": "2024-08-30T20:37:12.825Z"
   },
   {
    "duration": 8,
    "start_time": "2024-08-30T20:37:35.978Z"
   },
   {
    "duration": 9,
    "start_time": "2024-08-30T20:38:24.970Z"
   },
   {
    "duration": 6,
    "start_time": "2024-08-30T20:41:48.547Z"
   },
   {
    "duration": 2132,
    "start_time": "2024-08-31T04:21:19.544Z"
   },
   {
    "duration": 86,
    "start_time": "2024-08-31T04:21:21.678Z"
   },
   {
    "duration": 12,
    "start_time": "2024-08-31T04:21:21.766Z"
   },
   {
    "duration": 170,
    "start_time": "2024-08-31T04:21:21.781Z"
   },
   {
    "duration": 11,
    "start_time": "2024-08-31T04:21:21.953Z"
   },
   {
    "duration": 74,
    "start_time": "2024-08-31T04:21:21.966Z"
   },
   {
    "duration": 9,
    "start_time": "2024-08-31T04:21:22.041Z"
   },
   {
    "duration": 25,
    "start_time": "2024-08-31T04:21:22.052Z"
   },
   {
    "duration": 10,
    "start_time": "2024-08-31T04:21:22.079Z"
   },
   {
    "duration": 7,
    "start_time": "2024-08-31T04:21:22.092Z"
   },
   {
    "duration": 6,
    "start_time": "2024-08-31T04:21:22.101Z"
   },
   {
    "duration": 5,
    "start_time": "2024-08-31T04:21:22.108Z"
   },
   {
    "duration": 6,
    "start_time": "2024-08-31T04:21:22.114Z"
   },
   {
    "duration": 5,
    "start_time": "2024-08-31T04:21:22.121Z"
   },
   {
    "duration": 39,
    "start_time": "2024-08-31T04:21:22.127Z"
   },
   {
    "duration": 5,
    "start_time": "2024-08-31T04:21:22.168Z"
   },
   {
    "duration": 235,
    "start_time": "2024-08-31T04:21:22.175Z"
   },
   {
    "duration": 103,
    "start_time": "2024-08-31T04:21:22.412Z"
   },
   {
    "duration": 250,
    "start_time": "2024-08-31T04:21:22.517Z"
   },
   {
    "duration": 141,
    "start_time": "2024-08-31T04:21:22.769Z"
   },
   {
    "duration": 5,
    "start_time": "2024-08-31T04:21:22.913Z"
   },
   {
    "duration": 267,
    "start_time": "2024-08-31T04:21:22.920Z"
   },
   {
    "duration": 124,
    "start_time": "2024-08-31T04:21:23.189Z"
   },
   {
    "duration": 4,
    "start_time": "2024-08-31T04:21:23.315Z"
   },
   {
    "duration": 90,
    "start_time": "2024-08-31T04:21:23.320Z"
   },
   {
    "duration": 89,
    "start_time": "2024-08-31T04:21:23.412Z"
   },
   {
    "duration": 19,
    "start_time": "2024-08-31T04:21:23.502Z"
   },
   {
    "duration": 338,
    "start_time": "2024-08-31T04:21:23.525Z"
   },
   {
    "duration": 7,
    "start_time": "2024-08-31T04:21:23.864Z"
   },
   {
    "duration": 348,
    "start_time": "2024-08-31T04:21:23.872Z"
   },
   {
    "duration": 8,
    "start_time": "2024-08-31T04:21:24.222Z"
   },
   {
    "duration": 280,
    "start_time": "2024-08-31T04:21:24.232Z"
   },
   {
    "duration": 206,
    "start_time": "2024-08-31T04:21:24.514Z"
   },
   {
    "duration": 409,
    "start_time": "2024-08-31T04:21:24.722Z"
   },
   {
    "duration": 349,
    "start_time": "2024-08-31T04:21:25.133Z"
   },
   {
    "duration": 41,
    "start_time": "2024-08-31T04:21:25.484Z"
   },
   {
    "duration": 17,
    "start_time": "2024-08-31T04:21:25.527Z"
   },
   {
    "duration": 8,
    "start_time": "2024-08-31T04:21:25.565Z"
   },
   {
    "duration": 6,
    "start_time": "2024-08-31T04:21:25.575Z"
   },
   {
    "duration": 17,
    "start_time": "2024-08-31T04:21:25.583Z"
   },
   {
    "duration": 11,
    "start_time": "2024-08-31T04:21:25.602Z"
   },
   {
    "duration": 8,
    "start_time": "2024-08-31T04:21:25.615Z"
   },
   {
    "duration": 105,
    "start_time": "2024-08-31T04:43:19.664Z"
   },
   {
    "duration": 257,
    "start_time": "2024-08-31T04:43:45.183Z"
   },
   {
    "duration": 771,
    "start_time": "2024-08-31T12:21:54.766Z"
   },
   {
    "duration": 726,
    "start_time": "2024-08-31T12:22:52.068Z"
   },
   {
    "duration": 261,
    "start_time": "2024-08-31T12:24:56.394Z"
   },
   {
    "duration": 1585,
    "start_time": "2024-08-31T12:26:51.902Z"
   },
   {
    "duration": 1704,
    "start_time": "2024-08-31T12:27:39.286Z"
   },
   {
    "duration": 388,
    "start_time": "2024-08-31T12:27:54.683Z"
   },
   {
    "duration": 391,
    "start_time": "2024-08-31T12:29:28.141Z"
   },
   {
    "duration": 1046,
    "start_time": "2024-08-31T12:29:40.242Z"
   },
   {
    "duration": 906,
    "start_time": "2024-08-31T12:29:49.876Z"
   },
   {
    "duration": 1007,
    "start_time": "2024-08-31T12:29:54.117Z"
   },
   {
    "duration": 972,
    "start_time": "2024-08-31T12:30:11.635Z"
   },
   {
    "duration": 497,
    "start_time": "2024-08-31T12:30:30.472Z"
   },
   {
    "duration": 395,
    "start_time": "2024-08-31T12:35:29.991Z"
   },
   {
    "duration": 418,
    "start_time": "2024-08-31T12:35:43.763Z"
   },
   {
    "duration": 1535,
    "start_time": "2024-08-31T12:37:43.690Z"
   },
   {
    "duration": 9,
    "start_time": "2024-08-31T12:40:35.342Z"
   },
   {
    "duration": 10,
    "start_time": "2024-08-31T12:40:42.253Z"
   },
   {
    "duration": 13,
    "start_time": "2024-08-31T12:41:46.503Z"
   },
   {
    "duration": 173,
    "start_time": "2024-08-31T12:42:03.142Z"
   },
   {
    "duration": 180,
    "start_time": "2024-08-31T12:42:38.563Z"
   },
   {
    "duration": 168,
    "start_time": "2024-08-31T12:44:05.855Z"
   },
   {
    "duration": 193,
    "start_time": "2024-08-31T12:44:37.943Z"
   },
   {
    "duration": 2140,
    "start_time": "2024-08-31T12:45:12.522Z"
   },
   {
    "duration": 1971,
    "start_time": "2024-08-31T12:46:43.338Z"
   },
   {
    "duration": 1672,
    "start_time": "2024-08-31T12:46:51.840Z"
   },
   {
    "duration": 2080,
    "start_time": "2024-08-31T12:47:02.184Z"
   },
   {
    "duration": 2067,
    "start_time": "2024-08-31T12:47:16.603Z"
   },
   {
    "duration": 1974,
    "start_time": "2024-08-31T12:47:25.231Z"
   },
   {
    "duration": 1929,
    "start_time": "2024-08-31T12:47:58.991Z"
   },
   {
    "duration": 1977,
    "start_time": "2024-08-31T12:48:22.576Z"
   },
   {
    "duration": 1954,
    "start_time": "2024-08-31T12:48:31.114Z"
   },
   {
    "duration": 1981,
    "start_time": "2024-08-31T12:48:44.715Z"
   },
   {
    "duration": 2000,
    "start_time": "2024-08-31T12:49:05.870Z"
   },
   {
    "duration": 5508,
    "start_time": "2024-08-31T12:49:35.244Z"
   },
   {
    "duration": 2184,
    "start_time": "2024-08-31T12:49:56.862Z"
   },
   {
    "duration": 3672,
    "start_time": "2024-08-31T12:50:24.296Z"
   },
   {
    "duration": 3749,
    "start_time": "2024-08-31T12:50:38.194Z"
   },
   {
    "duration": 3834,
    "start_time": "2024-08-31T12:51:21.410Z"
   },
   {
    "duration": 3816,
    "start_time": "2024-08-31T12:51:33.702Z"
   },
   {
    "duration": 2341,
    "start_time": "2024-08-31T12:58:43.606Z"
   },
   {
    "duration": 2298,
    "start_time": "2024-08-31T12:59:08.245Z"
   },
   {
    "duration": 2269,
    "start_time": "2024-08-31T12:59:19.896Z"
   },
   {
    "duration": 2345,
    "start_time": "2024-08-31T12:59:28.744Z"
   },
   {
    "duration": 2287,
    "start_time": "2024-08-31T12:59:52.819Z"
   },
   {
    "duration": 2432,
    "start_time": "2024-08-31T13:00:07.700Z"
   },
   {
    "duration": 2258,
    "start_time": "2024-08-31T13:00:26.568Z"
   },
   {
    "duration": 2327,
    "start_time": "2024-08-31T13:00:44.148Z"
   },
   {
    "duration": 1376,
    "start_time": "2024-08-31T18:40:28.927Z"
   },
   {
    "duration": 80,
    "start_time": "2024-08-31T18:40:30.305Z"
   },
   {
    "duration": 11,
    "start_time": "2024-08-31T18:40:31.122Z"
   },
   {
    "duration": 170,
    "start_time": "2024-08-31T18:40:31.661Z"
   },
   {
    "duration": 12,
    "start_time": "2024-08-31T18:40:32.542Z"
   },
   {
    "duration": 80,
    "start_time": "2024-08-31T18:40:34.974Z"
   },
   {
    "duration": 11,
    "start_time": "2024-08-31T18:40:40.377Z"
   },
   {
    "duration": 9,
    "start_time": "2024-08-31T18:40:42.648Z"
   },
   {
    "duration": 6,
    "start_time": "2024-08-31T18:40:43.788Z"
   },
   {
    "duration": 6,
    "start_time": "2024-08-31T18:40:45.016Z"
   },
   {
    "duration": 8,
    "start_time": "2024-08-31T18:40:45.905Z"
   },
   {
    "duration": 8,
    "start_time": "2024-08-31T18:40:47.394Z"
   },
   {
    "duration": 6,
    "start_time": "2024-08-31T18:40:48.320Z"
   },
   {
    "duration": 5,
    "start_time": "2024-08-31T18:40:48.856Z"
   },
   {
    "duration": 9,
    "start_time": "2024-08-31T18:40:49.423Z"
   },
   {
    "duration": 5,
    "start_time": "2024-08-31T18:40:50.948Z"
   },
   {
    "duration": 189,
    "start_time": "2024-08-31T18:41:05.822Z"
   },
   {
    "duration": 91,
    "start_time": "2024-08-31T18:41:07.136Z"
   },
   {
    "duration": 211,
    "start_time": "2024-08-31T18:41:08.270Z"
   },
   {
    "duration": 120,
    "start_time": "2024-08-31T18:41:09.784Z"
   },
   {
    "duration": 5,
    "start_time": "2024-08-31T18:41:10.496Z"
   },
   {
    "duration": 222,
    "start_time": "2024-08-31T18:41:12.188Z"
   },
   {
    "duration": 128,
    "start_time": "2024-08-31T18:41:13.992Z"
   },
   {
    "duration": 6,
    "start_time": "2024-08-31T18:41:15.013Z"
   },
   {
    "duration": 31,
    "start_time": "2024-08-31T18:41:18.240Z"
   },
   {
    "duration": 24,
    "start_time": "2024-08-31T18:41:19.614Z"
   },
   {
    "duration": 100,
    "start_time": "2024-08-31T18:41:20.469Z"
   },
   {
    "duration": 347,
    "start_time": "2024-08-31T18:41:22.537Z"
   },
   {
    "duration": 8,
    "start_time": "2024-08-31T18:41:24.158Z"
   },
   {
    "duration": 337,
    "start_time": "2024-08-31T18:41:24.921Z"
   },
   {
    "duration": 7,
    "start_time": "2024-08-31T18:41:25.498Z"
   },
   {
    "duration": 271,
    "start_time": "2024-08-31T18:41:34.082Z"
   },
   {
    "duration": 236,
    "start_time": "2024-08-31T18:41:35.310Z"
   },
   {
    "duration": 444,
    "start_time": "2024-08-31T18:41:36.642Z"
   },
   {
    "duration": 364,
    "start_time": "2024-08-31T18:41:38.369Z"
   },
   {
    "duration": 52,
    "start_time": "2024-08-31T18:41:45.786Z"
   },
   {
    "duration": 17,
    "start_time": "2024-08-31T18:41:49.892Z"
   },
   {
    "duration": 8,
    "start_time": "2024-08-31T18:42:01.132Z"
   },
   {
    "duration": 6,
    "start_time": "2024-08-31T18:43:10.884Z"
   },
   {
    "duration": 5,
    "start_time": "2024-08-31T18:43:43.725Z"
   },
   {
    "duration": 8,
    "start_time": "2024-08-31T18:44:08.665Z"
   },
   {
    "duration": 5,
    "start_time": "2024-08-31T18:46:21.824Z"
   },
   {
    "duration": 4,
    "start_time": "2024-08-31T18:46:29.028Z"
   },
   {
    "duration": 5,
    "start_time": "2024-08-31T18:48:49.367Z"
   },
   {
    "duration": 5,
    "start_time": "2024-08-31T18:49:31.471Z"
   },
   {
    "duration": 103,
    "start_time": "2024-08-31T18:53:55.742Z"
   },
   {
    "duration": 3,
    "start_time": "2024-08-31T18:54:27.220Z"
   },
   {
    "duration": 2392,
    "start_time": "2024-08-31T18:54:53.134Z"
   },
   {
    "duration": 2700,
    "start_time": "2024-08-31T18:55:20.101Z"
   },
   {
    "duration": 2570,
    "start_time": "2024-08-31T18:55:50.790Z"
   },
   {
    "duration": 432,
    "start_time": "2024-08-31T19:08:12.973Z"
   },
   {
    "duration": 1798,
    "start_time": "2024-08-31T19:08:20.447Z"
   },
   {
    "duration": 2488,
    "start_time": "2024-08-31T19:08:45.844Z"
   },
   {
    "duration": 2586,
    "start_time": "2024-08-31T19:09:07.627Z"
   },
   {
    "duration": 2568,
    "start_time": "2024-08-31T19:09:50.206Z"
   },
   {
    "duration": 2557,
    "start_time": "2024-08-31T19:11:00.925Z"
   },
   {
    "duration": 2412,
    "start_time": "2024-08-31T19:11:19.256Z"
   },
   {
    "duration": 488,
    "start_time": "2024-08-31T19:12:34.223Z"
   },
   {
    "duration": 2608,
    "start_time": "2024-08-31T19:12:47.902Z"
   },
   {
    "duration": 6,
    "start_time": "2024-08-31T19:14:02.571Z"
   },
   {
    "duration": 2283,
    "start_time": "2024-08-31T19:14:09.683Z"
   },
   {
    "duration": 2307,
    "start_time": "2024-08-31T19:14:22.658Z"
   },
   {
    "duration": 12,
    "start_time": "2024-08-31T19:18:59.091Z"
   },
   {
    "duration": 660,
    "start_time": "2024-08-31T19:19:30.298Z"
   },
   {
    "duration": 102,
    "start_time": "2024-08-31T19:21:01.661Z"
   },
   {
    "duration": 325,
    "start_time": "2024-08-31T19:21:26.644Z"
   },
   {
    "duration": 11,
    "start_time": "2024-08-31T19:22:03.442Z"
   },
   {
    "duration": 329,
    "start_time": "2024-08-31T19:22:23.248Z"
   },
   {
    "duration": 196,
    "start_time": "2024-08-31T19:23:52.655Z"
   },
   {
    "duration": 2999,
    "start_time": "2024-08-31T19:25:12.742Z"
   },
   {
    "duration": 3173,
    "start_time": "2024-08-31T19:25:29.212Z"
   },
   {
    "duration": 336,
    "start_time": "2024-08-31T19:27:23.037Z"
   },
   {
    "duration": 7,
    "start_time": "2024-08-31T19:51:08.994Z"
   },
   {
    "duration": 6,
    "start_time": "2024-08-31T19:52:43.834Z"
   },
   {
    "duration": 8,
    "start_time": "2024-08-31T19:53:20.501Z"
   },
   {
    "duration": 18,
    "start_time": "2024-08-31T19:57:02.608Z"
   },
   {
    "duration": 4,
    "start_time": "2024-08-31T19:57:52.389Z"
   },
   {
    "duration": 121,
    "start_time": "2024-08-31T19:58:29.286Z"
   },
   {
    "duration": 129,
    "start_time": "2024-08-31T20:00:04.298Z"
   },
   {
    "duration": 1457,
    "start_time": "2024-08-31T20:00:46.172Z"
   },
   {
    "duration": 1213,
    "start_time": "2024-08-31T20:01:40.217Z"
   },
   {
    "duration": 491,
    "start_time": "2024-08-31T20:02:33.713Z"
   },
   {
    "duration": 1274,
    "start_time": "2024-08-31T20:11:18.364Z"
   },
   {
    "duration": 38,
    "start_time": "2024-08-31T20:11:19.641Z"
   },
   {
    "duration": 13,
    "start_time": "2024-08-31T20:11:19.681Z"
   },
   {
    "duration": 41,
    "start_time": "2024-08-31T20:11:19.696Z"
   },
   {
    "duration": 12,
    "start_time": "2024-08-31T20:11:19.738Z"
   },
   {
    "duration": 29,
    "start_time": "2024-08-31T20:11:19.752Z"
   },
   {
    "duration": 13,
    "start_time": "2024-08-31T20:11:19.783Z"
   },
   {
    "duration": 74,
    "start_time": "2024-08-31T20:11:19.798Z"
   },
   {
    "duration": 28,
    "start_time": "2024-08-31T20:11:19.874Z"
   },
   {
    "duration": 15,
    "start_time": "2024-08-31T20:11:19.905Z"
   },
   {
    "duration": 38,
    "start_time": "2024-08-31T20:11:19.923Z"
   },
   {
    "duration": 30,
    "start_time": "2024-08-31T20:11:19.963Z"
   },
   {
    "duration": 13,
    "start_time": "2024-08-31T20:11:19.995Z"
   },
   {
    "duration": 37,
    "start_time": "2024-08-31T20:11:20.010Z"
   },
   {
    "duration": 16,
    "start_time": "2024-08-31T20:11:20.049Z"
   },
   {
    "duration": 15,
    "start_time": "2024-08-31T20:11:20.067Z"
   },
   {
    "duration": 198,
    "start_time": "2024-08-31T20:11:20.084Z"
   },
   {
    "duration": 93,
    "start_time": "2024-08-31T20:11:20.284Z"
   },
   {
    "duration": 230,
    "start_time": "2024-08-31T20:11:20.380Z"
   },
   {
    "duration": 137,
    "start_time": "2024-08-31T20:11:20.612Z"
   },
   {
    "duration": 5,
    "start_time": "2024-08-31T20:11:20.751Z"
   },
   {
    "duration": 249,
    "start_time": "2024-08-31T20:11:20.758Z"
   },
   {
    "duration": 142,
    "start_time": "2024-08-31T20:11:21.009Z"
   },
   {
    "duration": 5,
    "start_time": "2024-08-31T20:11:21.153Z"
   },
   {
    "duration": 46,
    "start_time": "2024-08-31T20:11:21.160Z"
   },
   {
    "duration": 105,
    "start_time": "2024-08-31T20:11:21.208Z"
   },
   {
    "duration": 19,
    "start_time": "2024-08-31T20:11:21.315Z"
   },
   {
    "duration": 365,
    "start_time": "2024-08-31T20:11:21.339Z"
   },
   {
    "duration": 8,
    "start_time": "2024-08-31T20:11:21.705Z"
   },
   {
    "duration": 363,
    "start_time": "2024-08-31T20:11:21.714Z"
   },
   {
    "duration": 7,
    "start_time": "2024-08-31T20:11:22.080Z"
   },
   {
    "duration": 293,
    "start_time": "2024-08-31T20:11:22.089Z"
   },
   {
    "duration": 220,
    "start_time": "2024-08-31T20:11:22.383Z"
   },
   {
    "duration": 391,
    "start_time": "2024-08-31T20:11:22.605Z"
   },
   {
    "duration": 343,
    "start_time": "2024-08-31T20:11:22.998Z"
   },
   {
    "duration": 40,
    "start_time": "2024-08-31T20:11:23.343Z"
   },
   {
    "duration": 34,
    "start_time": "2024-08-31T20:11:23.385Z"
   },
   {
    "duration": 7,
    "start_time": "2024-08-31T20:11:23.420Z"
   },
   {
    "duration": 12,
    "start_time": "2024-08-31T20:11:23.428Z"
   },
   {
    "duration": 7,
    "start_time": "2024-08-31T20:11:23.442Z"
   },
   {
    "duration": 8,
    "start_time": "2024-08-31T20:11:23.451Z"
   },
   {
    "duration": 2329,
    "start_time": "2024-08-31T20:11:23.460Z"
   },
   {
    "duration": 399,
    "start_time": "2024-08-31T20:11:25.791Z"
   },
   {
    "duration": 216,
    "start_time": "2024-08-31T20:11:26.192Z"
   },
   {
    "duration": 197,
    "start_time": "2024-08-31T20:12:29.930Z"
   },
   {
    "duration": 220,
    "start_time": "2024-08-31T20:25:43.944Z"
   },
   {
    "duration": 474,
    "start_time": "2024-08-31T20:26:14.582Z"
   },
   {
    "duration": 22,
    "start_time": "2024-08-31T20:29:14.806Z"
   },
   {
    "duration": 60,
    "start_time": "2024-08-31T20:35:28.995Z"
   },
   {
    "duration": 1238,
    "start_time": "2024-08-31T20:35:42.188Z"
   },
   {
    "duration": 1563,
    "start_time": "2024-08-31T20:35:47.388Z"
   },
   {
    "duration": 1675,
    "start_time": "2024-08-31T20:36:30.045Z"
   },
   {
    "duration": 1655,
    "start_time": "2024-08-31T20:36:42.633Z"
   },
   {
    "duration": 192,
    "start_time": "2024-08-31T20:37:21.603Z"
   },
   {
    "duration": 205,
    "start_time": "2024-08-31T20:39:05.496Z"
   },
   {
    "duration": 202,
    "start_time": "2024-08-31T20:39:25.654Z"
   },
   {
    "duration": 471,
    "start_time": "2024-08-31T20:39:38.756Z"
   },
   {
    "duration": 560,
    "start_time": "2024-08-31T20:39:51.902Z"
   },
   {
    "duration": 481,
    "start_time": "2024-08-31T20:40:07.164Z"
   },
   {
    "duration": 453,
    "start_time": "2024-08-31T20:40:36.236Z"
   },
   {
    "duration": 441,
    "start_time": "2024-08-31T20:40:50.716Z"
   },
   {
    "duration": 811,
    "start_time": "2024-08-31T20:41:02.628Z"
   },
   {
    "duration": 6151,
    "start_time": "2024-08-31T20:41:07.467Z"
   },
   {
    "duration": 774,
    "start_time": "2024-08-31T20:41:27.262Z"
   },
   {
    "duration": 865,
    "start_time": "2024-08-31T20:43:16.012Z"
   },
   {
    "duration": 205,
    "start_time": "2024-08-31T20:43:40.490Z"
   },
   {
    "duration": 432,
    "start_time": "2024-08-31T20:43:49.618Z"
   },
   {
    "duration": 1743,
    "start_time": "2024-08-31T20:43:55.036Z"
   },
   {
    "duration": 953,
    "start_time": "2024-08-31T20:44:49.815Z"
   },
   {
    "duration": 735,
    "start_time": "2024-08-31T20:45:08.281Z"
   },
   {
    "duration": 806,
    "start_time": "2024-08-31T20:45:36.474Z"
   },
   {
    "duration": 1255,
    "start_time": "2024-08-31T20:45:51.301Z"
   },
   {
    "duration": 1798,
    "start_time": "2024-08-31T20:46:08.451Z"
   },
   {
    "duration": 3135,
    "start_time": "2024-08-31T20:46:51.687Z"
   },
   {
    "duration": 1250,
    "start_time": "2024-08-31T20:47:21.463Z"
   },
   {
    "duration": 1778,
    "start_time": "2024-08-31T20:48:04.820Z"
   },
   {
    "duration": 321,
    "start_time": "2024-08-31T20:49:33.911Z"
   },
   {
    "duration": 1197,
    "start_time": "2024-08-31T20:49:57.339Z"
   },
   {
    "duration": 81,
    "start_time": "2024-08-31T20:49:58.538Z"
   },
   {
    "duration": 11,
    "start_time": "2024-08-31T20:49:58.621Z"
   },
   {
    "duration": 160,
    "start_time": "2024-08-31T20:49:58.636Z"
   },
   {
    "duration": 15,
    "start_time": "2024-08-31T20:49:58.798Z"
   },
   {
    "duration": 70,
    "start_time": "2024-08-31T20:49:58.815Z"
   },
   {
    "duration": 12,
    "start_time": "2024-08-31T20:49:58.887Z"
   },
   {
    "duration": 34,
    "start_time": "2024-08-31T20:49:58.900Z"
   },
   {
    "duration": 9,
    "start_time": "2024-08-31T20:49:58.935Z"
   },
   {
    "duration": 10,
    "start_time": "2024-08-31T20:49:58.947Z"
   },
   {
    "duration": 11,
    "start_time": "2024-08-31T20:49:58.959Z"
   },
   {
    "duration": 18,
    "start_time": "2024-08-31T20:49:58.972Z"
   },
   {
    "duration": 21,
    "start_time": "2024-08-31T20:49:58.992Z"
   },
   {
    "duration": 8,
    "start_time": "2024-08-31T20:49:59.014Z"
   },
   {
    "duration": 9,
    "start_time": "2024-08-31T20:49:59.024Z"
   },
   {
    "duration": 5,
    "start_time": "2024-08-31T20:49:59.035Z"
   },
   {
    "duration": 199,
    "start_time": "2024-08-31T20:49:59.042Z"
   },
   {
    "duration": 97,
    "start_time": "2024-08-31T20:49:59.242Z"
   },
   {
    "duration": 251,
    "start_time": "2024-08-31T20:49:59.341Z"
   },
   {
    "duration": 135,
    "start_time": "2024-08-31T20:49:59.593Z"
   },
   {
    "duration": 7,
    "start_time": "2024-08-31T20:49:59.731Z"
   },
   {
    "duration": 282,
    "start_time": "2024-08-31T20:49:59.740Z"
   },
   {
    "duration": 136,
    "start_time": "2024-08-31T20:50:00.024Z"
   },
   {
    "duration": 5,
    "start_time": "2024-08-31T20:50:00.161Z"
   },
   {
    "duration": 60,
    "start_time": "2024-08-31T20:50:00.168Z"
   },
   {
    "duration": 98,
    "start_time": "2024-08-31T20:50:00.230Z"
   },
   {
    "duration": 23,
    "start_time": "2024-08-31T20:50:00.330Z"
   },
   {
    "duration": 377,
    "start_time": "2024-08-31T20:50:00.357Z"
   },
   {
    "duration": 7,
    "start_time": "2024-08-31T20:50:00.736Z"
   },
   {
    "duration": 338,
    "start_time": "2024-08-31T20:50:00.745Z"
   },
   {
    "duration": 7,
    "start_time": "2024-08-31T20:50:01.085Z"
   },
   {
    "duration": 296,
    "start_time": "2024-08-31T20:50:01.105Z"
   },
   {
    "duration": 261,
    "start_time": "2024-08-31T20:50:01.403Z"
   },
   {
    "duration": 403,
    "start_time": "2024-08-31T20:50:01.665Z"
   },
   {
    "duration": 370,
    "start_time": "2024-08-31T20:50:02.070Z"
   },
   {
    "duration": 42,
    "start_time": "2024-08-31T20:50:02.442Z"
   },
   {
    "duration": 28,
    "start_time": "2024-08-31T20:50:02.486Z"
   },
   {
    "duration": 67,
    "start_time": "2024-08-31T20:50:02.515Z"
   },
   {
    "duration": 23,
    "start_time": "2024-08-31T20:50:02.584Z"
   },
   {
    "duration": 10,
    "start_time": "2024-08-31T20:50:02.609Z"
   },
   {
    "duration": 27,
    "start_time": "2024-08-31T20:50:02.620Z"
   },
   {
    "duration": 2539,
    "start_time": "2024-08-31T20:50:02.649Z"
   },
   {
    "duration": 393,
    "start_time": "2024-08-31T20:50:05.189Z"
   },
   {
    "duration": 209,
    "start_time": "2024-08-31T20:50:05.584Z"
   },
   {
    "duration": 1841,
    "start_time": "2024-08-31T20:50:05.794Z"
   },
   {
    "duration": 201,
    "start_time": "2024-08-31T20:54:29.117Z"
   },
   {
    "duration": 189,
    "start_time": "2024-08-31T20:55:13.122Z"
   },
   {
    "duration": 190,
    "start_time": "2024-08-31T20:55:43.941Z"
   },
   {
    "duration": 205,
    "start_time": "2024-08-31T20:56:29.223Z"
   },
   {
    "duration": 204,
    "start_time": "2024-08-31T20:57:24.474Z"
   },
   {
    "duration": 241,
    "start_time": "2024-08-31T20:57:49.441Z"
   },
   {
    "duration": 339,
    "start_time": "2024-08-31T20:58:57.166Z"
   },
   {
    "duration": 225,
    "start_time": "2024-08-31T20:59:08.869Z"
   },
   {
    "duration": 211,
    "start_time": "2024-08-31T20:59:26.114Z"
   },
   {
    "duration": 223,
    "start_time": "2024-08-31T21:01:13.377Z"
   },
   {
    "duration": 240,
    "start_time": "2024-08-31T21:01:32.469Z"
   },
   {
    "duration": 220,
    "start_time": "2024-08-31T21:01:47.525Z"
   },
   {
    "duration": 269,
    "start_time": "2024-08-31T21:02:03.754Z"
   },
   {
    "duration": 215,
    "start_time": "2024-08-31T21:02:13.619Z"
   },
   {
    "duration": 225,
    "start_time": "2024-08-31T21:02:22.545Z"
   },
   {
    "duration": 2646,
    "start_time": "2024-08-31T21:20:46.973Z"
   },
   {
    "duration": 2606,
    "start_time": "2024-08-31T21:21:05.583Z"
   },
   {
    "duration": 6,
    "start_time": "2024-08-31T21:23:31.189Z"
   },
   {
    "duration": 8,
    "start_time": "2024-08-31T21:29:33.491Z"
   },
   {
    "duration": 66,
    "start_time": "2024-08-31T21:35:45.952Z"
   },
   {
    "duration": 1403,
    "start_time": "2024-09-01T05:23:17.456Z"
   },
   {
    "duration": 86,
    "start_time": "2024-09-01T05:23:18.860Z"
   },
   {
    "duration": 12,
    "start_time": "2024-09-01T05:23:21.698Z"
   },
   {
    "duration": 159,
    "start_time": "2024-09-01T05:23:28.720Z"
   },
   {
    "duration": 12,
    "start_time": "2024-09-01T05:23:30.186Z"
   },
   {
    "duration": 85,
    "start_time": "2024-09-01T05:23:32.087Z"
   },
   {
    "duration": 10,
    "start_time": "2024-09-01T05:23:33.498Z"
   },
   {
    "duration": 9,
    "start_time": "2024-09-01T05:27:43.093Z"
   },
   {
    "duration": 5,
    "start_time": "2024-09-01T05:27:45.426Z"
   },
   {
    "duration": 6,
    "start_time": "2024-09-01T05:27:46.456Z"
   },
   {
    "duration": 7,
    "start_time": "2024-09-01T05:27:47.031Z"
   },
   {
    "duration": 6,
    "start_time": "2024-09-01T05:27:47.550Z"
   },
   {
    "duration": 6,
    "start_time": "2024-09-01T05:27:51.626Z"
   },
   {
    "duration": 229,
    "start_time": "2024-09-01T05:29:18.449Z"
   },
   {
    "duration": 6,
    "start_time": "2024-09-01T05:29:43.733Z"
   },
   {
    "duration": 54,
    "start_time": "2024-09-01T05:31:51.533Z"
   },
   {
    "duration": 266,
    "start_time": "2024-09-01T05:45:22.716Z"
   },
   {
    "duration": 189,
    "start_time": "2024-09-01T05:46:15.046Z"
   },
   {
    "duration": 188,
    "start_time": "2024-09-01T05:46:31.804Z"
   },
   {
    "duration": 99,
    "start_time": "2024-09-01T05:54:21.813Z"
   },
   {
    "duration": 187,
    "start_time": "2024-09-01T05:56:19.680Z"
   },
   {
    "duration": 84,
    "start_time": "2024-09-01T05:57:22.637Z"
   },
   {
    "duration": 87,
    "start_time": "2024-09-01T05:58:03.092Z"
   },
   {
    "duration": 298,
    "start_time": "2024-09-01T05:59:03.450Z"
   },
   {
    "duration": 217,
    "start_time": "2024-09-01T05:59:57.030Z"
   },
   {
    "duration": 127,
    "start_time": "2024-09-01T06:00:02.007Z"
   },
   {
    "duration": 4,
    "start_time": "2024-09-01T06:00:03.038Z"
   },
   {
    "duration": 238,
    "start_time": "2024-09-01T06:00:25.417Z"
   },
   {
    "duration": 38,
    "start_time": "2024-09-01T06:14:28.563Z"
   },
   {
    "duration": 22,
    "start_time": "2024-09-01T06:14:40.323Z"
   },
   {
    "duration": 15,
    "start_time": "2024-09-01T06:14:53.189Z"
   },
   {
    "duration": 14,
    "start_time": "2024-09-01T06:15:00.180Z"
   },
   {
    "duration": 345,
    "start_time": "2024-09-01T06:16:00.714Z"
   },
   {
    "duration": 365,
    "start_time": "2024-09-01T06:16:13.842Z"
   },
   {
    "duration": 5,
    "start_time": "2024-09-01T06:17:23.211Z"
   },
   {
    "duration": 421,
    "start_time": "2024-09-01T06:17:46.647Z"
   },
   {
    "duration": 340,
    "start_time": "2024-09-01T06:18:56.219Z"
   },
   {
    "duration": 366,
    "start_time": "2024-09-01T06:19:06.444Z"
   },
   {
    "duration": 334,
    "start_time": "2024-09-01T06:19:15.737Z"
   },
   {
    "duration": 6,
    "start_time": "2024-09-01T06:29:41.232Z"
   },
   {
    "duration": 331,
    "start_time": "2024-09-01T06:29:44.199Z"
   },
   {
    "duration": 254,
    "start_time": "2024-09-01T06:30:21.631Z"
   },
   {
    "duration": 280,
    "start_time": "2024-09-01T06:35:06.369Z"
   },
   {
    "duration": 527,
    "start_time": "2024-09-01T06:35:37.163Z"
   },
   {
    "duration": 369,
    "start_time": "2024-09-01T06:36:45.473Z"
   },
   {
    "duration": 413,
    "start_time": "2024-09-01T06:37:06.353Z"
   },
   {
    "duration": 388,
    "start_time": "2024-09-01T07:02:52.638Z"
   },
   {
    "duration": 398,
    "start_time": "2024-09-01T07:03:42.211Z"
   },
   {
    "duration": 74,
    "start_time": "2024-09-01T07:10:26.805Z"
   },
   {
    "duration": 50,
    "start_time": "2024-09-01T07:15:05.040Z"
   },
   {
    "duration": 36,
    "start_time": "2024-09-01T07:15:16.883Z"
   },
   {
    "duration": 12,
    "start_time": "2024-09-01T07:15:25.955Z"
   },
   {
    "duration": 6,
    "start_time": "2024-09-01T07:21:39.056Z"
   },
   {
    "duration": 7,
    "start_time": "2024-09-01T07:21:56.508Z"
   },
   {
    "duration": 9,
    "start_time": "2024-09-01T07:22:35.294Z"
   },
   {
    "duration": 4,
    "start_time": "2024-09-01T07:23:14.092Z"
   },
   {
    "duration": 2360,
    "start_time": "2024-09-01T07:26:29.332Z"
   },
   {
    "duration": 376,
    "start_time": "2024-09-01T07:26:31.742Z"
   },
   {
    "duration": 184,
    "start_time": "2024-09-01T07:26:35.374Z"
   },
   {
    "duration": 219,
    "start_time": "2024-09-01T07:26:41.722Z"
   },
   {
    "duration": 2388,
    "start_time": "2024-09-01T07:38:21.327Z"
   },
   {
    "duration": 2412,
    "start_time": "2024-09-01T07:39:00.053Z"
   },
   {
    "duration": 330,
    "start_time": "2024-09-01T07:39:03.086Z"
   },
   {
    "duration": 187,
    "start_time": "2024-09-01T07:39:11.027Z"
   },
   {
    "duration": 223,
    "start_time": "2024-09-01T07:39:23.591Z"
   },
   {
    "duration": 1283,
    "start_time": "2024-09-01T08:04:10.821Z"
   },
   {
    "duration": 40,
    "start_time": "2024-09-01T08:04:12.106Z"
   },
   {
    "duration": 12,
    "start_time": "2024-09-01T08:04:12.147Z"
   },
   {
    "duration": 39,
    "start_time": "2024-09-01T08:04:12.160Z"
   },
   {
    "duration": 11,
    "start_time": "2024-09-01T08:04:12.202Z"
   },
   {
    "duration": 20,
    "start_time": "2024-09-01T08:04:12.215Z"
   },
   {
    "duration": 15,
    "start_time": "2024-09-01T08:04:12.237Z"
   },
   {
    "duration": 15,
    "start_time": "2024-09-01T08:04:12.254Z"
   },
   {
    "duration": 11,
    "start_time": "2024-09-01T08:04:12.271Z"
   },
   {
    "duration": 10,
    "start_time": "2024-09-01T08:04:12.283Z"
   },
   {
    "duration": 27,
    "start_time": "2024-09-01T08:04:12.294Z"
   },
   {
    "duration": 20,
    "start_time": "2024-09-01T08:04:12.322Z"
   },
   {
    "duration": 17,
    "start_time": "2024-09-01T08:04:12.344Z"
   },
   {
    "duration": 19,
    "start_time": "2024-09-01T08:04:12.364Z"
   },
   {
    "duration": 36,
    "start_time": "2024-09-01T08:04:12.385Z"
   },
   {
    "duration": 16,
    "start_time": "2024-09-01T08:04:12.423Z"
   },
   {
    "duration": 238,
    "start_time": "2024-09-01T08:04:12.440Z"
   },
   {
    "duration": 100,
    "start_time": "2024-09-01T08:04:12.680Z"
   },
   {
    "duration": 224,
    "start_time": "2024-09-01T08:04:12.782Z"
   },
   {
    "duration": 138,
    "start_time": "2024-09-01T08:04:13.007Z"
   },
   {
    "duration": 5,
    "start_time": "2024-09-01T08:04:13.147Z"
   },
   {
    "duration": 238,
    "start_time": "2024-09-01T08:04:13.153Z"
   },
   {
    "duration": 138,
    "start_time": "2024-09-01T08:04:13.392Z"
   },
   {
    "duration": 14,
    "start_time": "2024-09-01T08:04:13.532Z"
   },
   {
    "duration": 31,
    "start_time": "2024-09-01T08:04:13.548Z"
   },
   {
    "duration": 17,
    "start_time": "2024-09-01T08:04:13.580Z"
   },
   {
    "duration": 48,
    "start_time": "2024-09-01T08:04:13.598Z"
   },
   {
    "duration": 435,
    "start_time": "2024-09-01T08:04:13.648Z"
   },
   {
    "duration": 5,
    "start_time": "2024-09-01T08:04:14.085Z"
   },
   {
    "duration": 345,
    "start_time": "2024-09-01T08:04:14.092Z"
   },
   {
    "duration": 9,
    "start_time": "2024-09-01T08:04:14.439Z"
   },
   {
    "duration": 399,
    "start_time": "2024-09-01T08:04:14.449Z"
   },
   {
    "duration": 345,
    "start_time": "2024-09-01T08:04:14.850Z"
   },
   {
    "duration": 38,
    "start_time": "2024-09-01T08:04:15.196Z"
   },
   {
    "duration": 20,
    "start_time": "2024-09-01T08:04:15.235Z"
   },
   {
    "duration": 10,
    "start_time": "2024-09-01T08:04:15.257Z"
   },
   {
    "duration": 8,
    "start_time": "2024-09-01T08:04:15.268Z"
   },
   {
    "duration": 31,
    "start_time": "2024-09-01T08:04:15.277Z"
   },
   {
    "duration": 35,
    "start_time": "2024-09-01T08:04:15.310Z"
   },
   {
    "duration": 2298,
    "start_time": "2024-09-01T08:04:15.347Z"
   },
   {
    "duration": 476,
    "start_time": "2024-09-01T08:04:17.649Z"
   },
   {
    "duration": 207,
    "start_time": "2024-09-01T08:04:18.126Z"
   },
   {
    "duration": 235,
    "start_time": "2024-09-01T08:04:18.335Z"
   },
   {
    "duration": 233,
    "start_time": "2024-09-01T08:05:49.856Z"
   },
   {
    "duration": 400,
    "start_time": "2024-09-01T08:06:56.324Z"
   },
   {
    "duration": 368,
    "start_time": "2024-09-01T08:07:16.464Z"
   },
   {
    "duration": 213,
    "start_time": "2024-09-01T08:07:29.904Z"
   },
   {
    "duration": 315,
    "start_time": "2024-09-01T08:07:52.021Z"
   },
   {
    "duration": 2348,
    "start_time": "2024-09-01T08:07:58.905Z"
   },
   {
    "duration": 373,
    "start_time": "2024-09-01T08:08:01.255Z"
   },
   {
    "duration": 1220,
    "start_time": "2024-09-01T08:09:44.375Z"
   },
   {
    "duration": 40,
    "start_time": "2024-09-01T08:09:45.597Z"
   },
   {
    "duration": 11,
    "start_time": "2024-09-01T08:09:45.639Z"
   },
   {
    "duration": 70,
    "start_time": "2024-09-01T08:09:45.652Z"
   },
   {
    "duration": 11,
    "start_time": "2024-09-01T08:09:45.724Z"
   },
   {
    "duration": 21,
    "start_time": "2024-09-01T08:09:45.737Z"
   },
   {
    "duration": 10,
    "start_time": "2024-09-01T08:09:45.760Z"
   },
   {
    "duration": 11,
    "start_time": "2024-09-01T08:09:45.771Z"
   },
   {
    "duration": 5,
    "start_time": "2024-09-01T08:09:45.784Z"
   },
   {
    "duration": 6,
    "start_time": "2024-09-01T08:09:45.791Z"
   },
   {
    "duration": 13,
    "start_time": "2024-09-01T08:09:45.798Z"
   },
   {
    "duration": 5,
    "start_time": "2024-09-01T08:09:45.813Z"
   },
   {
    "duration": 31,
    "start_time": "2024-09-01T08:09:45.820Z"
   },
   {
    "duration": 7,
    "start_time": "2024-09-01T08:09:45.853Z"
   },
   {
    "duration": 8,
    "start_time": "2024-09-01T08:09:45.861Z"
   },
   {
    "duration": 5,
    "start_time": "2024-09-01T08:09:45.871Z"
   },
   {
    "duration": 244,
    "start_time": "2024-09-01T08:09:45.878Z"
   },
   {
    "duration": 101,
    "start_time": "2024-09-01T08:09:46.124Z"
   },
   {
    "duration": 264,
    "start_time": "2024-09-01T08:09:46.227Z"
   },
   {
    "duration": 156,
    "start_time": "2024-09-01T08:09:46.493Z"
   },
   {
    "duration": 8,
    "start_time": "2024-09-01T08:09:46.651Z"
   },
   {
    "duration": 258,
    "start_time": "2024-09-01T08:09:46.661Z"
   },
   {
    "duration": 153,
    "start_time": "2024-09-01T08:09:46.921Z"
   },
   {
    "duration": 5,
    "start_time": "2024-09-01T08:09:47.075Z"
   },
   {
    "duration": 71,
    "start_time": "2024-09-01T08:09:47.082Z"
   },
   {
    "duration": 18,
    "start_time": "2024-09-01T08:09:47.155Z"
   },
   {
    "duration": 14,
    "start_time": "2024-09-01T08:09:47.175Z"
   },
   {
    "duration": 454,
    "start_time": "2024-09-01T08:09:47.192Z"
   },
   {
    "duration": 7,
    "start_time": "2024-09-01T08:09:47.648Z"
   },
   {
    "duration": 380,
    "start_time": "2024-09-01T08:09:47.657Z"
   },
   {
    "duration": 11,
    "start_time": "2024-09-01T08:09:48.038Z"
   },
   {
    "duration": 423,
    "start_time": "2024-09-01T08:09:48.051Z"
   },
   {
    "duration": 415,
    "start_time": "2024-09-01T08:09:48.476Z"
   },
   {
    "duration": 54,
    "start_time": "2024-09-01T08:09:48.893Z"
   },
   {
    "duration": 12,
    "start_time": "2024-09-01T08:09:48.948Z"
   },
   {
    "duration": 6,
    "start_time": "2024-09-01T08:09:48.961Z"
   },
   {
    "duration": 18,
    "start_time": "2024-09-01T08:09:48.968Z"
   },
   {
    "duration": 11,
    "start_time": "2024-09-01T08:09:48.988Z"
   },
   {
    "duration": 15,
    "start_time": "2024-09-01T08:09:49.000Z"
   },
   {
    "duration": 2426,
    "start_time": "2024-09-01T08:09:49.016Z"
   },
   {
    "duration": 545,
    "start_time": "2024-09-01T08:09:51.444Z"
   },
   {
    "duration": 199,
    "start_time": "2024-09-01T08:09:51.991Z"
   },
   {
    "duration": 230,
    "start_time": "2024-09-01T08:09:52.192Z"
   },
   {
    "duration": 1305,
    "start_time": "2024-09-01T12:22:11.434Z"
   },
   {
    "duration": 129,
    "start_time": "2024-09-01T12:22:12.740Z"
   },
   {
    "duration": 15,
    "start_time": "2024-09-01T12:22:12.870Z"
   },
   {
    "duration": 233,
    "start_time": "2024-09-01T12:22:12.887Z"
   },
   {
    "duration": 11,
    "start_time": "2024-09-01T12:22:13.122Z"
   },
   {
    "duration": 90,
    "start_time": "2024-09-01T12:22:13.134Z"
   },
   {
    "duration": 13,
    "start_time": "2024-09-01T12:22:13.226Z"
   },
   {
    "duration": 14,
    "start_time": "2024-09-01T12:22:13.241Z"
   },
   {
    "duration": 8,
    "start_time": "2024-09-01T12:22:13.257Z"
   },
   {
    "duration": 6,
    "start_time": "2024-09-01T12:22:13.267Z"
   },
   {
    "duration": 22,
    "start_time": "2024-09-01T12:22:13.274Z"
   },
   {
    "duration": 6,
    "start_time": "2024-09-01T12:22:13.299Z"
   },
   {
    "duration": 7,
    "start_time": "2024-09-01T12:22:13.307Z"
   },
   {
    "duration": 8,
    "start_time": "2024-09-01T12:22:13.316Z"
   },
   {
    "duration": 11,
    "start_time": "2024-09-01T12:22:13.325Z"
   },
   {
    "duration": 6,
    "start_time": "2024-09-01T12:22:13.337Z"
   },
   {
    "duration": 247,
    "start_time": "2024-09-01T12:22:13.345Z"
   },
   {
    "duration": 97,
    "start_time": "2024-09-01T12:22:13.594Z"
   },
   {
    "duration": 207,
    "start_time": "2024-09-01T12:22:13.693Z"
   },
   {
    "duration": 123,
    "start_time": "2024-09-01T12:22:13.902Z"
   },
   {
    "duration": 5,
    "start_time": "2024-09-01T12:22:14.027Z"
   },
   {
    "duration": 202,
    "start_time": "2024-09-01T12:22:14.033Z"
   },
   {
    "duration": 146,
    "start_time": "2024-09-01T12:22:14.236Z"
   },
   {
    "duration": 9,
    "start_time": "2024-09-01T12:22:14.384Z"
   },
   {
    "duration": 28,
    "start_time": "2024-09-01T12:22:14.395Z"
   },
   {
    "duration": 15,
    "start_time": "2024-09-01T12:22:14.424Z"
   },
   {
    "duration": 59,
    "start_time": "2024-09-01T12:22:14.441Z"
   },
   {
    "duration": 392,
    "start_time": "2024-09-01T12:22:14.503Z"
   },
   {
    "duration": 5,
    "start_time": "2024-09-01T12:22:14.897Z"
   },
   {
    "duration": 340,
    "start_time": "2024-09-01T12:22:14.904Z"
   },
   {
    "duration": 5,
    "start_time": "2024-09-01T12:22:15.246Z"
   },
   {
    "duration": 385,
    "start_time": "2024-09-01T12:22:15.253Z"
   },
   {
    "duration": 366,
    "start_time": "2024-09-01T12:22:15.639Z"
   },
   {
    "duration": 36,
    "start_time": "2024-09-01T12:22:16.006Z"
   },
   {
    "duration": 12,
    "start_time": "2024-09-01T12:22:16.043Z"
   },
   {
    "duration": 18,
    "start_time": "2024-09-01T12:22:16.057Z"
   },
   {
    "duration": 5,
    "start_time": "2024-09-01T12:22:16.089Z"
   },
   {
    "duration": 32,
    "start_time": "2024-09-01T12:22:16.095Z"
   },
   {
    "duration": 12,
    "start_time": "2024-09-01T12:22:16.129Z"
   },
   {
    "duration": 2128,
    "start_time": "2024-09-01T12:22:16.143Z"
   },
   {
    "duration": 507,
    "start_time": "2024-09-01T12:22:18.273Z"
   },
   {
    "duration": 186,
    "start_time": "2024-09-01T12:22:18.782Z"
   },
   {
    "duration": 222,
    "start_time": "2024-09-01T12:22:18.970Z"
   },
   {
    "duration": 77,
    "start_time": "2024-09-01T18:38:13.031Z"
   },
   {
    "duration": 1387,
    "start_time": "2024-09-01T18:39:47.176Z"
   },
   {
    "duration": 85,
    "start_time": "2024-09-01T18:39:48.566Z"
   },
   {
    "duration": 12,
    "start_time": "2024-09-01T18:39:48.652Z"
   },
   {
    "duration": 166,
    "start_time": "2024-09-01T18:39:48.666Z"
   },
   {
    "duration": 13,
    "start_time": "2024-09-01T18:39:48.833Z"
   },
   {
    "duration": 74,
    "start_time": "2024-09-01T18:39:48.848Z"
   },
   {
    "duration": 11,
    "start_time": "2024-09-01T18:39:48.924Z"
   },
   {
    "duration": 10,
    "start_time": "2024-09-01T18:39:49.234Z"
   },
   {
    "duration": 6,
    "start_time": "2024-09-01T18:39:49.606Z"
   },
   {
    "duration": 9,
    "start_time": "2024-09-01T18:39:49.994Z"
   },
   {
    "duration": 7,
    "start_time": "2024-09-01T18:39:50.197Z"
   },
   {
    "duration": 6,
    "start_time": "2024-09-01T18:39:50.393Z"
   },
   {
    "duration": 8,
    "start_time": "2024-09-01T18:39:50.952Z"
   },
   {
    "duration": 9,
    "start_time": "2024-09-01T18:39:51.318Z"
   },
   {
    "duration": 12,
    "start_time": "2024-09-01T18:39:51.496Z"
   },
   {
    "duration": 7,
    "start_time": "2024-09-01T18:39:51.693Z"
   },
   {
    "duration": 244,
    "start_time": "2024-09-01T18:39:53.018Z"
   },
   {
    "duration": 86,
    "start_time": "2024-09-01T18:39:54.254Z"
   },
   {
    "duration": 231,
    "start_time": "2024-09-01T18:39:55.808Z"
   },
   {
    "duration": 120,
    "start_time": "2024-09-01T18:39:57.092Z"
   },
   {
    "duration": 5,
    "start_time": "2024-09-01T18:39:57.640Z"
   },
   {
    "duration": 240,
    "start_time": "2024-09-01T18:40:07.749Z"
   },
   {
    "duration": 137,
    "start_time": "2024-09-01T18:40:09.266Z"
   },
   {
    "duration": 5,
    "start_time": "2024-09-01T18:40:09.778Z"
   },
   {
    "duration": 34,
    "start_time": "2024-09-01T18:40:13.948Z"
   },
   {
    "duration": 18,
    "start_time": "2024-09-01T18:40:24.343Z"
   },
   {
    "duration": 16,
    "start_time": "2024-09-01T18:40:24.967Z"
   },
   {
    "duration": 425,
    "start_time": "2024-09-01T18:40:26.228Z"
   },
   {
    "duration": 367,
    "start_time": "2024-09-01T18:40:28.285Z"
   },
   {
    "duration": 352,
    "start_time": "2024-09-01T18:40:40.637Z"
   },
   {
    "duration": 358,
    "start_time": "2024-09-01T18:44:52.153Z"
   },
   {
    "duration": 355,
    "start_time": "2024-09-01T18:45:12.065Z"
   },
   {
    "duration": 444,
    "start_time": "2024-09-01T18:46:06.989Z"
   },
   {
    "duration": 332,
    "start_time": "2024-09-01T18:46:17.868Z"
   },
   {
    "duration": 343,
    "start_time": "2024-09-01T18:46:33.224Z"
   },
   {
    "duration": 342,
    "start_time": "2024-09-01T18:47:20.459Z"
   },
   {
    "duration": 356,
    "start_time": "2024-09-01T18:47:37.001Z"
   },
   {
    "duration": 341,
    "start_time": "2024-09-01T18:47:47.444Z"
   },
   {
    "duration": 145,
    "start_time": "2024-09-01T18:50:17.746Z"
   },
   {
    "duration": 44,
    "start_time": "2024-09-01T18:50:32.320Z"
   },
   {
    "duration": 10,
    "start_time": "2024-09-01T18:54:35.075Z"
   },
   {
    "duration": 38,
    "start_time": "2024-09-01T18:56:45.089Z"
   },
   {
    "duration": 11,
    "start_time": "2024-09-01T18:58:12.462Z"
   },
   {
    "duration": 38,
    "start_time": "2024-09-01T18:58:17.274Z"
   },
   {
    "duration": 13,
    "start_time": "2024-09-01T18:58:34.460Z"
   },
   {
    "duration": 37,
    "start_time": "2024-09-01T18:58:44.805Z"
   },
   {
    "duration": 12,
    "start_time": "2024-09-01T19:02:25.853Z"
   },
   {
    "duration": 38,
    "start_time": "2024-09-01T19:02:28.930Z"
   },
   {
    "duration": 5,
    "start_time": "2024-09-01T19:02:39.336Z"
   },
   {
    "duration": 53,
    "start_time": "2024-09-01T19:02:40.714Z"
   },
   {
    "duration": 52,
    "start_time": "2024-09-03T06:34:11.685Z"
   },
   {
    "duration": 8,
    "start_time": "2024-09-03T06:34:36.714Z"
   },
   {
    "duration": 1478,
    "start_time": "2024-09-03T06:34:52.874Z"
   },
   {
    "duration": 129,
    "start_time": "2024-09-03T06:34:54.355Z"
   },
   {
    "duration": 12,
    "start_time": "2024-09-03T06:34:54.485Z"
   },
   {
    "duration": 209,
    "start_time": "2024-09-03T06:34:54.499Z"
   },
   {
    "duration": 16,
    "start_time": "2024-09-03T06:34:54.710Z"
   },
   {
    "duration": 92,
    "start_time": "2024-09-03T06:34:54.728Z"
   },
   {
    "duration": 11,
    "start_time": "2024-09-03T06:34:54.821Z"
   },
   {
    "duration": 9,
    "start_time": "2024-09-03T06:34:54.834Z"
   },
   {
    "duration": 6,
    "start_time": "2024-09-03T06:34:54.845Z"
   },
   {
    "duration": 10,
    "start_time": "2024-09-03T06:34:54.855Z"
   },
   {
    "duration": 6,
    "start_time": "2024-09-03T06:34:54.868Z"
   },
   {
    "duration": 5,
    "start_time": "2024-09-03T06:34:54.875Z"
   },
   {
    "duration": 5,
    "start_time": "2024-09-03T06:34:54.882Z"
   },
   {
    "duration": 5,
    "start_time": "2024-09-03T06:34:54.889Z"
   },
   {
    "duration": 8,
    "start_time": "2024-09-03T06:34:54.895Z"
   },
   {
    "duration": 5,
    "start_time": "2024-09-03T06:34:54.904Z"
   },
   {
    "duration": 264,
    "start_time": "2024-09-03T06:34:54.910Z"
   },
   {
    "duration": 106,
    "start_time": "2024-09-03T06:34:55.175Z"
   },
   {
    "duration": 247,
    "start_time": "2024-09-03T06:34:55.282Z"
   },
   {
    "duration": 144,
    "start_time": "2024-09-03T06:34:55.530Z"
   },
   {
    "duration": 6,
    "start_time": "2024-09-03T06:34:55.676Z"
   },
   {
    "duration": 241,
    "start_time": "2024-09-03T06:34:55.684Z"
   },
   {
    "duration": 147,
    "start_time": "2024-09-03T06:34:55.927Z"
   },
   {
    "duration": 6,
    "start_time": "2024-09-03T06:34:56.076Z"
   },
   {
    "duration": 29,
    "start_time": "2024-09-03T06:34:56.084Z"
   },
   {
    "duration": 48,
    "start_time": "2024-09-03T06:34:56.114Z"
   },
   {
    "duration": 15,
    "start_time": "2024-09-03T06:34:56.164Z"
   },
   {
    "duration": 461,
    "start_time": "2024-09-03T06:34:56.182Z"
   },
   {
    "duration": 5,
    "start_time": "2024-09-03T06:34:56.645Z"
   },
   {
    "duration": 375,
    "start_time": "2024-09-03T06:34:56.658Z"
   },
   {
    "duration": 5,
    "start_time": "2024-09-03T06:34:57.034Z"
   },
   {
    "duration": 444,
    "start_time": "2024-09-03T06:34:57.041Z"
   },
   {
    "duration": 398,
    "start_time": "2024-09-03T06:34:57.488Z"
   },
   {
    "duration": 4,
    "start_time": "2024-09-03T06:34:57.888Z"
   },
   {
    "duration": 36,
    "start_time": "2024-09-03T06:34:57.893Z"
   },
   {
    "duration": 28,
    "start_time": "2024-09-03T06:34:57.930Z"
   },
   {
    "duration": 8,
    "start_time": "2024-09-03T06:34:57.961Z"
   },
   {
    "duration": 5,
    "start_time": "2024-09-03T06:34:57.971Z"
   },
   {
    "duration": 8,
    "start_time": "2024-09-03T06:34:57.978Z"
   },
   {
    "duration": 10,
    "start_time": "2024-09-03T06:34:57.988Z"
   },
   {
    "duration": 2600,
    "start_time": "2024-09-03T06:34:57.999Z"
   },
   {
    "duration": 534,
    "start_time": "2024-09-03T06:35:00.600Z"
   },
   {
    "duration": 205,
    "start_time": "2024-09-03T06:35:01.135Z"
   },
   {
    "duration": 247,
    "start_time": "2024-09-03T06:35:01.342Z"
   },
   {
    "duration": 1441,
    "start_time": "2024-09-09T07:16:33.018Z"
   },
   {
    "duration": 119,
    "start_time": "2024-09-09T07:16:34.461Z"
   },
   {
    "duration": 12,
    "start_time": "2024-09-09T07:16:34.582Z"
   },
   {
    "duration": 224,
    "start_time": "2024-09-09T07:16:34.597Z"
   },
   {
    "duration": 12,
    "start_time": "2024-09-09T07:16:34.823Z"
   },
   {
    "duration": 79,
    "start_time": "2024-09-09T07:16:34.836Z"
   },
   {
    "duration": 11,
    "start_time": "2024-09-09T07:16:34.917Z"
   },
   {
    "duration": 16,
    "start_time": "2024-09-09T07:16:34.931Z"
   },
   {
    "duration": 7,
    "start_time": "2024-09-09T07:16:34.949Z"
   },
   {
    "duration": 16,
    "start_time": "2024-09-09T07:16:34.959Z"
   },
   {
    "duration": 28,
    "start_time": "2024-09-09T07:16:34.977Z"
   },
   {
    "duration": 7,
    "start_time": "2024-09-09T07:16:35.007Z"
   },
   {
    "duration": 11,
    "start_time": "2024-09-09T07:16:35.017Z"
   },
   {
    "duration": 10,
    "start_time": "2024-09-09T07:16:35.029Z"
   },
   {
    "duration": 9,
    "start_time": "2024-09-09T07:16:35.040Z"
   },
   {
    "duration": 6,
    "start_time": "2024-09-09T07:16:35.050Z"
   },
   {
    "duration": 248,
    "start_time": "2024-09-09T07:16:35.057Z"
   },
   {
    "duration": 128,
    "start_time": "2024-09-09T07:16:35.306Z"
   },
   {
    "duration": 259,
    "start_time": "2024-09-09T07:16:35.436Z"
   },
   {
    "duration": 137,
    "start_time": "2024-09-09T07:16:35.704Z"
   },
   {
    "duration": 6,
    "start_time": "2024-09-09T07:16:35.843Z"
   },
   {
    "duration": 286,
    "start_time": "2024-09-09T07:16:35.850Z"
   },
   {
    "duration": 153,
    "start_time": "2024-09-09T07:16:36.138Z"
   },
   {
    "duration": 13,
    "start_time": "2024-09-09T07:16:36.293Z"
   },
   {
    "duration": 40,
    "start_time": "2024-09-09T07:16:36.308Z"
   },
   {
    "duration": 17,
    "start_time": "2024-09-09T07:16:36.350Z"
   },
   {
    "duration": 59,
    "start_time": "2024-09-09T07:16:36.369Z"
   },
   {
    "duration": 428,
    "start_time": "2024-09-09T07:16:36.431Z"
   },
   {
    "duration": 6,
    "start_time": "2024-09-09T07:16:36.860Z"
   },
   {
    "duration": 370,
    "start_time": "2024-09-09T07:16:36.868Z"
   },
   {
    "duration": 6,
    "start_time": "2024-09-09T07:16:37.239Z"
   },
   {
    "duration": 443,
    "start_time": "2024-09-09T07:16:37.247Z"
   },
   {
    "duration": 350,
    "start_time": "2024-09-09T07:16:37.692Z"
   },
   {
    "duration": 4,
    "start_time": "2024-09-09T07:16:38.044Z"
   },
   {
    "duration": 50,
    "start_time": "2024-09-09T07:16:38.049Z"
   },
   {
    "duration": 13,
    "start_time": "2024-09-09T07:16:38.105Z"
   },
   {
    "duration": 7,
    "start_time": "2024-09-09T07:16:38.120Z"
   },
   {
    "duration": 8,
    "start_time": "2024-09-09T07:16:38.129Z"
   },
   {
    "duration": 12,
    "start_time": "2024-09-09T07:16:38.138Z"
   },
   {
    "duration": 12,
    "start_time": "2024-09-09T07:16:38.151Z"
   },
   {
    "duration": 2365,
    "start_time": "2024-09-09T07:16:38.165Z"
   },
   {
    "duration": 559,
    "start_time": "2024-09-09T07:16:40.532Z"
   },
   {
    "duration": 214,
    "start_time": "2024-09-09T07:16:41.093Z"
   },
   {
    "duration": 241,
    "start_time": "2024-09-09T07:16:41.309Z"
   },
   {
    "duration": 57,
    "start_time": "2024-09-12T08:09:04.252Z"
   }
  ],
  "kernelspec": {
   "display_name": "Python 3 (ipykernel)",
   "language": "python",
   "name": "python3"
  },
  "language_info": {
   "codemirror_mode": {
    "name": "ipython",
    "version": 3
   },
   "file_extension": ".py",
   "mimetype": "text/x-python",
   "name": "python",
   "nbconvert_exporter": "python",
   "pygments_lexer": "ipython3",
   "version": "3.12.4"
  },
  "toc": {
   "base_numbering": 1,
   "nav_menu": {},
   "number_sections": true,
   "sideBar": true,
   "skip_h1_title": true,
   "title_cell": "Table of Contents",
   "title_sidebar": "Contents",
   "toc_cell": false,
   "toc_position": {},
   "toc_section_display": true,
   "toc_window_display": false
  }
 },
 "nbformat": 4,
 "nbformat_minor": 5
}
